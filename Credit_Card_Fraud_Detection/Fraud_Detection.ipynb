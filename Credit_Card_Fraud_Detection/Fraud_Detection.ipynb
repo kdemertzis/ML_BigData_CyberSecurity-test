{
  "nbformat": 4,
  "nbformat_minor": 0,
  "metadata": {
    "kernelspec": {
      "display_name": "Python 3",
      "language": "python",
      "name": "python3"
    },
    "language_info": {
      "codemirror_mode": {
        "name": "ipython",
        "version": 3
      },
      "file_extension": ".py",
      "mimetype": "text/x-python",
      "name": "python",
      "nbconvert_exporter": "python",
      "pygments_lexer": "ipython3",
      "version": "3.6.1"
    },
    "colab": {
      "name": "fraud_detection.ipynb",
      "provenance": [],
      "include_colab_link": true
    }
  },
  "cells": [
    {
      "cell_type": "markdown",
      "metadata": {
        "id": "view-in-github",
        "colab_type": "text"
      },
      "source": [
        "<a href=\"https://colab.research.google.com/github/kdemertzis/ML_BigData_CyberSecurity-test/blob/master/Credit_Card_Fraud_Detection/Fraud_Detection.ipynb\" target=\"_parent\"><img src=\"https://colab.research.google.com/assets/colab-badge.svg\" alt=\"Open In Colab\"/></a>"
      ]
    },
    {
      "cell_type": "markdown",
      "metadata": {
        "id": "pmzRI7Zolo73"
      },
      "source": [
        "# Intro\n",
        "\n",
        "We will train an Autoencoder Neural Network (implemented in Keras) in unsupervised (or semi-supervised) fashion for Anomaly Detection in credit card transaction data. The trained model will be evaluated on pre-labeled and anonymized dataset.\n",
        "\n",
        "![](https://miro.medium.com/max/700/1*44eDEuZBEsmG_TCAKRI3Kw@2x.png) \n",
        "\n",
        "# Setup\n",
        "\n",
        "We will be using TensorFlow 1.2 and Keras 2.0.4. Let's begin:"
      ]
    },
    {
      "cell_type": "code",
      "metadata": {
        "id": "ilEoZFfAlo75"
      },
      "source": [
        "import pandas as pd\n",
        "import numpy as np\n",
        "import pickle\n",
        "import matplotlib.pyplot as plt\n",
        "from scipy import stats\n",
        "import tensorflow as tf\n",
        "import seaborn as sns\n",
        "from pylab import rcParams\n",
        "from sklearn.model_selection import train_test_split\n",
        "from keras.models import Model, load_model\n",
        "from keras.layers import Input, Dense\n",
        "from keras.callbacks import ModelCheckpoint, TensorBoard\n",
        "from keras import regularizers\n",
        "\n",
        "%matplotlib inline\n",
        "\n",
        "sns.set(style='whitegrid', palette='muted', font_scale=1.5)\n",
        "\n",
        "rcParams['figure.figsize'] = 14, 8\n",
        "\n",
        "RANDOM_SEED = 42\n",
        "LABELS = [\"Normal\", \"Fraud\"]"
      ],
      "execution_count": 1,
      "outputs": []
    },
    {
      "cell_type": "markdown",
      "metadata": {
        "id": "xAt7tHnmlo76"
      },
      "source": [
        "# Loading the data\n",
        "\n",
        "The dataset we're going to use can be downloaded from [Kaggle](https://www.kaggle.com/dalpozz/creditcardfraud). It contains data about credit card transactions that occurred during a period of two days, with 492 frauds out of 284,807 transactions.\n",
        "\n",
        "All variables in the dataset are numerical. The data has been transformed using PCA transformation(s) due to privacy reasons. The two features that haven't been changed are Time and Amount. Time contains the seconds elapsed between each transaction and the first transaction in the dataset."
      ]
    },
    {
      "cell_type": "code",
      "metadata": {
        "collapsed": true,
        "id": "M6uKVQpjlo77"
      },
      "source": [
        "df = pd.read_csv(\"https://raw.githubusercontent.com/nsethi31/Kaggle-Data-Credit-Card-Fraud-Detection/master/creditcard.csv\")"
      ],
      "execution_count": 2,
      "outputs": []
    },
    {
      "cell_type": "markdown",
      "metadata": {
        "id": "Uuo6LclBlo77"
      },
      "source": [
        "# Exploration"
      ]
    },
    {
      "cell_type": "code",
      "metadata": {
        "id": "8y_gNMB1lo77",
        "outputId": "8951be85-b683-4954-b09d-19c99f0edaad",
        "colab": {
          "base_uri": "https://localhost:8080/"
        }
      },
      "source": [
        "df.shape"
      ],
      "execution_count": 3,
      "outputs": [
        {
          "output_type": "execute_result",
          "data": {
            "text/plain": [
              "(284807, 31)"
            ]
          },
          "metadata": {},
          "execution_count": 3
        }
      ]
    },
    {
      "cell_type": "markdown",
      "metadata": {
        "id": "zFtoMTPVlo77"
      },
      "source": [
        "31 columns, 2 of which are Time and Amount. The rest are output from the PCA transformation. Let's check for missing values:"
      ]
    },
    {
      "cell_type": "code",
      "metadata": {
        "id": "N19Bf2RZlo78",
        "outputId": "f38036cc-4af4-4a76-88c1-686cefc66c1c",
        "colab": {
          "base_uri": "https://localhost:8080/"
        }
      },
      "source": [
        "df.isnull().values.any()"
      ],
      "execution_count": 4,
      "outputs": [
        {
          "output_type": "execute_result",
          "data": {
            "text/plain": [
              "False"
            ]
          },
          "metadata": {},
          "execution_count": 4
        }
      ]
    },
    {
      "cell_type": "code",
      "metadata": {
        "id": "2XwQyEnPlo78",
        "outputId": "d6d139f4-c68d-4bf6-ad05-00af17aae6fb",
        "colab": {
          "base_uri": "https://localhost:8080/",
          "height": 318
        }
      },
      "source": [
        "count_classes = pd.value_counts(df['Class'], sort = True)\n",
        "count_classes.plot(kind = 'bar', rot=0)\n",
        "plt.title(\"Transaction class distribution\")\n",
        "plt.xticks(range(2), LABELS)\n",
        "plt.xlabel(\"Class\")\n",
        "plt.ylabel(\"Frequency\");"
      ],
      "execution_count": 5,
      "outputs": [
        {
          "output_type": "display_data",
          "data": {
            "image/png": "[encoded data removed]",
            "text/plain": [
              "<Figure size 432x288 with 1 Axes>"
            ]
          },
          "metadata": {
            "needs_background": "light"
          }
        }
      ]
    },
    {
      "cell_type": "markdown",
      "metadata": {
        "id": "n1F5ihUplo78"
      },
      "source": [
        "We have a highly imbalanced dataset on our hands. Normal transactions overwhelm the fraudulent ones by a large margin. Let's look at the two types of transactions: "
      ]
    },
    {
      "cell_type": "code",
      "metadata": {
        "collapsed": true,
        "id": "F4j39LQLlo78"
      },
      "source": [
        "frauds = df[df.Class == 1]\n",
        "normal = df[df.Class == 0]"
      ],
      "execution_count": 6,
      "outputs": []
    },
    {
      "cell_type": "code",
      "metadata": {
        "id": "twsdH4n3lo79",
        "outputId": "32c29368-0d71-4c25-8857-2993e83f2f94",
        "colab": {
          "base_uri": "https://localhost:8080/"
        }
      },
      "source": [
        "frauds.shape"
      ],
      "execution_count": 7,
      "outputs": [
        {
          "output_type": "execute_result",
          "data": {
            "text/plain": [
              "(492, 31)"
            ]
          },
          "metadata": {},
          "execution_count": 7
        }
      ]
    },
    {
      "cell_type": "code",
      "metadata": {
        "id": "8DM_8E8Plo79",
        "outputId": "53f9e56a-cb81-493e-b904-702c68411505",
        "colab": {
          "base_uri": "https://localhost:8080/"
        }
      },
      "source": [
        "normal.shape"
      ],
      "execution_count": 8,
      "outputs": [
        {
          "output_type": "execute_result",
          "data": {
            "text/plain": [
              "(284315, 31)"
            ]
          },
          "metadata": {},
          "execution_count": 8
        }
      ]
    },
    {
      "cell_type": "markdown",
      "metadata": {
        "id": "bcaQt_B6lo79"
      },
      "source": [
        "How different are the amount of money used in different transaction classes?"
      ]
    },
    {
      "cell_type": "code",
      "metadata": {
        "id": "Jomg8sbdlo79",
        "outputId": "e559a010-4fab-4bae-9fed-66f9b8e01d6e",
        "colab": {
          "base_uri": "https://localhost:8080/"
        }
      },
      "source": [
        "frauds.Amount.describe()"
      ],
      "execution_count": 9,
      "outputs": [
        {
          "output_type": "execute_result",
          "data": {
            "text/plain": [
              "count     492.000000\n",
              "mean      122.211321\n",
              "std       256.683288\n",
              "min         0.000000\n",
              "25%         1.000000\n",
              "50%         9.250000\n",
              "75%       105.890000\n",
              "max      2125.870000\n",
              "Name: Amount, dtype: float64"
            ]
          },
          "metadata": {},
          "execution_count": 9
        }
      ]
    },
    {
      "cell_type": "code",
      "metadata": {
        "scrolled": true,
        "id": "iKCIw9C_lo79",
        "outputId": "3f0224bf-d6b3-4cc3-e38f-fc208aecb9c6",
        "colab": {
          "base_uri": "https://localhost:8080/"
        }
      },
      "source": [
        "normal.Amount.describe()"
      ],
      "execution_count": 10,
      "outputs": [
        {
          "output_type": "execute_result",
          "data": {
            "text/plain": [
              "count    284315.000000\n",
              "mean         88.291022\n",
              "std         250.105092\n",
              "min           0.000000\n",
              "25%           5.650000\n",
              "50%          22.000000\n",
              "75%          77.050000\n",
              "max       25691.160000\n",
              "Name: Amount, dtype: float64"
            ]
          },
          "metadata": {},
          "execution_count": 10
        }
      ]
    },
    {
      "cell_type": "markdown",
      "metadata": {
        "id": "lSCOy1QHlo7-"
      },
      "source": [
        "Let's have a more graphical representation:"
      ]
    },
    {
      "cell_type": "code",
      "metadata": {
        "id": "gtR5p61klo7-",
        "outputId": "6441f566-0b5b-4472-ab7a-087693f2d703",
        "colab": {
          "base_uri": "https://localhost:8080/",
          "height": 335
        }
      },
      "source": [
        "f, (ax1, ax2) = plt.subplots(2, 1, sharex=True)\n",
        "f.suptitle('Amount per transaction by class')\n",
        "\n",
        "bins = 50\n",
        "\n",
        "ax1.hist(frauds.Amount, bins = bins)\n",
        "ax1.set_title('Fraud')\n",
        "\n",
        "ax2.hist(normal.Amount, bins = bins)\n",
        "ax2.set_title('Normal')\n",
        "\n",
        "plt.xlabel('Amount ($)')\n",
        "plt.ylabel('Number of Transactions')\n",
        "plt.xlim((0, 20000))\n",
        "plt.yscale('log')\n",
        "plt.show();"
      ],
      "execution_count": 11,
      "outputs": [
        {
          "output_type": "display_data",
          "data": {
            "image/png": "[encoded data removed]",
            "text/plain": [
              "<Figure size 432x288 with 2 Axes>"
            ]
          },
          "metadata": {
            "needs_background": "light"
          }
        }
      ]
    },
    {
      "cell_type": "markdown",
      "metadata": {
        "id": "uEVOMt7nlo7-"
      },
      "source": [
        "Do fraudulent transactions occur more often during certain time?"
      ]
    },
    {
      "cell_type": "code",
      "metadata": {
        "id": "Em-5Wq30lo7-",
        "outputId": "14211ed5-2ff5-4be3-b030-d841661b8835",
        "colab": {
          "base_uri": "https://localhost:8080/",
          "height": 327
        }
      },
      "source": [
        "f, (ax1, ax2) = plt.subplots(2, 1, sharex=True)\n",
        "f.suptitle('Time of transaction vs Amount by class')\n",
        "\n",
        "ax1.scatter(frauds.Time, frauds.Amount)\n",
        "ax1.set_title('Fraud')\n",
        "\n",
        "ax2.scatter(normal.Time, normal.Amount)\n",
        "ax2.set_title('Normal')\n",
        "\n",
        "plt.xlabel('Time (in Seconds)')\n",
        "plt.ylabel('Amount')\n",
        "plt.show()"
      ],
      "execution_count": 12,
      "outputs": [
        {
          "output_type": "display_data",
          "data": {
            "image/png": "[encoded data removed]",
            "text/plain": [
              "<Figure size 432x288 with 2 Axes>"
            ]
          },
          "metadata": {
            "needs_background": "light"
          }
        }
      ]
    },
    {
      "cell_type": "markdown",
      "metadata": {
        "id": "hPUt7V2Tlo7_"
      },
      "source": [
        "Doesn't seem like the time of transaction really matters.\n",
        "\n",
        "# Autoencoders\n",
        "\n",
        "Autoencoders can seem quite bizarre at first. The job of those models is to predict the input, given that same input. Puzzling? Definitely was for me, the first time I heard it.\n",
        "\n",
        "More specifically, let’s take a look at Autoencoder Neural Networks. This autoencoder tries to learn to approximate the following identity function:\n",
        "\n",
        "$$\\textstyle f_{W,b}(x) \\approx x$$\n",
        "\n",
        "While trying to do just that might sound trivial at first, it is important to note that we want to learn a compressed representation of the data, thus find structure. This can be done by limiting the number of hidden units in the model. Those kind of autoencoders are called *undercomplete*.\n",
        "\n",
        "Here's a visual representation of what an Autoencoder might learn:\n",
        "\n",
        "![](http://curiousily.com/assets/12.what_to_do_when_data_is_missing_part_ii_files/mushroom_encoder.png)\n",
        "\n",
        "## Reconstruction error\n",
        "\n",
        "We optimize the parameters of our Autoencoder model in such way that a special kind of error - reconstruction error is minimized. In practice, the traditional squared error is often used:\n",
        "\n",
        "$$\\textstyle L(x,x') = ||\\, x - x'||^2$$\n",
        "\n",
        "If you want to learn more about Autoencoders I highly recommend the following videos by Hugo Larochelle:\n",
        "\n",
        "<iframe width=\"100%\" height=\"480\" src=\"https://www.youtube.com/embed/FzS3tMl4Nsc\" frameborder=\"0\" allowfullscreen></iframe>"
      ]
    },
    {
      "cell_type": "markdown",
      "metadata": {
        "id": "g6PF8l-plo8E"
      },
      "source": [
        "# Preparing the data\n",
        "\n",
        "First, let's drop the Time column (not going to use it) and use the scikit's StandardScaler on the Amount. The scaler removes the mean and scales the values to unit variance:"
      ]
    },
    {
      "cell_type": "code",
      "metadata": {
        "collapsed": true,
        "id": "NbPBWoDjlo8E"
      },
      "source": [
        "from sklearn.preprocessing import StandardScaler\n",
        "\n",
        "data = df.drop(['Time'], axis=1)\n",
        "\n",
        "data['Amount'] = StandardScaler().fit_transform(data['Amount'].values.reshape(-1, 1))"
      ],
      "execution_count": 13,
      "outputs": []
    },
    {
      "cell_type": "markdown",
      "metadata": {
        "id": "jP3D89S5lo8F"
      },
      "source": [
        "Training our Autoencoder is gonna be a bit different from what we are used to. Let's say you have a dataset containing a lot of non fraudulent transactions at hand. You want to detect any anomaly on new transactions. We will create this situation by training our model on the normal transactions, only. Reserving the correct class on the test set will give us a way to evaluate the performance of our model. We will reserve 20% of our data for testing:"
      ]
    },
    {
      "cell_type": "code",
      "metadata": {
        "collapsed": true,
        "id": "o8ONTbM7lo8F"
      },
      "source": [
        "X_train, X_test = train_test_split(data, test_size=0.2, random_state=RANDOM_SEED)\n",
        "X_train = X_train[X_train.Class == 0]\n",
        "X_train = X_train.drop(['Class'], axis=1)\n",
        "\n",
        "y_test = X_test['Class']\n",
        "X_test = X_test.drop(['Class'], axis=1)\n",
        "\n",
        "X_train = X_train.values\n",
        "X_test = X_test.values"
      ],
      "execution_count": 14,
      "outputs": []
    },
    {
      "cell_type": "code",
      "metadata": {
        "id": "WL2ByVuLlo8F",
        "outputId": "f2f6b601-a5c0-4ed2-a6de-c28f9c5c6fc5",
        "colab": {
          "base_uri": "https://localhost:8080/"
        }
      },
      "source": [
        "X_train.shape"
      ],
      "execution_count": 15,
      "outputs": [
        {
          "output_type": "execute_result",
          "data": {
            "text/plain": [
              "(227451, 29)"
            ]
          },
          "metadata": {},
          "execution_count": 15
        }
      ]
    },
    {
      "cell_type": "markdown",
      "metadata": {
        "id": "j4DEaNKDlo8F"
      },
      "source": [
        "# Building the model\n",
        "\n",
        "Our Autoencoder uses 4 fully connected layers with 14, 7, 7 and 29 neurons respectively.  The first two layers are used for our encoder, the last two go for the decoder. Additionally, L1 regularization will be used during training:"
      ]
    },
    {
      "cell_type": "code",
      "metadata": {
        "collapsed": true,
        "id": "2hr3tEU7lo8F"
      },
      "source": [
        "input_dim = X_train.shape[1]\n",
        "encoding_dim = 14"
      ],
      "execution_count": 16,
      "outputs": []
    },
    {
      "cell_type": "code",
      "metadata": {
        "collapsed": true,
        "id": "wBYdFaEllo8F"
      },
      "source": [
        "input_layer = Input(shape=(input_dim, ))\n",
        "\n",
        "encoder = Dense(encoding_dim, activation=\"tanh\", \n",
        "                activity_regularizer=regularizers.l1(10e-5))(input_layer)\n",
        "encoder = Dense(int(encoding_dim / 2), activation=\"relu\")(encoder)\n",
        "\n",
        "decoder = Dense(int(encoding_dim / 2), activation='tanh')(encoder)\n",
        "decoder = Dense(input_dim, activation='relu')(decoder)\n",
        "\n",
        "autoencoder = Model(inputs=input_layer, outputs=decoder)"
      ],
      "execution_count": 17,
      "outputs": []
    },
    {
      "cell_type": "markdown",
      "metadata": {
        "id": "44TrIbPMlo8G"
      },
      "source": [
        "Let's train our model for 100 epochs with a batch size of 32 samples and save the best performing model to a file. The ModelCheckpoint provided by Keras is really handy for such tasks. Additionally,  the training progress will be exported in a format that TensorBoard understands."
      ]
    },
    {
      "cell_type": "code",
      "metadata": {
        "id": "2_SAt8tqlo8G",
        "outputId": "a901e27e-72ca-4d77-80a4-94f1b6ce1203",
        "colab": {
          "base_uri": "https://localhost:8080/"
        }
      },
      "source": [
        "nb_epoch = 100\n",
        "batch_size = 32\n",
        "\n",
        "autoencoder.compile(optimizer='adam', \n",
        "                    loss='mean_squared_error', \n",
        "                    metrics=['accuracy'])\n",
        "\n",
        "checkpointer = ModelCheckpoint(filepath=\"model.h5\",\n",
        "                               verbose=0,\n",
        "                               save_best_only=True)\n",
        "tensorboard = TensorBoard(log_dir='./logs',\n",
        "                          histogram_freq=0,\n",
        "                          write_graph=True,\n",
        "                          write_images=True)\n",
        "\n",
        "history = autoencoder.fit(X_train, X_train,\n",
        "                    epochs=nb_epoch,\n",
        "                    batch_size=batch_size,\n",
        "                    shuffle=True,\n",
        "                    validation_data=(X_test, X_test),\n",
        "                    verbose=1,\n",
        "                    callbacks=[checkpointer, tensorboard]).history"
      ],
      "execution_count": null,
      "outputs": [
        {
          "output_type": "stream",
          "name": "stdout",
          "text": [
            "Epoch 1/100\n",
            "7108/7108 [==============================] - 19s 3ms/step - loss: 0.8041 - accuracy: 0.5906 - val_loss: 0.7794 - val_accuracy: 0.6619\n",
            "Epoch 2/100\n",
            "7108/7108 [==============================] - 18s 3ms/step - loss: 0.7325 - accuracy: 0.6700 - val_loss: 0.7537 - val_accuracy: 0.6816\n",
            "Epoch 3/100\n",
            "7108/7108 [==============================] - 19s 3ms/step - loss: 0.7162 - accuracy: 0.6864 - val_loss: 0.7458 - val_accuracy: 0.6920\n",
            "Epoch 4/100\n",
            "7108/7108 [==============================] - 18s 3ms/step - loss: 0.7101 - accuracy: 0.6931 - val_loss: 0.7392 - val_accuracy: 0.6977\n",
            "Epoch 5/100\n",
            "7108/7108 [==============================] - 17s 2ms/step - loss: 0.7066 - accuracy: 0.6968 - val_loss: 0.7385 - val_accuracy: 0.6962\n",
            "Epoch 6/100\n",
            "7108/7108 [==============================] - 18s 3ms/step - loss: 0.7047 - accuracy: 0.6986 - val_loss: 0.7356 - val_accuracy: 0.6996\n",
            "Epoch 7/100\n",
            "7108/7108 [==============================] - 17s 2ms/step - loss: 0.7033 - accuracy: 0.6984 - val_loss: 0.7354 - val_accuracy: 0.7020\n",
            "Epoch 8/100\n",
            "7108/7108 [==============================] - 18s 2ms/step - loss: 0.7021 - accuracy: 0.6988 - val_loss: 0.7350 - val_accuracy: 0.6994\n",
            "Epoch 9/100\n",
            "7108/7108 [==============================] - 18s 2ms/step - loss: 0.7016 - accuracy: 0.6992 - val_loss: 0.7356 - val_accuracy: 0.6957\n",
            "Epoch 10/100\n",
            "7108/7108 [==============================] - 18s 3ms/step - loss: 0.7008 - accuracy: 0.6990 - val_loss: 0.7339 - val_accuracy: 0.7016\n",
            "Epoch 11/100\n",
            "7108/7108 [==============================] - 18s 2ms/step - loss: 0.7004 - accuracy: 0.6994 - val_loss: 0.7340 - val_accuracy: 0.7027\n",
            "Epoch 12/100\n",
            "7108/7108 [==============================] - 18s 3ms/step - loss: 0.6998 - accuracy: 0.7009 - val_loss: 0.7343 - val_accuracy: 0.7026\n",
            "Epoch 13/100\n",
            "7108/7108 [==============================] - 18s 3ms/step - loss: 0.6994 - accuracy: 0.7005 - val_loss: 0.7329 - val_accuracy: 0.7042\n",
            "Epoch 14/100\n",
            "7108/7108 [==============================] - 17s 2ms/step - loss: 0.6989 - accuracy: 0.7019 - val_loss: 0.7338 - val_accuracy: 0.7033\n",
            "Epoch 15/100\n",
            "7108/7108 [==============================] - 17s 2ms/step - loss: 0.6982 - accuracy: 0.7031 - val_loss: 0.7336 - val_accuracy: 0.7048\n",
            "Epoch 16/100\n",
            "7108/7108 [==============================] - 18s 3ms/step - loss: 0.6979 - accuracy: 0.7040 - val_loss: 0.7350 - val_accuracy: 0.6925\n",
            "Epoch 17/100\n",
            "7108/7108 [==============================] - 19s 3ms/step - loss: 0.6974 - accuracy: 0.7049 - val_loss: 0.7339 - val_accuracy: 0.7089\n",
            "Epoch 18/100\n",
            "7108/7108 [==============================] - 17s 2ms/step - loss: 0.6971 - accuracy: 0.7045 - val_loss: 0.7309 - val_accuracy: 0.7075\n",
            "Epoch 19/100\n",
            "7108/7108 [==============================] - 18s 3ms/step - loss: 0.6967 - accuracy: 0.7039 - val_loss: 0.7325 - val_accuracy: 0.7085\n",
            "Epoch 20/100\n",
            "7108/7108 [==============================] - 18s 3ms/step - loss: 0.6964 - accuracy: 0.7041 - val_loss: 0.7325 - val_accuracy: 0.7086\n",
            "Epoch 21/100\n",
            "7108/7108 [==============================] - 17s 2ms/step - loss: 0.6962 - accuracy: 0.7046 - val_loss: 0.7365 - val_accuracy: 0.6897\n",
            "Epoch 22/100\n",
            "7108/7108 [==============================] - 17s 2ms/step - loss: 0.6964 - accuracy: 0.7036 - val_loss: 0.7315 - val_accuracy: 0.7085\n",
            "Epoch 23/100\n",
            "7108/7108 [==============================] - 18s 3ms/step - loss: 0.6956 - accuracy: 0.7047 - val_loss: 0.7323 - val_accuracy: 0.6993\n",
            "Epoch 24/100\n",
            "7108/7108 [==============================] - 18s 3ms/step - loss: 0.6955 - accuracy: 0.7046 - val_loss: 0.7410 - val_accuracy: 0.6966\n",
            "Epoch 25/100\n",
            "7108/7108 [==============================] - 18s 2ms/step - loss: 0.6959 - accuracy: 0.7067 - val_loss: 0.7309 - val_accuracy: 0.7119\n",
            "Epoch 26/100\n",
            "7108/7108 [==============================] - 18s 3ms/step - loss: 0.6952 - accuracy: 0.7061 - val_loss: 0.7313 - val_accuracy: 0.7075\n",
            "Epoch 27/100\n",
            "7108/7108 [==============================] - 19s 3ms/step - loss: 0.6947 - accuracy: 0.7066 - val_loss: 0.7295 - val_accuracy: 0.7137\n",
            "Epoch 28/100\n",
            "7108/7108 [==============================] - 17s 2ms/step - loss: 0.6949 - accuracy: 0.7063 - val_loss: 0.7304 - val_accuracy: 0.7161\n",
            "Epoch 29/100\n",
            "7108/7108 [==============================] - 18s 2ms/step - loss: 0.6951 - accuracy: 0.7073 - val_loss: 0.7291 - val_accuracy: 0.7121\n",
            "Epoch 30/100\n",
            "7108/7108 [==============================] - 18s 3ms/step - loss: 0.6944 - accuracy: 0.7076 - val_loss: 0.7288 - val_accuracy: 0.7096\n",
            "Epoch 31/100\n",
            "7108/7108 [==============================] - 17s 2ms/step - loss: 0.6940 - accuracy: 0.7067 - val_loss: 0.7278 - val_accuracy: 0.7103\n",
            "Epoch 32/100\n",
            "7108/7108 [==============================] - 18s 2ms/step - loss: 0.6939 - accuracy: 0.7074 - val_loss: 0.7301 - val_accuracy: 0.7121\n",
            "Epoch 33/100\n",
            "7108/7108 [==============================] - 18s 3ms/step - loss: 0.6936 - accuracy: 0.7084 - val_loss: 0.7294 - val_accuracy: 0.7111\n",
            "Epoch 34/100\n",
            "7108/7108 [==============================] - 17s 2ms/step - loss: 0.6935 - accuracy: 0.7075 - val_loss: 0.7283 - val_accuracy: 0.7148\n",
            "Epoch 35/100\n",
            "7108/7108 [==============================] - 17s 2ms/step - loss: 0.6935 - accuracy: 0.7080 - val_loss: 0.7277 - val_accuracy: 0.7083\n",
            "Epoch 36/100\n",
            "7108/7108 [==============================] - 18s 2ms/step - loss: 0.6938 - accuracy: 0.7066 - val_loss: 0.7288 - val_accuracy: 0.7124\n",
            "Epoch 37/100\n",
            "7108/7108 [==============================] - 19s 3ms/step - loss: 0.6936 - accuracy: 0.7080 - val_loss: 0.7282 - val_accuracy: 0.7145\n",
            "Epoch 38/100\n",
            "7108/7108 [==============================] - 18s 2ms/step - loss: 0.6930 - accuracy: 0.7071 - val_loss: 0.7292 - val_accuracy: 0.7107\n",
            "Epoch 39/100\n",
            "7108/7108 [==============================] - 18s 2ms/step - loss: 0.6932 - accuracy: 0.7068 - val_loss: 0.7268 - val_accuracy: 0.7099\n",
            "Epoch 40/100\n",
            "7108/7108 [==============================] - 18s 3ms/step - loss: 0.6930 - accuracy: 0.7077 - val_loss: 0.7288 - val_accuracy: 0.7122\n",
            "Epoch 41/100\n",
            "7108/7108 [==============================] - 17s 2ms/step - loss: 0.6932 - accuracy: 0.7074 - val_loss: 0.7272 - val_accuracy: 0.7113\n",
            "Epoch 42/100\n",
            "5818/7108 [=======================>......] - ETA: 2s - loss: 0.6957 - accuracy: 0.7062"
          ]
        }
      ]
    },
    {
      "cell_type": "code",
      "metadata": {
        "collapsed": true,
        "id": "9Mn_YadRlo8G"
      },
      "source": [
        "autoencoder = load_model('model.h5')"
      ],
      "execution_count": null,
      "outputs": []
    },
    {
      "cell_type": "markdown",
      "metadata": {
        "id": "Y_BAB5WMlo8G"
      },
      "source": [
        "# Evaluation"
      ]
    },
    {
      "cell_type": "code",
      "metadata": {
        "id": "7yV5h7Nflo8G"
      },
      "source": [
        "plt.plot(history['loss'])\n",
        "plt.plot(history['val_loss'])\n",
        "plt.title('model loss')\n",
        "plt.ylabel('loss')\n",
        "plt.xlabel('epoch')\n",
        "plt.legend(['train', 'test'], loc='upper right');"
      ],
      "execution_count": null,
      "outputs": []
    },
    {
      "cell_type": "markdown",
      "metadata": {
        "id": "njRHf5JYlo8G"
      },
      "source": [
        "The reconstruction error on our training and test data seems to converge nicely. Is it low enough? Let's have a closer look at the error distribution:"
      ]
    },
    {
      "cell_type": "code",
      "metadata": {
        "collapsed": true,
        "id": "-O_WFVfalo8H"
      },
      "source": [
        "predictions = autoencoder.predict(X_test)"
      ],
      "execution_count": null,
      "outputs": []
    },
    {
      "cell_type": "code",
      "metadata": {
        "collapsed": true,
        "id": "_hhz8VK9lo8H"
      },
      "source": [
        "mse = np.mean(np.power(X_test - predictions, 2), axis=1)\n",
        "error_df = pd.DataFrame({'reconstruction_error': mse,\n",
        "                        'true_class': y_test})"
      ],
      "execution_count": null,
      "outputs": []
    },
    {
      "cell_type": "code",
      "metadata": {
        "id": "Yaae8oRHlo8H"
      },
      "source": [
        "error_df.describe()"
      ],
      "execution_count": null,
      "outputs": []
    },
    {
      "cell_type": "markdown",
      "metadata": {
        "id": "m06AK7Bilo8H"
      },
      "source": [
        "## Reconstruction error without fraud"
      ]
    },
    {
      "cell_type": "code",
      "metadata": {
        "id": "rXKmXGeOlo8H"
      },
      "source": [
        "fig = plt.figure()\n",
        "ax = fig.add_subplot(111)\n",
        "normal_error_df = error_df[(error_df['true_class']== 0) & (error_df['reconstruction_error'] < 10)]\n",
        "_ = ax.hist(normal_error_df.reconstruction_error.values, bins=10)"
      ],
      "execution_count": null,
      "outputs": []
    },
    {
      "cell_type": "markdown",
      "metadata": {
        "id": "L4X6x9Sxlo8H"
      },
      "source": [
        "## Reconstruction error with fraud"
      ]
    },
    {
      "cell_type": "code",
      "metadata": {
        "id": "7k9EJ6MKlo8H"
      },
      "source": [
        "fig = plt.figure()\n",
        "ax = fig.add_subplot(111)\n",
        "fraud_error_df = error_df[error_df['true_class'] == 1]\n",
        "_ = ax.hist(fraud_error_df.reconstruction_error.values, bins=10)"
      ],
      "execution_count": null,
      "outputs": []
    },
    {
      "cell_type": "code",
      "metadata": {
        "collapsed": true,
        "id": "XnqOQanVlo8I"
      },
      "source": [
        "from sklearn.metrics import (confusion_matrix, precision_recall_curve, auc,\n",
        "                             roc_curve, recall_score, classification_report, f1_score,\n",
        "                             precision_recall_fscore_support)"
      ],
      "execution_count": null,
      "outputs": []
    },
    {
      "cell_type": "markdown",
      "metadata": {
        "id": "a1Lq9WvZlo8I"
      },
      "source": [
        "ROC curves are very useful tool for understanding the performance of binary classifiers. However, our case is a bit out of the ordinary. We have a very imbalanced dataset. Nonetheless, let's have a look at our ROC curve:"
      ]
    },
    {
      "cell_type": "code",
      "metadata": {
        "id": "HSy7t5w-lo8I"
      },
      "source": [
        "fpr, tpr, thresholds = roc_curve(error_df.true_class, error_df.reconstruction_error)\n",
        "roc_auc = auc(fpr, tpr)\n",
        "\n",
        "plt.title('Receiver Operating Characteristic')\n",
        "plt.plot(fpr, tpr, label='AUC = %0.4f'% roc_auc)\n",
        "plt.legend(loc='lower right')\n",
        "plt.plot([0,1],[0,1],'r--')\n",
        "plt.xlim([-0.001, 1])\n",
        "plt.ylim([0, 1.001])\n",
        "plt.ylabel('True Positive Rate')\n",
        "plt.xlabel('False Positive Rate')\n",
        "plt.show();"
      ],
      "execution_count": null,
      "outputs": []
    },
    {
      "cell_type": "markdown",
      "metadata": {
        "id": "-de5XVLtlo8I"
      },
      "source": [
        "The ROC curve plots the true positive rate versus the false positive rate, over different threshold values. Basically, we want the blue line to be as close as possible to the upper left corner. While our results look pretty good, we have to keep in mind of the nature of our dataset. ROC doesn't look very useful for us. Onward...\n",
        "\n",
        "## Precision vs Recall\n",
        "\n",
        "<img src=\"https://upload.wikimedia.org/wikipedia/commons/thumb/2/26/Precisionrecall.svg/350px-Precisionrecall.svg.png\" />\n",
        "\n",
        "Precision and recall are defined as follows:\n",
        "\n",
        "$$\\text{Precision} = \\frac{\\text{true positives}}{\\text{true positives} + \\text{false positives}}$$\n",
        "\n",
        "$$\\text{Recall} = \\frac{\\text{true positives}}{\\text{true positives} + \\text{false negatives}}$$\n",
        "\n",
        "Let's take an example from Information Retrieval in order to better understand what precision and recall are. Precision measures the relevancy of obtained results. Recall, on the other hand, measures how many relevant results are returned. Both values can take values between 0 and 1. You would love to have a system with both values being equal to 1.\n",
        "\n",
        "Let's return to our example from Information Retrieval. High recall but low precision means many results, most of which has low or no relevancy. When precision is high but recall is low we have the opposite - few returned results with very high relevancy. Ideally, you would want high precision and high recall - many results with that are highly relevant."
      ]
    },
    {
      "cell_type": "code",
      "metadata": {
        "id": "dzYH1zodlo8I"
      },
      "source": [
        "precision, recall, th = precision_recall_curve(error_df.true_class, error_df.reconstruction_error)\n",
        "plt.plot(recall, precision, 'b', label='Precision-Recall curve')\n",
        "plt.title('Recall vs Precision')\n",
        "plt.xlabel('Recall')\n",
        "plt.ylabel('Precision')\n",
        "plt.show()"
      ],
      "execution_count": null,
      "outputs": []
    },
    {
      "cell_type": "markdown",
      "metadata": {
        "id": "ahqQ8nPKlo8I"
      },
      "source": [
        "A high area under the curve represents both high recall and high precision, where high precision relates to a low false positive rate, and high recall relates to a low false negative rate. High scores for both show that the classifier is returning accurate results (high precision), as well as returning a majority of all positive results (high recall)."
      ]
    },
    {
      "cell_type": "code",
      "metadata": {
        "id": "Tp4xTlhPlo8J"
      },
      "source": [
        "plt.plot(th, precision[1:], 'b', label='Threshold-Precision curve')\n",
        "plt.title('Precision for different threshold values')\n",
        "plt.xlabel('Threshold')\n",
        "plt.ylabel('Precision')\n",
        "plt.show()"
      ],
      "execution_count": null,
      "outputs": []
    },
    {
      "cell_type": "markdown",
      "metadata": {
        "id": "Dhxv-QV_lo8J"
      },
      "source": [
        "You can see that as the reconstruction error increases our precision rises as well. Let's have a look at the recall:"
      ]
    },
    {
      "cell_type": "code",
      "metadata": {
        "id": "UTo7uQhclo8J"
      },
      "source": [
        "plt.plot(th, recall[1:], 'b', label='Threshold-Recall curve')\n",
        "plt.title('Recall for different threshold values')\n",
        "plt.xlabel('Reconstruction error')\n",
        "plt.ylabel('Recall')\n",
        "plt.show()"
      ],
      "execution_count": null,
      "outputs": []
    },
    {
      "cell_type": "markdown",
      "metadata": {
        "id": "9ADcD5ovlo8J"
      },
      "source": [
        "Here, we have the exact opposite situation. As the reconstruction error increases the recall decreases."
      ]
    },
    {
      "cell_type": "markdown",
      "metadata": {
        "id": "zinb_JSKlo8J"
      },
      "source": [
        "# Prediction\n",
        "\n",
        "Our model is a bit different this time. It doesn't know how to predict new values. But we don't need that. In order to predict whether or not a new/unseen transaction is normal or fraudulent, we'll calculate the reconstruction error from the transaction data itself. If the error is larger than a predefined threshold, we'll mark it as a fraud (since our model should have a low error on normal transactions). Let's pick that value:"
      ]
    },
    {
      "cell_type": "code",
      "metadata": {
        "collapsed": true,
        "id": "hadU09OUlo8J"
      },
      "source": [
        "threshold = 2.9"
      ],
      "execution_count": null,
      "outputs": []
    },
    {
      "cell_type": "markdown",
      "metadata": {
        "id": "A9Ztq3Uflo8J"
      },
      "source": [
        "And see how well we're dividing the two types of transactions:"
      ]
    },
    {
      "cell_type": "code",
      "metadata": {
        "id": "w08oLHaglo8J"
      },
      "source": [
        "groups = error_df.groupby('true_class')\n",
        "fig, ax = plt.subplots()\n",
        "\n",
        "for name, group in groups:\n",
        "    ax.plot(group.index, group.reconstruction_error, marker='o', ms=3.5, linestyle='',\n",
        "            label= \"Fraud\" if name == 1 else \"Normal\")\n",
        "ax.hlines(threshold, ax.get_xlim()[0], ax.get_xlim()[1], colors=\"r\", zorder=100, label='Threshold')\n",
        "ax.legend()\n",
        "plt.title(\"Reconstruction error for different classes\")\n",
        "plt.ylabel(\"Reconstruction error\")\n",
        "plt.xlabel(\"Data point index\")\n",
        "plt.show();"
      ],
      "execution_count": null,
      "outputs": []
    },
    {
      "cell_type": "markdown",
      "metadata": {
        "id": "-SdnXtWDlo8K"
      },
      "source": [
        "I know, that chart might be a bit deceiving. Let's have a look at the confusion matrix:"
      ]
    },
    {
      "cell_type": "code",
      "metadata": {
        "id": "v2-VIlM8lo8K"
      },
      "source": [
        "y_pred = [1 if e > threshold else 0 for e in error_df.reconstruction_error.values]\n",
        "conf_matrix = confusion_matrix(error_df.true_class, y_pred)\n",
        "\n",
        "plt.figure(figsize=(12, 12))\n",
        "sns.heatmap(conf_matrix, xticklabels=LABELS, yticklabels=LABELS, annot=True, fmt=\"d\");\n",
        "plt.title(\"Confusion matrix\")\n",
        "plt.ylabel('True class')\n",
        "plt.xlabel('Predicted class')\n",
        "plt.show()"
      ],
      "execution_count": null,
      "outputs": []
    },
    {
      "cell_type": "markdown",
      "metadata": {
        "id": "nz0N2o2Mlo8K"
      },
      "source": [
        "Our model seems to catch a lot of the fraudulent cases. Of course, there is a catch (see what I did there?). The number of normal transactions classified as frauds is really high. Is this really a problem? Probably it is. You might want to increase or decrease the value of the threshold, depending on the problem. That one is up to you.\n",
        "\n",
        "# Conclusion\n",
        "\n",
        "We've created a very simple Deep Autoencoder in Keras that can reconstruct what non fraudulent transactions looks like. Initially, I was a bit skeptical about whether or not this whole thing is gonna work out, bit it kinda did. Think about it, we gave a lot of one-class examples (normal transactions) to a model and it learned (somewhat) how to discriminate whether or not new examples belong to that same class. Isn't that cool? Our dataset was kind of magical, though. We really don't know what the original features look like.\n",
        "\n",
        "Keras gave us very clean and easy to use API to build a non-trivial Deep Autoencoder. You can search for TensorFlow implementations and see for yourself how much boilerplate you need in order to train one. Can you apply a similar model to a different problem?\n"
      ]
    }
  ]
}