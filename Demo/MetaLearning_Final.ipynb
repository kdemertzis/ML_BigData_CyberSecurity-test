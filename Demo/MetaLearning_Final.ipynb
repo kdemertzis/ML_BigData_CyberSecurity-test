{
  "nbformat": 4,
  "nbformat_minor": 0,
  "metadata": {
    "accelerator": "GPU",
    "colab": {
      "name": "Copy of MetaLearning.ipynb",
      "provenance": [],
      "collapsed_sections": [],
      "include_colab_link": true
    },
    "kernelspec": {
      "display_name": "Python 3",
      "name": "python3"
    },
    "widgets": {
      "application/vnd.jupyter.widget-state+json": {
        "bef23466f4d54aab877c52b03c948310": {
          "model_module": "@jupyter-widgets/controls",
          "model_name": "IntProgressModel",
          "model_module_version": "1.5.0",
          "state": {
            "_view_name": "ProgressView",
            "style": "IPY_MODEL_c731fb5584f54d66b74d4e1931e38395",
            "_dom_classes": [],
            "description": "Processing: ",
            "_model_name": "IntProgressModel",
            "bar_style": "",
            "max": 44,
            "_view_module": "@jupyter-widgets/controls",
            "_model_module_version": "1.5.0",
            "value": 44,
            "_view_count": null,
            "_view_module_version": "1.5.0",
            "orientation": "horizontal",
            "min": 0,
            "description_tooltip": null,
            "_model_module": "@jupyter-widgets/controls",
            "layout": "IPY_MODEL_218cbdc114134263a9d4129280f11104"
          }
        },
        "c731fb5584f54d66b74d4e1931e38395": {
          "model_module": "@jupyter-widgets/controls",
          "model_name": "ProgressStyleModel",
          "model_module_version": "1.5.0",
          "state": {
            "_view_name": "StyleView",
            "_model_name": "ProgressStyleModel",
            "description_width": "",
            "_view_module": "@jupyter-widgets/base",
            "_model_module_version": "1.5.0",
            "_view_count": null,
            "_view_module_version": "1.2.0",
            "bar_color": null,
            "_model_module": "@jupyter-widgets/controls"
          }
        },
        "218cbdc114134263a9d4129280f11104": {
          "model_module": "@jupyter-widgets/base",
          "model_name": "LayoutModel",
          "model_module_version": "1.2.0",
          "state": {
            "_view_name": "LayoutView",
            "grid_template_rows": null,
            "right": null,
            "justify_content": null,
            "_view_module": "@jupyter-widgets/base",
            "overflow": null,
            "_model_module_version": "1.2.0",
            "_view_count": null,
            "flex_flow": null,
            "width": null,
            "min_width": null,
            "border": null,
            "align_items": null,
            "bottom": null,
            "_model_module": "@jupyter-widgets/base",
            "top": null,
            "grid_column": null,
            "overflow_y": null,
            "overflow_x": null,
            "grid_auto_flow": null,
            "grid_area": null,
            "grid_template_columns": null,
            "flex": null,
            "_model_name": "LayoutModel",
            "justify_items": null,
            "grid_row": null,
            "max_height": null,
            "align_content": null,
            "visibility": null,
            "align_self": null,
            "height": null,
            "min_height": null,
            "padding": null,
            "grid_auto_rows": null,
            "grid_gap": null,
            "max_width": null,
            "order": null,
            "_view_module_version": "1.2.0",
            "grid_template_areas": null,
            "object_position": null,
            "object_fit": null,
            "grid_auto_columns": null,
            "margin": null,
            "display": null,
            "left": null
          }
        },
        "873a59f897464e558c5f72d402e1b4dc": {
          "model_module": "@jupyter-widgets/controls",
          "model_name": "IntProgressModel",
          "model_module_version": "1.5.0",
          "state": {
            "_view_name": "ProgressView",
            "style": "IPY_MODEL_058ffd64b5ce4c46abf02d32512c97a1",
            "_dom_classes": [],
            "description": "Processing: ",
            "_model_name": "IntProgressModel",
            "bar_style": "",
            "max": 5,
            "_view_module": "@jupyter-widgets/controls",
            "_model_module_version": "1.5.0",
            "value": 5,
            "_view_count": null,
            "_view_module_version": "1.5.0",
            "orientation": "horizontal",
            "min": 0,
            "description_tooltip": null,
            "_model_module": "@jupyter-widgets/controls",
            "layout": "IPY_MODEL_936e6ed02e6d4a1da93f68023e21fca9"
          }
        },
        "058ffd64b5ce4c46abf02d32512c97a1": {
          "model_module": "@jupyter-widgets/controls",
          "model_name": "ProgressStyleModel",
          "model_module_version": "1.5.0",
          "state": {
            "_view_name": "StyleView",
            "_model_name": "ProgressStyleModel",
            "description_width": "",
            "_view_module": "@jupyter-widgets/base",
            "_model_module_version": "1.5.0",
            "_view_count": null,
            "_view_module_version": "1.2.0",
            "bar_color": null,
            "_model_module": "@jupyter-widgets/controls"
          }
        },
        "936e6ed02e6d4a1da93f68023e21fca9": {
          "model_module": "@jupyter-widgets/base",
          "model_name": "LayoutModel",
          "model_module_version": "1.2.0",
          "state": {
            "_view_name": "LayoutView",
            "grid_template_rows": null,
            "right": null,
            "justify_content": null,
            "_view_module": "@jupyter-widgets/base",
            "overflow": null,
            "_model_module_version": "1.2.0",
            "_view_count": null,
            "flex_flow": null,
            "width": null,
            "min_width": null,
            "border": null,
            "align_items": null,
            "bottom": null,
            "_model_module": "@jupyter-widgets/base",
            "top": null,
            "grid_column": null,
            "overflow_y": null,
            "overflow_x": null,
            "grid_auto_flow": null,
            "grid_area": null,
            "grid_template_columns": null,
            "flex": null,
            "_model_name": "LayoutModel",
            "justify_items": null,
            "grid_row": null,
            "max_height": null,
            "align_content": null,
            "visibility": null,
            "align_self": null,
            "height": null,
            "min_height": null,
            "padding": null,
            "grid_auto_rows": null,
            "grid_gap": null,
            "max_width": null,
            "order": null,
            "_view_module_version": "1.2.0",
            "grid_template_areas": null,
            "object_position": null,
            "object_fit": null,
            "grid_auto_columns": null,
            "margin": null,
            "display": null,
            "left": null
          }
        },
        "a53b6488633743099b34c70e26864a0b": {
          "model_module": "@jupyter-widgets/controls",
          "model_name": "IntProgressModel",
          "model_module_version": "1.5.0",
          "state": {
            "_view_name": "ProgressView",
            "style": "IPY_MODEL_73808743a5f34b3387729698e14e188e",
            "_dom_classes": [],
            "description": "Processing: ",
            "_model_name": "IntProgressModel",
            "bar_style": "",
            "max": 5,
            "_view_module": "@jupyter-widgets/controls",
            "_model_module_version": "1.5.0",
            "value": 5,
            "_view_count": null,
            "_view_module_version": "1.5.0",
            "orientation": "horizontal",
            "min": 0,
            "description_tooltip": null,
            "_model_module": "@jupyter-widgets/controls",
            "layout": "IPY_MODEL_a05d1331bffc4f7588f89ff7fa0dce83"
          }
        },
        "73808743a5f34b3387729698e14e188e": {
          "model_module": "@jupyter-widgets/controls",
          "model_name": "ProgressStyleModel",
          "model_module_version": "1.5.0",
          "state": {
            "_view_name": "StyleView",
            "_model_name": "ProgressStyleModel",
            "description_width": "",
            "_view_module": "@jupyter-widgets/base",
            "_model_module_version": "1.5.0",
            "_view_count": null,
            "_view_module_version": "1.2.0",
            "bar_color": null,
            "_model_module": "@jupyter-widgets/controls"
          }
        },
        "a05d1331bffc4f7588f89ff7fa0dce83": {
          "model_module": "@jupyter-widgets/base",
          "model_name": "LayoutModel",
          "model_module_version": "1.2.0",
          "state": {
            "_view_name": "LayoutView",
            "grid_template_rows": null,
            "right": null,
            "justify_content": null,
            "_view_module": "@jupyter-widgets/base",
            "overflow": null,
            "_model_module_version": "1.2.0",
            "_view_count": null,
            "flex_flow": null,
            "width": null,
            "min_width": null,
            "border": null,
            "align_items": null,
            "bottom": null,
            "_model_module": "@jupyter-widgets/base",
            "top": null,
            "grid_column": null,
            "overflow_y": null,
            "overflow_x": null,
            "grid_auto_flow": null,
            "grid_area": null,
            "grid_template_columns": null,
            "flex": null,
            "_model_name": "LayoutModel",
            "justify_items": null,
            "grid_row": null,
            "max_height": null,
            "align_content": null,
            "visibility": null,
            "align_self": null,
            "height": null,
            "min_height": null,
            "padding": null,
            "grid_auto_rows": null,
            "grid_gap": null,
            "max_width": null,
            "order": null,
            "_view_module_version": "1.2.0",
            "grid_template_areas": null,
            "object_position": null,
            "object_fit": null,
            "grid_auto_columns": null,
            "margin": null,
            "display": null,
            "left": null
          }
        },
        "10c4999a2fe046d0b6fb7f6af8ce6755": {
          "model_module": "@jupyter-widgets/controls",
          "model_name": "IntProgressModel",
          "model_module_version": "1.5.0",
          "state": {
            "_view_name": "ProgressView",
            "style": "IPY_MODEL_7c2fff6e2a1942f0acbebb9115759ce9",
            "_dom_classes": [],
            "description": "Processing: ",
            "_model_name": "IntProgressModel",
            "bar_style": "",
            "max": 5,
            "_view_module": "@jupyter-widgets/controls",
            "_model_module_version": "1.5.0",
            "value": 5,
            "_view_count": null,
            "_view_module_version": "1.5.0",
            "orientation": "horizontal",
            "min": 0,
            "description_tooltip": null,
            "_model_module": "@jupyter-widgets/controls",
            "layout": "IPY_MODEL_381f31e540ac4304b98a9ff8b6a9ccbb"
          }
        },
        "7c2fff6e2a1942f0acbebb9115759ce9": {
          "model_module": "@jupyter-widgets/controls",
          "model_name": "ProgressStyleModel",
          "model_module_version": "1.5.0",
          "state": {
            "_view_name": "StyleView",
            "_model_name": "ProgressStyleModel",
            "description_width": "",
            "_view_module": "@jupyter-widgets/base",
            "_model_module_version": "1.5.0",
            "_view_count": null,
            "_view_module_version": "1.2.0",
            "bar_color": null,
            "_model_module": "@jupyter-widgets/controls"
          }
        },
        "381f31e540ac4304b98a9ff8b6a9ccbb": {
          "model_module": "@jupyter-widgets/base",
          "model_name": "LayoutModel",
          "model_module_version": "1.2.0",
          "state": {
            "_view_name": "LayoutView",
            "grid_template_rows": null,
            "right": null,
            "justify_content": null,
            "_view_module": "@jupyter-widgets/base",
            "overflow": null,
            "_model_module_version": "1.2.0",
            "_view_count": null,
            "flex_flow": null,
            "width": null,
            "min_width": null,
            "border": null,
            "align_items": null,
            "bottom": null,
            "_model_module": "@jupyter-widgets/base",
            "top": null,
            "grid_column": null,
            "overflow_y": null,
            "overflow_x": null,
            "grid_auto_flow": null,
            "grid_area": null,
            "grid_template_columns": null,
            "flex": null,
            "_model_name": "LayoutModel",
            "justify_items": null,
            "grid_row": null,
            "max_height": null,
            "align_content": null,
            "visibility": null,
            "align_self": null,
            "height": null,
            "min_height": null,
            "padding": null,
            "grid_auto_rows": null,
            "grid_gap": null,
            "max_width": null,
            "order": null,
            "_view_module_version": "1.2.0",
            "grid_template_areas": null,
            "object_position": null,
            "object_fit": null,
            "grid_auto_columns": null,
            "margin": null,
            "display": null,
            "left": null
          }
        },
        "b39ba5a93f6b46649f73c8ac546aab51": {
          "model_module": "@jupyter-widgets/controls",
          "model_name": "IntProgressModel",
          "model_module_version": "1.5.0",
          "state": {
            "_view_name": "ProgressView",
            "style": "IPY_MODEL_bd5648fca7dd4c9783c7872ffc0ac5a5",
            "_dom_classes": [],
            "description": "Processing: ",
            "_model_name": "IntProgressModel",
            "bar_style": "",
            "max": 5,
            "_view_module": "@jupyter-widgets/controls",
            "_model_module_version": "1.5.0",
            "value": 5,
            "_view_count": null,
            "_view_module_version": "1.5.0",
            "orientation": "horizontal",
            "min": 0,
            "description_tooltip": null,
            "_model_module": "@jupyter-widgets/controls",
            "layout": "IPY_MODEL_2c439ddc0fdc42fd804b8a0dfb07c3cd"
          }
        },
        "bd5648fca7dd4c9783c7872ffc0ac5a5": {
          "model_module": "@jupyter-widgets/controls",
          "model_name": "ProgressStyleModel",
          "model_module_version": "1.5.0",
          "state": {
            "_view_name": "StyleView",
            "_model_name": "ProgressStyleModel",
            "description_width": "",
            "_view_module": "@jupyter-widgets/base",
            "_model_module_version": "1.5.0",
            "_view_count": null,
            "_view_module_version": "1.2.0",
            "bar_color": null,
            "_model_module": "@jupyter-widgets/controls"
          }
        },
        "2c439ddc0fdc42fd804b8a0dfb07c3cd": {
          "model_module": "@jupyter-widgets/base",
          "model_name": "LayoutModel",
          "model_module_version": "1.2.0",
          "state": {
            "_view_name": "LayoutView",
            "grid_template_rows": null,
            "right": null,
            "justify_content": null,
            "_view_module": "@jupyter-widgets/base",
            "overflow": null,
            "_model_module_version": "1.2.0",
            "_view_count": null,
            "flex_flow": null,
            "width": null,
            "min_width": null,
            "border": null,
            "align_items": null,
            "bottom": null,
            "_model_module": "@jupyter-widgets/base",
            "top": null,
            "grid_column": null,
            "overflow_y": null,
            "overflow_x": null,
            "grid_auto_flow": null,
            "grid_area": null,
            "grid_template_columns": null,
            "flex": null,
            "_model_name": "LayoutModel",
            "justify_items": null,
            "grid_row": null,
            "max_height": null,
            "align_content": null,
            "visibility": null,
            "align_self": null,
            "height": null,
            "min_height": null,
            "padding": null,
            "grid_auto_rows": null,
            "grid_gap": null,
            "max_width": null,
            "order": null,
            "_view_module_version": "1.2.0",
            "grid_template_areas": null,
            "object_position": null,
            "object_fit": null,
            "grid_auto_columns": null,
            "margin": null,
            "display": null,
            "left": null
          }
        }
      }
    }
  },
  "cells": [
    {
      "cell_type": "markdown",
      "metadata": {
        "id": "view-in-github",
        "colab_type": "text"
      },
      "source": [
        "<a href=\"https://colab.research.google.com/github/kdemertzis/ML_BigData_CyberSecurity-test/blob/master/MetaLearning_Final.ipynb\" target=\"_parent\"><img src=\"https://colab.research.google.com/assets/colab-badge.svg\" alt=\"Open In Colab\"/></a>"
      ]
    },
    {
      "cell_type": "code",
      "metadata": {
        "id": "vk4LOlb-n4H7",
        "colab": {
          "base_uri": "https://localhost:8080/"
        },
        "outputId": "71170eda-499b-42b4-920e-acbef0aa20af"
      },
      "source": [
        "#!pip install ipython-autotime\n",
        " \n",
        "%load_ext autotime"
      ],
      "execution_count": 1,
      "outputs": [
        {
          "output_type": "stream",
          "name": "stdout",
          "text": [
            "time: 412 µs (started: 2021-11-20 08:00:59 +00:00)\n"
          ]
        }
      ]
    },
    {
      "cell_type": "code",
      "metadata": {
        "colab": {
          "base_uri": "https://localhost:8080/"
        },
        "id": "mZJuEvnR_A8A",
        "outputId": "e9d2b979-0f53-4332-a16d-39231b486d84"
      },
      "source": [
        "#!apt-get update && sudo apt-get upgrade"
      ],
      "execution_count": 2,
      "outputs": [
        {
          "output_type": "stream",
          "name": "stdout",
          "text": [
            "time: 572 µs (started: 2021-11-20 08:00:59 +00:00)\n"
          ]
        }
      ]
    },
    {
      "cell_type": "code",
      "metadata": {
        "colab": {
          "base_uri": "https://localhost:8080/"
        },
        "id": "L43coBvvTyWf",
        "outputId": "b95067bc-7e20-4965-bc9b-9ca97236b279"
      },
      "source": [
        "#teiemt.gr\n",
        "from google.colab import drive\n",
        "drive.mount(\"/content/drive\")"
      ],
      "execution_count": 3,
      "outputs": [
        {
          "output_type": "stream",
          "name": "stdout",
          "text": [
            "Drive already mounted at /content/drive; to attempt to forcibly remount, call drive.mount(\"/content/drive\", force_remount=True).\n",
            "time: 6.69 ms (started: 2021-11-20 08:00:59 +00:00)\n"
          ]
        }
      ]
    },
    {
      "cell_type": "code",
      "metadata": {
        "id": "1osKG6mHfxD2",
        "colab": {
          "base_uri": "https://localhost:8080/"
        },
        "outputId": "4c96d1db-5b3f-4125-b76a-ed95819c5a68"
      },
      "source": [
        "#!pip install pycaret-nightly[full]\n",
        "#!pip install modin[ray]"
      ],
      "execution_count": 4,
      "outputs": [
        {
          "output_type": "stream",
          "name": "stdout",
          "text": [
            "time: 980 µs (started: 2021-11-20 08:00:59 +00:00)\n"
          ]
        }
      ]
    },
    {
      "cell_type": "code",
      "metadata": {
        "id": "Kr2hmwqOf9-h",
        "colab": {
          "base_uri": "https://localhost:8080/"
        },
        "outputId": "89f4c251-3edc-4611-b68f-f2ef55ff3fe1"
      },
      "source": [
        "# uninstall lightgbm CPU\n",
        "#!pip uninstall lightgbm -y\n",
        "# install lightgbm GPU\n",
        "#!pip install lightgbm --install-option=--gpu --install-option=\"--opencl-include-dir=/usr/local/cuda/include/\" --install-option=\"--opencl-library=/usr/local/cuda/lib64/libOpenCL.so\""
      ],
      "execution_count": 5,
      "outputs": [
        {
          "output_type": "stream",
          "name": "stdout",
          "text": [
            "time: 774 µs (started: 2021-11-20 08:00:59 +00:00)\n"
          ]
        }
      ]
    },
    {
      "cell_type": "code",
      "metadata": {
        "id": "WONgwP3JTuHF",
        "outputId": "b6e2dcc3-ec1f-4462-fc6a-14508f25900e",
        "colab": {
          "base_uri": "https://localhost:8080/"
        }
      },
      "source": [
        "#!pip install pyyaml==5.4.1"
      ],
      "execution_count": 6,
      "outputs": [
        {
          "output_type": "stream",
          "name": "stdout",
          "text": [
            "Requirement already satisfied: pyyaml==5.4.1 in /usr/local/lib/python3.7/dist-packages (5.4.1)\n",
            "time: 4.23 s (started: 2021-11-20 08:00:59 +00:00)\n"
          ]
        }
      ]
    },
    {
      "cell_type": "code",
      "metadata": {
        "id": "6gcZgAnwYNQV",
        "colab": {
          "base_uri": "https://localhost:8080/"
        },
        "outputId": "cc1f8a11-8d4d-4c97-ea97-3ab5c83c25ca"
      },
      "source": [
        "import os, sys, time\n",
        "import pandas as pd\n",
        "import numpy as np\n",
        "import matplotlib.pyplot as plt\n",
        "import pickle\n",
        "import glob\n",
        "import warnings\n",
        "import matplotlib.pyplot as plt\n",
        "import sklearn.model_selection\n",
        "import tensorflow as tf\n",
        "import time\n",
        "import pycaret\n",
        "import six\n",
        "import sys\n",
        "import modin.pandas as pd\n",
        "from pycaret.classification import *\n",
        "from psutil import virtual_memory\n",
        "from sklearn import preprocessing\n",
        "from sklearn.model_selection import train_test_split\n",
        "from sklearn.compose import ColumnTransformer\n",
        "from sklearn.pipeline import Pipeline\n",
        "from sklearn.preprocessing import OneHotEncoder, MinMaxScaler, LabelEncoder, Binarizer\n",
        "from sklearn.neural_network import MLPClassifier\n",
        "from sklearn.ensemble import RandomForestClassifier\n",
        "from sklearn.metrics import confusion_matrix, f1_score, precision_score, recall_score, accuracy_score\n",
        "import itertools"
      ],
      "execution_count": 7,
      "outputs": [
        {
          "output_type": "stream",
          "name": "stderr",
          "text": [
            "YAMLLoadWarning: calling yaml.load() without Loader=... is deprecated, as the default Loader is unsafe. Please read https://msg.pyyaml.org/load for full details.\n"
          ]
        },
        {
          "output_type": "stream",
          "name": "stdout",
          "text": [
            "time: 7.67 s (started: 2021-11-20 08:01:04 +00:00)\n"
          ]
        }
      ]
    },
    {
      "cell_type": "code",
      "metadata": {
        "colab": {
          "base_uri": "https://localhost:8080/"
        },
        "id": "EKbN8c8CYNVI",
        "outputId": "9c5bfffc-6be6-4caf-eaf7-121b2165bb16"
      },
      "source": [
        "#Get total physical memory in Python\n",
        "mem = virtual_memory()\n",
        "mem.total  # total physical memory available"
      ],
      "execution_count": 8,
      "outputs": [
        {
          "output_type": "execute_result",
          "data": {
            "text/plain": [
              "13622194176"
            ]
          },
          "metadata": {},
          "execution_count": 8
        },
        {
          "output_type": "stream",
          "name": "stdout",
          "text": [
            "time: 4.28 ms (started: 2021-11-20 08:01:11 +00:00)\n"
          ]
        }
      ]
    },
    {
      "cell_type": "code",
      "metadata": {
        "id": "9z7kCXZUYNSw",
        "colab": {
          "base_uri": "https://localhost:8080/"
        },
        "outputId": "e53dfc70-850c-4ce8-82bf-407d1e145b0e"
      },
      "source": [
        "# ----------------------------------------------------------------------\n",
        "# Performance Measures -------------------------------------------------------------------\n",
        "# ----------------------------------------------------------------------"
      ],
      "execution_count": 9,
      "outputs": [
        {
          "output_type": "stream",
          "name": "stdout",
          "text": [
            "time: 1.49 ms (started: 2021-11-20 08:01:11 +00:00)\n"
          ]
        }
      ]
    },
    {
      "cell_type": "code",
      "metadata": {
        "colab": {
          "base_uri": "https://localhost:8080/"
        },
        "id": "DTDVMx6bYNNH",
        "outputId": "36ce1921-4a86-46a1-a360-12aff0ea18ed"
      },
      "source": [
        "def CS_performance_measures(y_true, y_pred, labels=None, normal_class=0):\n",
        "    ''' Cybersecurity / anomaly detection custom performance measures.\n",
        "\n",
        "    These specific performance measures are designed to assess precisely\n",
        "    the performance in the case of a multiclass classification task in\n",
        "    which one class is \"special\". For cybersecurity for example the 'normal'\n",
        "    activity is common and a special class in comparison to different\n",
        "    type of attacks. This class is here indexed as the normal_class variable.\n",
        "\n",
        "    What happens here is that performance measures are computed at two nested\n",
        "    levels:\n",
        "    1) All attacks are merged together and measures are computed\n",
        "    (i.e. 0 vs. [1,2,3,4] as 1)\n",
        "    2) Measured are computed on attacks only (i.e. 1 vs. 2 vs. 3 vs. 4)\n",
        "\n",
        "    Relies on sklearn.metrics.\n",
        "\n",
        "    labels is a list of labels ids. If labels and their original names are saved in\n",
        "    a dictionnary with the class names as keys and the ids as index\n",
        "    (e.g. labels = {'DoS': 0, 'Probe': 1, 'R2L': 2, 'U2R': 3, 'normal': 4}),\n",
        "    then labels = list(labels.values()).\n",
        "\n",
        "    normal_class is the index of the class considered as normal (vs. e.g. attack or\n",
        "    failure depending on the use case)\n",
        "\n",
        "    Note that in binary classification, recall of the positive class is also\n",
        "    known as sensitivity; recall of the negative class is specificity.\n",
        "    '''\n",
        "\n",
        "    # Make the new (binary classif) vectors corresponding to attack vs normal\n",
        "    attack_true = np.full(len(y_true), np.nan)\n",
        "    attack_true[y_true == normal_class] = 0\n",
        "    attack_true[y_true != normal_class] = 1\n",
        "    attack_pred = np.full(len(y_pred), np.nan)\n",
        "    attack_pred[y_pred == normal_class] = 0\n",
        "    attack_pred[y_pred != normal_class] = 1\n",
        "    normal_lines = np.logical_or(y_true==0, y_pred==0)\n",
        "    attack_lines = ~normal_lines\n",
        "    results = {\"accuracy\": accuracy_score(attack_true, attack_pred),\n",
        "               \"f1\": f1_score(attack_true, attack_pred, average='weighted'),\n",
        "               \"recall-sensitivity\": recall_score(attack_true, attack_pred, pos_label=1),\n",
        "               \"recall-specificity\": recall_score(attack_true, attack_pred, pos_label=0),\n",
        "               \"precision\": precision_score(attack_true, attack_pred, average='weighted'),\n",
        "               \"accuracy_among_attacks\": accuracy_score(y_true[attack_lines], y_pred[attack_lines]),\n",
        "               \"f1_among_attacks\": f1_score(y_true[attack_lines], y_pred[attack_lines], average='weighted'),\n",
        "               \"recall_among_attacks\": recall_score(y_true[attack_lines], y_pred[attack_lines], average='weighted'),\n",
        "               \"precision_among_attacks\": precision_score(y_true[attack_lines], y_pred[attack_lines], average='weighted'),\n",
        "               \"cm\": confusion_matrix(y_true, y_pred, labels)}\n",
        "    return results"
      ],
      "execution_count": 10,
      "outputs": [
        {
          "output_type": "stream",
          "name": "stdout",
          "text": [
            "time: 14.1 ms (started: 2021-11-20 08:01:11 +00:00)\n"
          ]
        }
      ]
    },
    {
      "cell_type": "code",
      "metadata": {
        "id": "khq7qtxCYLat",
        "colab": {
          "base_uri": "https://localhost:8080/"
        },
        "outputId": "b1a1eb76-5c34-45be-d591-37088207b752"
      },
      "source": [
        "def plot_confusion_matrix(plt, cm, classes, normalize=False, title='Confusion matrix', cmap=plt.cm.Blues):\n",
        "    if normalize:\n",
        "        cm = cm.astype('float') / cm.sum(axis=1)[:, np.newaxis]\n",
        "    plt.imshow(cm, interpolation='nearest', cmap=cmap)\n",
        "    plt.title(title)\n",
        "    plt.colorbar()\n",
        "    tick_marks = np.arange(len(classes))\n",
        "    plt.xticks(tick_marks, classes, rotation=45)\n",
        "    plt.yticks(tick_marks, classes)\n",
        "    fmt = '.2f' if normalize else 'd'\n",
        "    thresh = cm.max() / 2.\n",
        "    for i, j in itertools.product(range(cm.shape[0]), range(cm.shape[1])):\n",
        "        plt.text(j, i, format(cm[i, j], fmt),\n",
        "                 horizontalalignment=\"center\",\n",
        "                 color=\"white\" if cm[i, j] > thresh else \"black\")\n",
        "    plt.ylabel('True label')\n",
        "    plt.xlabel('Predicted label')\n",
        "    plt.tight_layout()\n",
        "    return(plt)"
      ],
      "execution_count": 11,
      "outputs": [
        {
          "output_type": "stream",
          "name": "stdout",
          "text": [
            "time: 3.08 ms (started: 2021-11-20 08:01:11 +00:00)\n"
          ]
        }
      ]
    },
    {
      "cell_type": "code",
      "metadata": {
        "id": "l05pAxjXYLx-",
        "colab": {
          "base_uri": "https://localhost:8080/"
        },
        "outputId": "c185f289-0790-4790-c53d-d2a31c0d7a16"
      },
      "source": [
        "# Directory where the CSV files are located\n",
        "data_dir = '/content/drive/My Drive/lite/'"
      ],
      "execution_count": 12,
      "outputs": [
        {
          "output_type": "stream",
          "name": "stdout",
          "text": [
            "time: 708 µs (started: 2021-11-20 08:01:11 +00:00)\n"
          ]
        }
      ]
    },
    {
      "cell_type": "code",
      "metadata": {
        "colab": {
          "base_uri": "https://localhost:8080/"
        },
        "id": "WOUhWIH5YL0m",
        "outputId": "5f716ae7-766f-4c56-ad57-285921d80945"
      },
      "source": [
        "# Read the first csv to grab column names\n",
        "all_files = glob.glob(data_dir + \"/*.csv\")\n",
        "df = pd.read_csv(all_files[0], encoding='utf-8')\n",
        "column_names = list(df.columns) # for removing missing value weirdly encoded in this dataset\n",
        "df.columns = df.columns.str.strip().str.lower().str.replace(' ', '_').str.replace('(', '').str.replace(')', '').str.replace('/', '')\n",
        "df.drop(['src_ip', 'src_port', 'dst_ip', 'dst_port', 'flow_id'], axis=1, inplace=True, errors='ignore')"
      ],
      "execution_count": 13,
      "outputs": [
        {
          "output_type": "stream",
          "name": "stdout",
          "text": [
            "time: 4.07 s (started: 2021-11-20 08:01:11 +00:00)\n"
          ]
        }
      ]
    },
    {
      "cell_type": "code",
      "metadata": {
        "id": "qsGGIbqsYLsu",
        "colab": {
          "base_uri": "https://localhost:8080/"
        },
        "outputId": "3da197de-11d6-42c7-f60e-6f0ab5df18fe"
      },
      "source": [
        "# Create personnalized dtypes to be more efficient\n",
        "mydtypes = {'protocol': 'category',\n",
        "             'flow_duration': np.uint32,\n",
        "             'tot_fwd_pkts': np.uint32,\n",
        "             'tot_bwd_pkts': np.uint32,\n",
        "             'totlen_fwd_pkts': np.uint32,\n",
        "             'totlen_bwd_pkts': np.uint32,\n",
        "             'fwd_pkt_len_max': np.uint32,\n",
        "             'fwd_pkt_len_min': np.uint32,\n",
        "             'fwd_pkt_len_mean': np.float32,\n",
        "             'fwd_pkt_len_std': np.float32,\n",
        "             'bwd_pkt_len_max': np.uint32,\n",
        "             'bwd_pkt_len_min': np.uint32,\n",
        "             'bwd_pkt_len_mean': np.float32,\n",
        "             'bwd_pkt_len_std': np.float32,\n",
        "             'flow_bytss': np.float32,\n",
        "             'flow_pktss': np.float32,\n",
        "             'flow_iat_mean': np.float32,\n",
        "             'flow_iat_std': np.float32,\n",
        "             'flow_iat_max': np.uint32,\n",
        "             'flow_iat_min': np.uint32,\n",
        "             'fwd_iat_tot': np.uint32,\n",
        "             'fwd_iat_mean': np.float32,\n",
        "             'fwd_iat_std': np.uint32,\n",
        "             'fwd_iat_max': np.uint32,\n",
        "             'fwd_iat_min': np.uint32,\n",
        "             'bwd_iat_tot': np.uint32,\n",
        "             'bwd_iat_mean': np.uint32,\n",
        "             'bwd_iat_std': np.uint32,\n",
        "             'bwd_iat_max': np.uint32,\n",
        "             'bwd_iat_min': np.uint32,\n",
        "             'fwd_psh_flags': np.bool_,\n",
        "             'bwd_psh_flags': np.bool_,\n",
        "             'fwd_urg_flags': np.bool_,\n",
        "             'bwd_urg_flags': np.bool_,\n",
        "             'fwd_header_len': np.uint32,\n",
        "             'bwd_header_len': np.uint32,\n",
        "             'fwd_pktss': np.float32,\n",
        "             'bwd_pktss': np.float32,\n",
        "             'pkt_len_min': np.uint32,\n",
        "             'pkt_len_max': np.uint32,\n",
        "             'pkt_len_mean': np.float32,\n",
        "             'pkt_len_std': np.float32,\n",
        "             'pkt_len_var': np.float32,\n",
        "             'fin_flag_cnt': np.bool_,\n",
        "             'syn_flag_cnt': np.bool_,\n",
        "             'rst_flag_cnt': np.bool_,\n",
        "             'psh_flag_cnt': np.bool_,\n",
        "             'ack_flag_cnt': np.bool_,\n",
        "             'urg_flag_cnt': np.bool_,\n",
        "             'cwe_flag_count': np.bool_,\n",
        "             'ece_flag_cnt': np.bool_,\n",
        "             'downup_ratio': np.uint32,\n",
        "             'pkt_size_avg': np.float32,\n",
        "             'fwd_seg_size_avg': np.float32,\n",
        "             'bwd_seg_size_avg': np.float32,\n",
        "             'subflow_fwd_pkts': np.uint32,\n",
        "             'subflow_fwd_byts': np.uint32,\n",
        "             'subflow_bwd_pkts': np.uint32,\n",
        "             'subflow_bwd_byts': np.uint32,\n",
        "             'init_fwd_win_byts': np.int32,\n",
        "             'init_bwd_win_byts': np.int32,\n",
        "             'fwd_act_data_pkts': np.uint32,\n",
        "             'fwd_seg_size_min': np.uint32,\n",
        "             'active_mean': np.float32,\n",
        "             'active_std': np.float32,\n",
        "             'active_max': np.uint32,\n",
        "             'active_min': np.uint32,\n",
        "             'idle_mean': np.uint32,\n",
        "             'idle_std': np.float32,\n",
        "             'idle_max': np.uint32,\n",
        "             'idle_min': np.uint32,\n",
        "             'label': 'category'}"
      ],
      "execution_count": 14,
      "outputs": [
        {
          "output_type": "stream",
          "name": "stdout",
          "text": [
            "time: 3.3 ms (started: 2021-11-20 08:01:16 +00:00)\n"
          ]
        }
      ]
    },
    {
      "cell_type": "code",
      "metadata": {
        "id": "kpkHqiiRYKwE",
        "colab": {
          "base_uri": "https://localhost:8080/"
        },
        "outputId": "83573db7-b666-46b4-9a5b-8dc2a8c143a1"
      },
      "source": [
        "# ----------------------------------------------------------------------\n",
        "# CONCATENATE CSVs -----------------------------------------------------\n",
        "# ----------------------------------------------------------------------"
      ],
      "execution_count": 15,
      "outputs": [
        {
          "output_type": "stream",
          "name": "stdout",
          "text": [
            "time: 859 µs (started: 2021-11-20 08:01:16 +00:00)\n"
          ]
        }
      ]
    },
    {
      "cell_type": "code",
      "metadata": {
        "colab": {
          "base_uri": "https://localhost:8080/"
        },
        "id": "w3sG9q0FaSeC",
        "outputId": "3b46ea8a-32cb-43f2-e116-cb85b9aa102a"
      },
      "source": [
        "df = pd.DataFrame()\n",
        "for f in all_files:\n",
        "    print(f)\n",
        "    df_temp = pd.read_csv(f, encoding='utf-8', sep=',', na_values=column_names)\n",
        "    df_temp.columns = df_temp.columns.str.strip().str.lower().str.replace(' ', '_').str.replace('(', '').str.replace(')', '').str.replace('/', '')\n",
        "    print('Before removing columns ' + str(df_temp.shape))\n",
        "    # Drop columns that are not always present\n",
        "    df_temp.drop(['src_ip', 'src_port', 'dst_ip', 'dst_port', 'flow_id', 'fwd_bytsb_avg', 'fwd_pktsb_avg', 'fwd_blk_rate_avg', 'bwd_bytsb_avg',\n",
        "                  'bwd_pktsb_avg', 'bwd_blk_rate_avg'], axis=1, inplace=True, errors='ignore')\n",
        "    # from fwd_bytsb_avg to bwd_blk_rate_avg are removed because they are always = 0\n",
        "    df_temp.drop(['timestamp'], axis=1, inplace=True, errors='ignore')\n",
        "    print('After removing columns ' + str(df_temp.shape))\n",
        "    # Drop NAs\n",
        "    df_temp.dropna(axis=0, inplace=True)\n",
        "    df_temp = df_temp.astype(mydtypes)\n",
        "    df = pd.concat([df, df_temp], sort=False)\n",
        "    print(df.shape)\n",
        "    # Sometimes there is inf values in flow_bytss and flow_pktss\n",
        "    # df.flow_bytss.isin([np.inf, -np.inf]).sum()\n",
        "    # they will be replaced later by the maximum value of the training set"
      ],
      "execution_count": 16,
      "outputs": [
        {
          "output_type": "stream",
          "name": "stdout",
          "text": [
            "/content/drive/My Drive/lite/Thursday-01-03-2019.csv\n",
            "Before removing columns (232484, 80)\n",
            "After removing columns (232484, 72)\n",
            "(232163, 72)\n",
            "/content/drive/My Drive/lite/Friday-02-03-2019.csv\n",
            "Before removing columns (195527, 80)\n",
            "After removing columns (195527, 72)\n",
            "(427604, 72)\n",
            "/content/drive/My Drive/lite/Wednesday-21-02-2019.csv\n",
            "Before removing columns (131374, 80)\n",
            "After removing columns (131374, 72)\n",
            "(558978, 72)\n",
            "/content/drive/My Drive/lite/Friday-16-02-2019.csv\n",
            "Before removing columns (182166, 80)\n",
            "After removing columns (182166, 72)\n",
            "(740861, 72)\n",
            "/content/drive/My Drive/lite/Wednesday-28-02-2019.csv\n",
            "Before removing columns (398300, 80)\n",
            "After removing columns (398300, 72)\n",
            "(1139154, 72)\n",
            "time: 17.3 s (started: 2021-11-20 08:01:16 +00:00)\n"
          ]
        }
      ]
    },
    {
      "cell_type": "code",
      "metadata": {
        "id": "FJSrTtSyaSsx",
        "colab": {
          "base_uri": "https://localhost:8080/"
        },
        "outputId": "25c3a37c-1939-4139-fde4-9caa9dc0b76d"
      },
      "source": [
        "# ----------------------------------------------------------------------\n",
        "# DATA CLEANING --------------------------------------------------------\n",
        "# ----------------------------------------------------------------------"
      ],
      "execution_count": 17,
      "outputs": [
        {
          "output_type": "stream",
          "name": "stdout",
          "text": [
            "time: 917 µs (started: 2021-11-20 08:01:33 +00:00)\n"
          ]
        }
      ]
    },
    {
      "cell_type": "code",
      "metadata": {
        "colab": {
          "base_uri": "https://localhost:8080/"
        },
        "id": "v08C23TMaSga",
        "outputId": "cfc49dec-04c2-4330-8bed-56112f64d92a"
      },
      "source": [
        "print('Replace inf values with the max of the column for variables flow_bytss and flow_pktss')\n",
        "whereinf = df.flow_bytss.isin([np.inf, -np.inf])\n",
        "df.flow_bytss[whereinf] = np.nan\n",
        "df.flow_bytss[whereinf] = df.flow_bytss.max()\n",
        "\n",
        "whereinf = df.flow_pktss.isin([np.inf, -np.inf])\n",
        "df.flow_pktss[whereinf] = np.nan\n",
        "df.flow_pktss[whereinf] = df.flow_pktss.max()\n",
        "\n",
        "print('Classes and their frequencies in the dataset:')\n",
        "print(df['label'].value_counts(normalize=True, sort=False))\n",
        "\n",
        "print('Classes and their number of occurence in the dataset:')\n",
        "print(df['label'].value_counts(normalize=False, sort=False))"
      ],
      "execution_count": 18,
      "outputs": [
        {
          "output_type": "stream",
          "name": "stdout",
          "text": [
            "Replace inf values with the max of the column for variables flow_bytss and flow_pktss\n",
            "Classes and their frequencies in the dataset:\n",
            "Benign              0.314123\n",
            "Infilteration       0.094753\n",
            "DDOS attack-HOIC    0.229932\n",
            "FTP-BruteForce      0.225927\n",
            "SSH-Bruteforce      0.078836\n",
            "DoS attacks-Hulk    0.056430\n",
            "Name: label, dtype: float64\n",
            "Classes and their number of occurence in the dataset:\n",
            "Benign              357834\n",
            "Infilteration       107938\n",
            "DDOS attack-HOIC    261928\n",
            "FTP-BruteForce      257366\n",
            "SSH-Bruteforce       89806\n",
            "DoS attacks-Hulk     64282\n",
            "Name: label, dtype: int64\n",
            "time: 195 ms (started: 2021-11-20 08:01:33 +00:00)\n"
          ]
        }
      ]
    },
    {
      "cell_type": "code",
      "metadata": {
        "id": "clN9EJ28aSZp",
        "colab": {
          "base_uri": "https://localhost:8080/"
        },
        "outputId": "aa6ff930-c986-496e-8a6b-45ddc2f99111"
      },
      "source": [
        "# ----------------------------------------------------------------------\n",
        "# TRAIN/TEST SPLIT -----------------------------------------------------\n",
        "# ----------------------------------------------------------------------"
      ],
      "execution_count": 19,
      "outputs": [
        {
          "output_type": "stream",
          "name": "stdout",
          "text": [
            "time: 986 µs (started: 2021-11-20 08:01:33 +00:00)\n"
          ]
        }
      ]
    },
    {
      "cell_type": "code",
      "metadata": {
        "colab": {
          "base_uri": "https://localhost:8080/"
        },
        "id": "IbTBXWaVcQ3L",
        "outputId": "a40ba3bb-57cd-464f-d2b9-6fb4b2c56a87"
      },
      "source": [
        "print('Train/test split of the data')\n",
        "X_train, X_test, y_train, y_test = train_test_split(df.drop('label', axis=1),\n",
        "                                                    df['label'], test_size=0.20, random_state=42)\n",
        "print('X_train shape is {}'.format(X_train.shape))\n",
        "print('X_test shape is {}'.format(X_test.shape))"
      ],
      "execution_count": 20,
      "outputs": [
        {
          "output_type": "stream",
          "name": "stdout",
          "text": [
            "Train/test split of the data\n",
            "X_train shape is (911323, 71)\n",
            "X_test shape is (227831, 71)\n",
            "time: 1.36 s (started: 2021-11-20 08:01:33 +00:00)\n"
          ]
        }
      ]
    },
    {
      "cell_type": "code",
      "metadata": {
        "id": "aw8HtVHmcRhM",
        "colab": {
          "base_uri": "https://localhost:8080/"
        },
        "outputId": "5d96c3a9-b416-43ed-bd6e-69c1cab6a4f4"
      },
      "source": [
        "# ----------------------------------------------------------------------\n",
        "# NORMALIZATION --------------------------------------------------------\n",
        "# ----------------------------------------------------------------------"
      ],
      "execution_count": 21,
      "outputs": [
        {
          "output_type": "stream",
          "name": "stdout",
          "text": [
            "time: 1.18 ms (started: 2021-11-20 08:01:34 +00:00)\n"
          ]
        }
      ]
    },
    {
      "cell_type": "code",
      "metadata": {
        "colab": {
          "base_uri": "https://localhost:8080/"
        },
        "id": "cOrlRSDrcRYc",
        "outputId": "b2642b86-c96a-477a-ea4d-e4e27f6afadb"
      },
      "source": [
        "kinds = np.array([dt.kind for dt in X_train.dtypes])\n",
        "numeric_features = X_train.columns[(kinds != 'O') & (kinds != 'b')]\n",
        "categorical_features = X_train.columns[kinds == 'O']\n",
        "boolean_features = X_train.columns[kinds == 'b']\n",
        "print('Process {} columns as numeric features using minmaxscaler.'.format(len(numeric_features)))\n",
        "print('Process {} columns as categorical features using one-hot encoding.'.format(len(categorical_features)))\n",
        "print('Process {} columns as boolean features using binarizer.'.format(len(boolean_features)))\n",
        "\n",
        "numeric_transformer = Pipeline(steps=[\n",
        "   ('mms', MinMaxScaler())])\n",
        "categorical_transformer = Pipeline(steps=[\n",
        "    ('ohe', OneHotEncoder(sparse=True, handle_unknown='ignore'))])\n",
        "# The boolean transformer is useless here but could be at some point, and allows the\n",
        "# process to be homegeneous among different types of variables\n",
        "boolean_transformer = Pipeline(steps=[\n",
        "    ('binarizer', Binarizer())])\n",
        "preprocessor = ColumnTransformer(\n",
        "    transformers=[\n",
        "        ('num', numeric_transformer, numeric_features),\n",
        "        ('cat', categorical_transformer, categorical_features),\n",
        "        ('boo', boolean_transformer, boolean_features)\n",
        "    ])\n",
        "X_train = preprocessor.fit_transform(X_train)\n",
        "X_test  = preprocessor.transform(X_test)"
      ],
      "execution_count": 22,
      "outputs": [
        {
          "output_type": "stream",
          "name": "stdout",
          "text": [
            "Process 59 columns as numeric features using minmaxscaler.\n",
            "Process 0 columns as categorical features using one-hot encoding.\n",
            "Process 12 columns as boolean features using binarizer.\n",
            "time: 1.61 s (started: 2021-11-20 08:01:34 +00:00)\n"
          ]
        }
      ]
    },
    {
      "cell_type": "code",
      "metadata": {
        "id": "VwxTS2UWcQzc",
        "colab": {
          "base_uri": "https://localhost:8080/"
        },
        "outputId": "8514067c-453d-423b-ad1a-0731a79b787c"
      },
      "source": [
        "# ----------------------------------------------------------------------\n",
        "# LABEL ENCODING -------------------------------------------------------\n",
        "# ----------------------------------------------------------------------"
      ],
      "execution_count": 23,
      "outputs": [
        {
          "output_type": "stream",
          "name": "stdout",
          "text": [
            "time: 439 µs (started: 2021-11-20 08:01:36 +00:00)\n"
          ]
        }
      ]
    },
    {
      "cell_type": "code",
      "metadata": {
        "id": "kb7oZRbTcfJ6",
        "colab": {
          "base_uri": "https://localhost:8080/"
        },
        "outputId": "a8148bbe-9e5c-45a7-8bea-a452f4731a1f"
      },
      "source": [
        "le = LabelEncoder()\n",
        "y_train = le.fit_transform(y_train)\n",
        "y_test = le.transform(y_test)\n",
        "Label_mapping = dict(zip(le.classes_, range(len(le.classes_))))"
      ],
      "execution_count": 24,
      "outputs": [
        {
          "output_type": "stream",
          "name": "stdout",
          "text": [
            "time: 254 ms (started: 2021-11-20 08:01:36 +00:00)\n"
          ]
        }
      ]
    },
    {
      "cell_type": "code",
      "metadata": {
        "id": "3bJqu-WZcfny",
        "colab": {
          "base_uri": "https://localhost:8080/"
        },
        "outputId": "3e4b5f73-ff95-4b97-c990-3eb95b22ca6e"
      },
      "source": [
        "# ----------------------------------------------------------------------\n",
        "# ML -------------------------------------------------------------------\n",
        "# ----------------------------------------------------------------------"
      ],
      "execution_count": 25,
      "outputs": [
        {
          "output_type": "stream",
          "name": "stdout",
          "text": [
            "time: 412 µs (started: 2021-11-20 08:01:36 +00:00)\n"
          ]
        }
      ]
    },
    {
      "cell_type": "code",
      "metadata": {
        "colab": {
          "base_uri": "https://localhost:8080/"
        },
        "id": "bjYzwMWt506b",
        "outputId": "ea63d0c3-d955-4fc8-f793-ef6b4b0f8f6d"
      },
      "source": [
        "clf=setup(data=df,target='label', use_gpu=True, silent = True, verbose=False)\n",
        "sys.modules['sklearn.externals.six'] = six"
      ],
      "execution_count": 26,
      "outputs": [
        {
          "output_type": "stream",
          "name": "stdout",
          "text": [
            "time: 53.2 s (started: 2021-11-20 08:01:36 +00:00)\n"
          ]
        }
      ]
    },
    {
      "cell_type": "code",
      "metadata": {
        "colab": {
          "base_uri": "https://localhost:8080/",
          "height": 286,
          "referenced_widgets": [
            "bef23466f4d54aab877c52b03c948310",
            "c731fb5584f54d66b74d4e1931e38395",
            "218cbdc114134263a9d4129280f11104"
          ]
        },
        "id": "EySgM8lnhM9W",
        "outputId": "a6715f6a-4f87-48f4-b435-4b11cb57f450"
      },
      "source": [
        "# compare some baseline models and select top 2\n",
        "best = compare_models(exclude = ['gbc', 'lr', 'knn', 'ada', 'svm', 'ridge', 'rf', 'et'], cross_validation=False, n_select = 1) \n",
        "%load_ext tensorboard\n",
        "# tune top 5 base models\n",
        "#tuned_top5 = [tune_model(i) for i in top5]\n",
        "# ensemble top 5 tuned models\n",
        "# = [ensemble_model(i) for i in top5]\n",
        "# blend top 5 base models \n",
        "#blender = blend_models(estimator_list = top5) \n",
        "# select best model \n",
        "#best = automl(optimize = 'Recall')"
      ],
      "execution_count": 27,
      "outputs": [
        {
          "output_type": "display_data",
          "data": {
            "text/html": [
              "<div>\n",
              "<style scoped>\n",
              "    .dataframe tbody tr th:only-of-type {\n",
              "        vertical-align: middle;\n",
              "    }\n",
              "\n",
              "    .dataframe tbody tr th {\n",
              "        vertical-align: top;\n",
              "    }\n",
              "\n",
              "    .dataframe thead th {\n",
              "        text-align: right;\n",
              "    }\n",
              "</style>\n",
              "<table border=\"1\" class=\"dataframe\">\n",
              "  <thead>\n",
              "    <tr style=\"text-align: right;\">\n",
              "      <th></th>\n",
              "      <th>Model</th>\n",
              "      <th>Accuracy</th>\n",
              "      <th>AUC</th>\n",
              "      <th>Recall</th>\n",
              "      <th>Prec.</th>\n",
              "      <th>F1</th>\n",
              "      <th>Kappa</th>\n",
              "      <th>MCC</th>\n",
              "      <th>TT (Sec)</th>\n",
              "    </tr>\n",
              "  </thead>\n",
              "  <tbody>\n",
              "    <tr>\n",
              "      <th>dt</th>\n",
              "      <td>Decision Tree Classifier</td>\n",
              "      <td>0.9860</td>\n",
              "      <td>0.9929</td>\n",
              "      <td>0.9864</td>\n",
              "      <td>0.9863</td>\n",
              "      <td>0.9861</td>\n",
              "      <td>0.9821</td>\n",
              "      <td>0.9821</td>\n",
              "      <td>11.84</td>\n",
              "    </tr>\n",
              "    <tr>\n",
              "      <th>xgboost</th>\n",
              "      <td>Extreme Gradient Boosting</td>\n",
              "      <td>0.9860</td>\n",
              "      <td>0.9992</td>\n",
              "      <td>0.9911</td>\n",
              "      <td>0.9874</td>\n",
              "      <td>0.9863</td>\n",
              "      <td>0.9821</td>\n",
              "      <td>0.9822</td>\n",
              "      <td>36.52</td>\n",
              "    </tr>\n",
              "    <tr>\n",
              "      <th>catboost</th>\n",
              "      <td>CatBoost Classifier</td>\n",
              "      <td>0.9858</td>\n",
              "      <td>0.9992</td>\n",
              "      <td>0.9903</td>\n",
              "      <td>0.9870</td>\n",
              "      <td>0.9860</td>\n",
              "      <td>0.9818</td>\n",
              "      <td>0.9820</td>\n",
              "      <td>41.34</td>\n",
              "    </tr>\n",
              "    <tr>\n",
              "      <th>lda</th>\n",
              "      <td>Linear Discriminant Analysis</td>\n",
              "      <td>0.9655</td>\n",
              "      <td>0.9944</td>\n",
              "      <td>0.9679</td>\n",
              "      <td>0.9683</td>\n",
              "      <td>0.9660</td>\n",
              "      <td>0.9560</td>\n",
              "      <td>0.9565</td>\n",
              "      <td>14.47</td>\n",
              "    </tr>\n",
              "    <tr>\n",
              "      <th>qda</th>\n",
              "      <td>Quadratic Discriminant Analysis</td>\n",
              "      <td>0.9363</td>\n",
              "      <td>0.9950</td>\n",
              "      <td>0.9005</td>\n",
              "      <td>0.9340</td>\n",
              "      <td>0.9292</td>\n",
              "      <td>0.9172</td>\n",
              "      <td>0.9195</td>\n",
              "      <td>5.72</td>\n",
              "    </tr>\n",
              "    <tr>\n",
              "      <th>nb</th>\n",
              "      <td>Naive Bayes</td>\n",
              "      <td>0.8434</td>\n",
              "      <td>0.9716</td>\n",
              "      <td>0.7810</td>\n",
              "      <td>0.8654</td>\n",
              "      <td>0.8288</td>\n",
              "      <td>0.8005</td>\n",
              "      <td>0.8058</td>\n",
              "      <td>1.30</td>\n",
              "    </tr>\n",
              "    <tr>\n",
              "      <th>dummy</th>\n",
              "      <td>Dummy Classifier</td>\n",
              "      <td>0.3140</td>\n",
              "      <td>0.0000</td>\n",
              "      <td>0.1667</td>\n",
              "      <td>0.0986</td>\n",
              "      <td>0.1500</td>\n",
              "      <td>0.0000</td>\n",
              "      <td>0.0000</td>\n",
              "      <td>0.05</td>\n",
              "    </tr>\n",
              "  </tbody>\n",
              "</table>\n",
              "</div>"
            ],
            "text/plain": [
              "                                    Model  Accuracy     AUC  Recall   Prec.  \\\n",
              "dt               Decision Tree Classifier    0.9860  0.9929  0.9864  0.9863   \n",
              "xgboost         Extreme Gradient Boosting    0.9860  0.9992  0.9911  0.9874   \n",
              "catboost              CatBoost Classifier    0.9858  0.9992  0.9903  0.9870   \n",
              "lda          Linear Discriminant Analysis    0.9655  0.9944  0.9679  0.9683   \n",
              "qda       Quadratic Discriminant Analysis    0.9363  0.9950  0.9005  0.9340   \n",
              "nb                            Naive Bayes    0.8434  0.9716  0.7810  0.8654   \n",
              "dummy                    Dummy Classifier    0.3140  0.0000  0.1667  0.0986   \n",
              "\n",
              "              F1   Kappa     MCC  TT (Sec)  \n",
              "dt        0.9861  0.9821  0.9821     11.84  \n",
              "xgboost   0.9863  0.9821  0.9822     36.52  \n",
              "catboost  0.9860  0.9818  0.9820     41.34  \n",
              "lda       0.9660  0.9560  0.9565     14.47  \n",
              "qda       0.9292  0.9172  0.9195      5.72  \n",
              "nb        0.8288  0.8005  0.8058      1.30  \n",
              "dummy     0.1500  0.0000  0.0000      0.05  "
            ]
          },
          "metadata": {}
        },
        {
          "output_type": "stream",
          "name": "stdout",
          "text": [
            "time: 2min 55s (started: 2021-11-20 08:02:30 +00:00)\n"
          ]
        }
      ]
    },
    {
      "cell_type": "code",
      "metadata": {
        "id": "TyeJTXOAi3KS",
        "colab": {
          "base_uri": "https://localhost:8080/",
          "height": 495
        },
        "outputId": "2e71568f-fc5c-462b-deee-20437722a810"
      },
      "source": [
        "plot_model(best, plot = 'feature')"
      ],
      "execution_count": 28,
      "outputs": [
        {
          "output_type": "display_data",
          "data": {
            "image/png": "[encoded data removed]",
            "text/plain": [
              "<Figure size 800x500 with 1 Axes>"
            ]
          },
          "metadata": {}
        },
        {
          "output_type": "stream",
          "name": "stdout",
          "text": [
            "time: 596 ms (started: 2021-11-20 08:05:26 +00:00)\n"
          ]
        }
      ]
    },
    {
      "cell_type": "code",
      "metadata": {
        "id": "Cng9N0iem_Qv",
        "colab": {
          "base_uri": "https://localhost:8080/",
          "height": 418,
          "referenced_widgets": [
            "873a59f897464e558c5f72d402e1b4dc",
            "058ffd64b5ce4c46abf02d32512c97a1",
            "936e6ed02e6d4a1da93f68023e21fca9"
          ]
        },
        "outputId": "3e65d680-780f-4691-d602-d4b0bdda8adf"
      },
      "source": [
        "plot_model(best, plot = 'error')"
      ],
      "execution_count": 29,
      "outputs": [
        {
          "output_type": "display_data",
          "data": {
            "image/png": "[encoded data removed]",
            "text/plain": [
              "<Figure size 576x396 with 1 Axes>"
            ]
          },
          "metadata": {}
        },
        {
          "output_type": "stream",
          "name": "stdout",
          "text": [
            "time: 1.24 s (started: 2021-11-20 08:05:26 +00:00)\n"
          ]
        }
      ]
    },
    {
      "cell_type": "code",
      "metadata": {
        "id": "ssvILfj8nFDL",
        "colab": {
          "base_uri": "https://localhost:8080/",
          "height": 393,
          "referenced_widgets": [
            "a53b6488633743099b34c70e26864a0b",
            "73808743a5f34b3387729698e14e188e",
            "a05d1331bffc4f7588f89ff7fa0dce83"
          ]
        },
        "outputId": "43565ea9-a09d-4c9f-86ea-02e576c5fc06"
      },
      "source": [
        "plot_model(best, plot = 'auc')"
      ],
      "execution_count": 30,
      "outputs": [
        {
          "output_type": "display_data",
          "data": {
            "image/png": "[encoded data removed]",
            "text/plain": [
              "<Figure size 576x396 with 1 Axes>"
            ]
          },
          "metadata": {}
        },
        {
          "output_type": "stream",
          "name": "stdout",
          "text": [
            "time: 1.44 s (started: 2021-11-20 08:05:27 +00:00)\n"
          ]
        }
      ]
    },
    {
      "cell_type": "code",
      "metadata": {
        "id": "Xy1GQDBCnMI3",
        "colab": {
          "base_uri": "https://localhost:8080/",
          "height": 418,
          "referenced_widgets": [
            "10c4999a2fe046d0b6fb7f6af8ce6755",
            "7c2fff6e2a1942f0acbebb9115759ce9",
            "381f31e540ac4304b98a9ff8b6a9ccbb"
          ]
        },
        "outputId": "06179f43-f574-421c-c632-b1441e3dd55c"
      },
      "source": [
        "plot_model(best, plot = 'class_report')"
      ],
      "execution_count": 31,
      "outputs": [
        {
          "output_type": "display_data",
          "data": {
            "image/png": "[encoded data removed]",
            "text/plain": [
              "<Figure size 576x396 with 2 Axes>"
            ]
          },
          "metadata": {}
        },
        {
          "output_type": "stream",
          "name": "stdout",
          "text": [
            "time: 1.24 s (started: 2021-11-20 08:05:29 +00:00)\n"
          ]
        }
      ]
    },
    {
      "cell_type": "code",
      "metadata": {
        "id": "r-zlMs5hnVIU",
        "colab": {
          "base_uri": "https://localhost:8080/",
          "height": 418,
          "referenced_widgets": [
            "b39ba5a93f6b46649f73c8ac546aab51",
            "bd5648fca7dd4c9783c7872ffc0ac5a5",
            "2c439ddc0fdc42fd804b8a0dfb07c3cd"
          ]
        },
        "outputId": "762ef87d-947c-4b13-d1d0-8b501569e470"
      },
      "source": [
        "plot_model(best, plot = 'confusion_matrix')"
      ],
      "execution_count": 32,
      "outputs": [
        {
          "output_type": "display_data",
          "data": {
            "image/png": "[encoded data removed]",
            "text/plain": [
              "<Figure size 576x396 with 1 Axes>"
            ]
          },
          "metadata": {}
        },
        {
          "output_type": "stream",
          "name": "stdout",
          "text": [
            "time: 1.38 s (started: 2021-11-20 08:05:30 +00:00)\n"
          ]
        }
      ]
    }
  ]
}
