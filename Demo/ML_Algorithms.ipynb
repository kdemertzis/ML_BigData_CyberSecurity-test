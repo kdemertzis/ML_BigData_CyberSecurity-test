{
  "nbformat": 4,
  "nbformat_minor": 0,
  "metadata": {
    "kernelspec": {
      "language": "python",
      "display_name": "Python 3",
      "name": "python3"
    },
    "language_info": {
      "name": "python",
      "version": "3.6.6",
      "mimetype": "text/x-python",
      "codemirror_mode": {
        "name": "ipython",
        "version": 3
      },
      "pygments_lexer": "ipython3",
      "nbconvert_exporter": "python",
      "file_extension": ".py"
    },
    "colab": {
      "name": "ML_Algorithms.ipynb",
      "provenance": [],
      "include_colab_link": true
    }
  },
  "cells": [
    {
      "cell_type": "markdown",
      "metadata": {
        "id": "view-in-github",
        "colab_type": "text"
      },
      "source": [
        "<a href=\"https://colab.research.google.com/github/kdemertzis/ML_BigData_CyberSecurity-test/blob/master/Demo/ML_Algorithms.ipynb\" target=\"_parent\"><img src=\"https://colab.research.google.com/assets/colab-badge.svg\" alt=\"Open In Colab\"/></a>"
      ]
    },
    {
      "cell_type": "markdown",
      "metadata": {
        "id": "f-bKVa_84o70"
      },
      "source": [
        "<a id='top'></a>\n",
        "## <div style=\"text-align: center\">Machine Learning with Scikit-Learn  </div>\n",
        "\n",
        "Scikit-learn is a library in Python that provides many unsupervised and supervised learning algorithms. It’s built upon some of the technology you might already be familiar with, like NumPy, pandas, and Matplotlib!\n",
        "**\n",
        "#### The functionality that scikit-learn provides include:\n",
        "\n",
        "- **Regression**, including Linear and Logistic Regression\n",
        "- **Classification**, including K-Nearest Neighbors\n",
        "- **Clustering**, including K-Means and K-Means++\n",
        "- **Model selection**\n",
        "- **Preprocessing**, including Min-Max Normalization\n",
        "\n",
        "</div>\n",
        "<div style=\"text-align:center\">Website: http://scikit-learn.org\n",
        "\n",
        "<img src=\"http://scikit-learn.org/dev/_static/ml_map.png\">\n",
        "\n",
        "-------------------------------------------------------------\n",
        "\n",
        "AI & Big Data Analysis: Cybersecurity Perspectives\n",
        "\n",
        "Practice code for machine learning use-cases in cyber security\n",
        " "
      ]
    },
    {
      "cell_type": "markdown",
      "metadata": {
        "id": "sinlKRMQ9mOu"
      },
      "source": [
        "<a id=\"2\"></a> <br>\n",
        "## 2- Info\n",
        "https://github.com/kdemertzis/ML_BigData_CyberSecurity-test"
      ]
    },
    {
      "cell_type": "markdown",
      "metadata": {
        "id": "YtsX1OPV4o7_"
      },
      "source": [
        "<a id=\"3\"></a> <br>\n",
        "## 3- Import"
      ]
    },
    {
      "cell_type": "code",
      "metadata": {
        "execution": {
          "iopub.status.busy": "2021-11-20T19:42:44.983944Z",
          "iopub.execute_input": "2021-11-20T19:42:44.984353Z",
          "iopub.status.idle": "2021-11-20T19:42:46.913281Z",
          "shell.execute_reply.started": "2021-11-20T19:42:44.984286Z",
          "shell.execute_reply": "2021-11-20T19:42:46.912190Z"
        },
        "trusted": true,
        "id": "3BY_U4r-4o7_"
      },
      "source": [
        "%matplotlib inline\n",
        "import numpy as np\n",
        "import pandas as pd\n",
        "import matplotlib.pyplot as plt\n",
        "import seaborn as sns\n",
        "from sklearn.model_selection import train_test_split\n",
        "from sklearn.metrics import classification_report\n",
        "from sklearn.linear_model import LinearRegression\n",
        "from sklearn.metrics import accuracy_score\n",
        "from sklearn.metrics import confusion_matrix\n",
        "from scipy import stats\n",
        "import pylab as pl\n",
        "\n",
        "# Display HTML\n",
        "from IPython.core.display import display, HTML"
      ],
      "execution_count": 1,
      "outputs": []
    },
    {
      "cell_type": "markdown",
      "metadata": {
        "id": "ygLEeqdq4o8A"
      },
      "source": [
        "<a id=\"4\"></a> <br>\n",
        "## 4- Estimator"
      ]
    },
    {
      "cell_type": "markdown",
      "metadata": {
        "id": "rPQ3_a0V4o8A"
      },
      "source": [
        "Given a scikit-learn estimator object named **model**, the following methods are available:\n",
        "\n",
        "#### Available in all Estimators\n",
        "\n",
        "**model.fit()** : fit training data. For supervised learning applications, this accepts two arguments: the data X and the labels y (e.g. model.fit(X, y)). For unsupervised learning applications, this accepts only a single argument, the data X (e.g. model.fit(X)).\n",
        "\n",
        "---------------------------------------------------------\n",
        "\n",
        "#### Available in supervised estimators\n",
        "\n",
        "**model.predict()** : given a trained model, predict the label of a new set of data. This method accepts one argument, the new data X_new (e.g. model.predict(X_new)), and returns the learned label for each object in the array.\n",
        "\n",
        "**model.predict_proba()** : For classification problems, some estimators also provide this method, which returns the probability that a new observation has each categorical label. In this case, the label with the highest probability is returned by model.predict().\n",
        "**model.score()** : for classification or regression problems, most (all?) estimators implement a score method. Scores are between 0 and 1, with a larger score indicating a better fit.\n",
        "\n",
        "---------------------------------------------------------\n",
        "#### Available in unsupervised estimators\n",
        "\n",
        "**model.predict()** : predict labels in clustering algorithms.\n",
        "**model.transform()** : given an unsupervised model, transform new data into the new basis. This also accepts one argument X_new, and returns the new representation of the data based on the unsupervised model.\n",
        "**model.fit_transform()** : some estimators implement this method, which more efficiently performs a fit and a transform on the same input data."
      ]
    },
    {
      "cell_type": "markdown",
      "metadata": {
        "id": "3GbH6oEn4o8B"
      },
      "source": [
        "<a id=\"5\"></a> <br>\n",
        "## 5- Load Data"
      ]
    },
    {
      "cell_type": "code",
      "metadata": {
        "execution": {
          "iopub.status.busy": "2021-11-20T19:42:46.916939Z",
          "iopub.execute_input": "2021-11-20T19:42:46.917653Z",
          "iopub.status.idle": "2021-11-20T19:42:46.937525Z",
          "shell.execute_reply.started": "2021-11-20T19:42:46.917572Z",
          "shell.execute_reply": "2021-11-20T19:42:46.936212Z"
        },
        "trusted": true,
        "id": "vqiEZBNB4o8C"
      },
      "source": [
        "data =  pd.read_csv('https://raw.githubusercontent.com/kdemertzis/ML_BigData_CyberSecurity-test/master/Demo/android_mal.csv')"
      ],
      "execution_count": 2,
      "outputs": []
    },
    {
      "cell_type": "code",
      "metadata": {
        "execution": {
          "iopub.status.busy": "2021-11-20T19:42:46.940681Z",
          "iopub.execute_input": "2021-11-20T19:42:46.941444Z",
          "iopub.status.idle": "2021-11-20T19:42:46.973748Z",
          "shell.execute_reply.started": "2021-11-20T19:42:46.941374Z",
          "shell.execute_reply": "2021-11-20T19:42:46.973000Z"
        },
        "trusted": true,
        "id": "BeqxZ0Lk4o8C",
        "colab": {
          "base_uri": "https://localhost:8080/",
          "height": 206
        },
        "outputId": "0f93dc6c-0530-472c-fd5c-0159c00bff22"
      },
      "source": [
        "data.head()"
      ],
      "execution_count": 3,
      "outputs": [
        {
          "output_type": "execute_result",
          "data": {
            "text/html": [
              "<div>\n",
              "<style scoped>\n",
              "    .dataframe tbody tr th:only-of-type {\n",
              "        vertical-align: middle;\n",
              "    }\n",
              "\n",
              "    .dataframe tbody tr th {\n",
              "        vertical-align: top;\n",
              "    }\n",
              "\n",
              "    .dataframe thead th {\n",
              "        text-align: right;\n",
              "    }\n",
              "</style>\n",
              "<table border=\"1\" class=\"dataframe\">\n",
              "  <thead>\n",
              "    <tr style=\"text-align: right;\">\n",
              "      <th></th>\n",
              "      <th>permission</th>\n",
              "      <th>access</th>\n",
              "      <th>activity</th>\n",
              "      <th>sys</th>\n",
              "      <th>class</th>\n",
              "    </tr>\n",
              "  </thead>\n",
              "  <tbody>\n",
              "    <tr>\n",
              "      <th>0</th>\n",
              "      <td>5.1</td>\n",
              "      <td>3.5</td>\n",
              "      <td>1.4</td>\n",
              "      <td>0.2</td>\n",
              "      <td>benign</td>\n",
              "    </tr>\n",
              "    <tr>\n",
              "      <th>1</th>\n",
              "      <td>4.9</td>\n",
              "      <td>3.0</td>\n",
              "      <td>1.4</td>\n",
              "      <td>0.2</td>\n",
              "      <td>benign</td>\n",
              "    </tr>\n",
              "    <tr>\n",
              "      <th>2</th>\n",
              "      <td>4.7</td>\n",
              "      <td>3.2</td>\n",
              "      <td>1.3</td>\n",
              "      <td>0.2</td>\n",
              "      <td>benign</td>\n",
              "    </tr>\n",
              "    <tr>\n",
              "      <th>3</th>\n",
              "      <td>4.6</td>\n",
              "      <td>3.1</td>\n",
              "      <td>1.5</td>\n",
              "      <td>0.2</td>\n",
              "      <td>benign</td>\n",
              "    </tr>\n",
              "    <tr>\n",
              "      <th>4</th>\n",
              "      <td>5.0</td>\n",
              "      <td>3.6</td>\n",
              "      <td>1.4</td>\n",
              "      <td>0.2</td>\n",
              "      <td>benign</td>\n",
              "    </tr>\n",
              "  </tbody>\n",
              "</table>\n",
              "</div>"
            ],
            "text/plain": [
              "   permission  access  activity  sys   class\n",
              "0         5.1     3.5       1.4  0.2  benign\n",
              "1         4.9     3.0       1.4  0.2  benign\n",
              "2         4.7     3.2       1.3  0.2  benign\n",
              "3         4.6     3.1       1.5  0.2  benign\n",
              "4         5.0     3.6       1.4  0.2  benign"
            ]
          },
          "metadata": {},
          "execution_count": 3
        }
      ]
    },
    {
      "cell_type": "code",
      "metadata": {
        "execution": {
          "iopub.status.busy": "2021-11-20T19:42:46.975369Z",
          "iopub.execute_input": "2021-11-20T19:42:46.976053Z",
          "iopub.status.idle": "2021-11-20T19:42:46.982530Z",
          "shell.execute_reply.started": "2021-11-20T19:42:46.975990Z",
          "shell.execute_reply": "2021-11-20T19:42:46.981556Z"
        },
        "trusted": true,
        "id": "NT8y_m2l4o8C",
        "colab": {
          "base_uri": "https://localhost:8080/"
        },
        "outputId": "d27bceef-5cd8-4d2d-ff32-e15a2ce01ee2"
      },
      "source": [
        "print(data.shape)"
      ],
      "execution_count": 4,
      "outputs": [
        {
          "output_type": "stream",
          "name": "stdout",
          "text": [
            "(150, 5)\n"
          ]
        }
      ]
    },
    {
      "cell_type": "code",
      "metadata": {
        "execution": {
          "iopub.status.busy": "2021-11-20T19:42:46.994454Z",
          "iopub.execute_input": "2021-11-20T19:42:46.995178Z",
          "iopub.status.idle": "2021-11-20T19:42:47.008572Z",
          "shell.execute_reply.started": "2021-11-20T19:42:46.995094Z",
          "shell.execute_reply": "2021-11-20T19:42:47.007507Z"
        },
        "trusted": true,
        "id": "_r2M0YdJ4o8C",
        "colab": {
          "base_uri": "https://localhost:8080/"
        },
        "outputId": "10a0ec5a-b865-47b3-9d3c-40d6908a3131"
      },
      "source": [
        "data.info()"
      ],
      "execution_count": 5,
      "outputs": [
        {
          "output_type": "stream",
          "name": "stdout",
          "text": [
            "<class 'pandas.core.frame.DataFrame'>\n",
            "RangeIndex: 150 entries, 0 to 149\n",
            "Data columns (total 5 columns):\n",
            " #   Column      Non-Null Count  Dtype  \n",
            "---  ------      --------------  -----  \n",
            " 0   permission  150 non-null    float64\n",
            " 1   access      150 non-null    float64\n",
            " 2   activity    150 non-null    float64\n",
            " 3   sys         150 non-null    float64\n",
            " 4   class       150 non-null    object \n",
            "dtypes: float64(4), object(1)\n",
            "memory usage: 6.0+ KB\n"
          ]
        }
      ]
    },
    {
      "cell_type": "markdown",
      "metadata": {
        "id": "CW_fSUdE4o8D"
      },
      "source": [
        "<a id=\"6\"></a> <br>\n",
        "## 6- Visualization\n",
        " some graphical representation of information and data."
      ]
    },
    {
      "cell_type": "code",
      "metadata": {
        "execution": {
          "iopub.status.busy": "2021-11-20T19:42:47.012477Z",
          "iopub.execute_input": "2021-11-20T19:42:47.013271Z",
          "iopub.status.idle": "2021-11-20T19:42:48.108379Z",
          "shell.execute_reply.started": "2021-11-20T19:42:47.013195Z",
          "shell.execute_reply": "2021-11-20T19:42:48.107354Z"
        },
        "trusted": true,
        "id": "soiwIifn4o8D",
        "colab": {
          "base_uri": "https://localhost:8080/",
          "height": 421
        },
        "outputId": "3d748cab-9c70-4732-8bd4-2452fe011ccc"
      },
      "source": [
        "sns.FacetGrid(data,hue='class',size=5)\\\n",
        ".map(plt.scatter,'permission','access')\\\n",
        ".add_legend()"
      ],
      "execution_count": 6,
      "outputs": [
        {
          "output_type": "stream",
          "name": "stderr",
          "text": [
            "/usr/local/lib/python3.7/dist-packages/seaborn/axisgrid.py:337: UserWarning: The `size` parameter has been renamed to `height`; please update your code.\n",
            "  warnings.warn(msg, UserWarning)\n"
          ]
        },
        {
          "output_type": "execute_result",
          "data": {
            "text/plain": [
              "<seaborn.axisgrid.FacetGrid at 0x7fdced81f9d0>"
            ]
          },
          "metadata": {},
          "execution_count": 6
        },
        {
          "output_type": "display_data",
          "data": {
            "image/png": "[encoded data removed]",
            "text/plain": [
              "<Figure size 432.75x360 with 1 Axes>"
            ]
          },
          "metadata": {
            "needs_background": "light"
          }
        }
      ]
    },
    {
      "cell_type": "code",
      "metadata": {
        "execution": {
          "iopub.status.busy": "2021-11-20T19:42:48.110137Z",
          "iopub.execute_input": "2021-11-20T19:42:48.110803Z",
          "iopub.status.idle": "2021-11-20T19:43:02.958470Z",
          "shell.execute_reply.started": "2021-11-20T19:42:48.110739Z",
          "shell.execute_reply": "2021-11-20T19:43:02.957414Z"
        },
        "trusted": true,
        "id": "WMo_qw2Y4o8D",
        "colab": {
          "base_uri": "https://localhost:8080/",
          "height": 743
        },
        "outputId": "e7eba5a6-a1b3-4768-f0d2-54191d10450b"
      },
      "source": [
        "sns.pairplot(data,hue='class')"
      ],
      "execution_count": 7,
      "outputs": [
        {
          "output_type": "execute_result",
          "data": {
            "text/plain": [
              "<seaborn.axisgrid.PairGrid at 0x7fdce56a4ed0>"
            ]
          },
          "metadata": {},
          "execution_count": 7
        },
        {
          "output_type": "display_data",
          "data": {
            "image/png": "[encoded data removed]",
            "text/plain": [
              "<Figure size 792.75x720 with 20 Axes>"
            ]
          },
          "metadata": {
            "needs_background": "light"
          }
        }
      ]
    },
    {
      "cell_type": "markdown",
      "metadata": {
        "id": "OLGq2n3k4o8D"
      },
      "source": [
        "<a id=\"7\"></a> <br>\n",
        "## 7- Prepare Train and Test\n",
        "\n",
        "scikit-learn provides a helpful function for partitioning data, train_test_split, which splits out your data into a training set and a test set.\n",
        "\n",
        "Training and test usually is 70% for training and 30% for test\n",
        "\n",
        "- Training set for fitting the model\n",
        "- Test set for evaluation only"
      ]
    },
    {
      "cell_type": "code",
      "metadata": {
        "execution": {
          "iopub.status.busy": "2021-11-20T19:43:02.959954Z",
          "iopub.execute_input": "2021-11-20T19:43:02.960318Z",
          "iopub.status.idle": "2021-11-20T19:43:02.970536Z",
          "shell.execute_reply.started": "2021-11-20T19:43:02.960265Z",
          "shell.execute_reply": "2021-11-20T19:43:02.969315Z"
        },
        "trusted": true,
        "id": "2EVkUVTy4o8E"
      },
      "source": [
        "X = data.iloc[:, :-1].values    #   X -> Feature Variables\n",
        "y = data.iloc[:, -1].values #   y ->  Target"
      ],
      "execution_count": 8,
      "outputs": []
    },
    {
      "cell_type": "code",
      "metadata": {
        "execution": {
          "iopub.status.busy": "2021-11-20T19:43:02.972822Z",
          "iopub.execute_input": "2021-11-20T19:43:02.973786Z",
          "iopub.status.idle": "2021-11-20T19:43:02.999852Z",
          "shell.execute_reply.started": "2021-11-20T19:43:02.973717Z",
          "shell.execute_reply": "2021-11-20T19:43:02.998732Z"
        },
        "trusted": true,
        "id": "H10_-8Xd4o8E"
      },
      "source": [
        "# Splitting the data into Train and Test\n",
        "\n",
        "X_train, X_test, y_train, y_test = train_test_split(X, y, test_size = 0.3, random_state = 0)\n"
      ],
      "execution_count": 9,
      "outputs": []
    },
    {
      "cell_type": "code",
      "metadata": {
        "_kg_hide-input": true,
        "execution": {
          "iopub.status.busy": "2021-11-20T19:43:03.002143Z",
          "iopub.execute_input": "2021-11-20T19:43:03.003248Z",
          "iopub.status.idle": "2021-11-20T19:43:03.015292Z",
          "shell.execute_reply.started": "2021-11-20T19:43:03.003150Z",
          "shell.execute_reply": "2021-11-20T19:43:03.014378Z"
        },
        "trusted": true,
        "id": "SGGwzwBj4o8E",
        "colab": {
          "base_uri": "https://localhost:8080/",
          "height": 203
        },
        "outputId": "22441146-e29b-47be-93f5-28da91dec9be"
      },
      "source": [
        "display(HTML(f\"\"\"\n",
        "   \n",
        "        <ul class=\"list-group\">\n",
        "          <li class=\"list-group-item disabled\" aria-disabled=\"true\"><h4>Shape of Train and Test Dataset</h4></li>\n",
        "          <li class=\"list-group-item\"><h4>Number of rows in Train dataset is: <span class=\"label label-primary\">{ X_train.shape[0]:,}</span></h4></li>\n",
        "          <li class=\"list-group-item\"> <h4>Number of columns Train dataset is <span class=\"label label-primary\">{X_train.shape[1]}</span></h4></li>\n",
        "          <li class=\"list-group-item\"><h4>Number of rows in Test dataset is: <span class=\"label label-success\">{ X_test.shape[0]:,}</span></h4></li>\n",
        "          <li class=\"list-group-item\"><h4>Number of columns Test dataset is <span class=\"label label-success\">{X_test.shape[1]}</span></h4></li>\n",
        "        </ul>\n",
        "  \n",
        "    \"\"\"))"
      ],
      "execution_count": 10,
      "outputs": [
        {
          "output_type": "display_data",
          "data": {
            "text/html": [
              "\n",
              "   \n",
              "        <ul class=\"list-group\">\n",
              "          <li class=\"list-group-item disabled\" aria-disabled=\"true\"><h4>Shape of Train and Test Dataset</h4></li>\n",
              "          <li class=\"list-group-item\"><h4>Number of rows in Train dataset is: <span class=\"label label-primary\">105</span></h4></li>\n",
              "          <li class=\"list-group-item\"> <h4>Number of columns Train dataset is <span class=\"label label-primary\">4</span></h4></li>\n",
              "          <li class=\"list-group-item\"><h4>Number of rows in Test dataset is: <span class=\"label label-success\">45</span></h4></li>\n",
              "          <li class=\"list-group-item\"><h4>Number of columns Test dataset is <span class=\"label label-success\">4</span></h4></li>\n",
              "        </ul>\n",
              "  \n",
              "    "
            ],
            "text/plain": [
              "<IPython.core.display.HTML object>"
            ]
          },
          "metadata": {}
        }
      ]
    },
    {
      "cell_type": "markdown",
      "metadata": {
        "id": "XGhAsbWV4o8E"
      },
      "source": [
        "<a id=\"8\"></a> <br>\n",
        "## 8- Machine Learning Algorithms\n",
        "<img src=\"https://d1jnx9ba8s6j9r.cloudfront.net/blog/wp-content/uploads/2018/12/Classification-Machine-Learning-Algorithms-Edureka.png\">\n",
        "Image credit:edureka.co \n",
        "\n"
      ]
    },
    {
      "cell_type": "markdown",
      "metadata": {
        "id": "izOm-kb-4o8E"
      },
      "source": [
        "<a id=\"9\"></a> <br>\n",
        "## 8-1 Linear Regression\n",
        "\n",
        "It is used to estimate real values (cost of houses, number of calls, total sales etc.) based on continuous variable(s). Here, we establish relationship between independent and dependent variables by fitting a best line. This best fit line is known as regression line and represented by a linear equation **Y= a *X + b."
      ]
    },
    {
      "cell_type": "code",
      "metadata": {
        "execution": {
          "iopub.status.busy": "2021-11-20T19:43:03.017494Z",
          "iopub.execute_input": "2021-11-20T19:43:03.018071Z",
          "iopub.status.idle": "2021-11-20T19:43:03.030118Z",
          "shell.execute_reply.started": "2021-11-20T19:43:03.017826Z",
          "shell.execute_reply": "2021-11-20T19:43:03.029182Z"
        },
        "trusted": true,
        "id": "0L68HXm_4o8F",
        "colab": {
          "base_uri": "https://localhost:8080/"
        },
        "outputId": "3ccc083b-0dbf-43f3-c8b8-714bc3393ba9"
      },
      "source": [
        "#converting object data type into int data type using labelEncoder for Linear reagration in this case\n",
        "\n",
        "XL = data.iloc[:, :-1].values    #   X -> Feature Variables\n",
        "yL = data.iloc[:, -1].values #   y ->  Target\n",
        "\n",
        "from sklearn.preprocessing import LabelEncoder\n",
        "\n",
        "le = LabelEncoder()\n",
        "Y_train= le.fit_transform(yL)\n",
        "\n",
        "print(Y_train)  # this is Y_train categotical to numerical\n"
      ],
      "execution_count": 11,
      "outputs": [
        {
          "output_type": "stream",
          "name": "stdout",
          "text": [
            "[1 1 1 1 1 1 1 1 1 1 1 1 1 1 1 1 1 1 1 1 1 1 1 1 1 1 1 1 1 1 1 1 1 1 1 1 1\n",
            " 1 1 1 1 1 1 1 1 1 1 1 1 1 0 0 0 0 0 0 0 0 0 0 0 0 0 0 0 0 0 0 0 0 0 0 0 0\n",
            " 0 0 0 0 0 0 0 0 0 0 0 0 0 0 0 0 0 0 0 0 0 0 0 0 0 0 2 2 2 2 2 2 2 2 2 2 2\n",
            " 2 2 2 2 2 2 2 2 2 2 2 2 2 2 2 2 2 2 2 2 2 2 2 2 2 2 2 2 2 2 2 2 2 2 2 2 2\n",
            " 2 2]\n"
          ]
        }
      ]
    },
    {
      "cell_type": "code",
      "metadata": {
        "execution": {
          "iopub.status.busy": "2021-11-20T19:43:03.032109Z",
          "iopub.execute_input": "2021-11-20T19:43:03.032769Z",
          "iopub.status.idle": "2021-11-20T19:43:03.047112Z",
          "shell.execute_reply.started": "2021-11-20T19:43:03.032705Z",
          "shell.execute_reply": "2021-11-20T19:43:03.046242Z"
        },
        "trusted": true,
        "id": "ffyy15av4o8F"
      },
      "source": [
        "# This is only for Linear Regretion \n",
        "X_trainL, X_testL, y_trainL, y_testL = train_test_split(XL, Y_train, test_size = 0.3, random_state = 0)\n"
      ],
      "execution_count": 12,
      "outputs": []
    },
    {
      "cell_type": "code",
      "metadata": {
        "execution": {
          "iopub.status.busy": "2021-11-20T19:43:03.049039Z",
          "iopub.execute_input": "2021-11-20T19:43:03.049847Z",
          "iopub.status.idle": "2021-11-20T19:43:03.234634Z",
          "shell.execute_reply.started": "2021-11-20T19:43:03.049773Z",
          "shell.execute_reply": "2021-11-20T19:43:03.233749Z"
        },
        "trusted": true,
        "id": "8uEnpds84o8F"
      },
      "source": [
        "from sklearn.linear_model import LinearRegression\n",
        "\n",
        "modelLR = LinearRegression()\n",
        "modelLR.fit(X_trainL, y_trainL)\n",
        "\n",
        "Y_pred = modelLR.predict(X_testL)"
      ],
      "execution_count": 13,
      "outputs": []
    },
    {
      "cell_type": "code",
      "metadata": {
        "execution": {
          "iopub.status.busy": "2021-11-20T19:43:03.237593Z",
          "iopub.execute_input": "2021-11-20T19:43:03.238255Z",
          "iopub.status.idle": "2021-11-20T19:43:03.253181Z",
          "shell.execute_reply.started": "2021-11-20T19:43:03.238191Z",
          "shell.execute_reply": "2021-11-20T19:43:03.251945Z"
        },
        "trusted": true,
        "id": "BclOYUSO4o8F",
        "colab": {
          "base_uri": "https://localhost:8080/"
        },
        "outputId": "1d6677f0-19e1-4ed6-f181-cb06297283bc"
      },
      "source": [
        "from sklearn import metrics\n",
        "#calculating the residuals\n",
        "print('y-intercept             :' , modelLR.intercept_)\n",
        "print('beta coefficients       :' , modelLR.coef_)\n",
        "print('Mean Abs Error MAE      :' ,metrics.mean_absolute_error(y_testL,Y_pred))\n",
        "print('Mean Sqrt Error MSE     :' ,metrics.mean_squared_error(y_testL,Y_pred))\n",
        "print('Root Mean Sqrt Error RMSE:' ,np.sqrt(metrics.mean_squared_error(y_testL,Y_pred)))\n",
        "print('r2 value                :' ,metrics.r2_score(y_testL,Y_pred))"
      ],
      "execution_count": 14,
      "outputs": [
        {
          "output_type": "stream",
          "name": "stdout",
          "text": [
            "y-intercept             : -1.0840658977772517\n",
            "beta coefficients       : [-0.0164041   0.5807508  -0.19501233  0.99927566]\n",
            "Mean Abs Error MAE      : 0.5953388682838792\n",
            "Mean Sqrt Error MSE     : 0.5203102653201008\n",
            "Root Mean Sqrt Error RMSE: 0.7213253533046657\n",
            "r2 value                : 0.161123975100952\n"
          ]
        }
      ]
    },
    {
      "cell_type": "markdown",
      "metadata": {
        "id": "qvPnWoID4o8F"
      },
      "source": [
        "<a id=\"10\"></a> <br>\n",
        "## 8-2 Decision Tree\n",
        "\n",
        "This is one of my favorite algorithm and I use it quite frequently. It is a type of supervised learning algorithm that is mostly used for classification problems. Surprisingly, it works for both categorical and continuous dependent variables. In this algorithm, we split the population into two or more homogeneous sets. This is done based on most significant attributes/ independent variables to make as distinct groups as possible. \n"
      ]
    },
    {
      "cell_type": "code",
      "metadata": {
        "execution": {
          "iopub.status.busy": "2021-11-20T19:43:03.255028Z",
          "iopub.execute_input": "2021-11-20T19:43:03.255793Z",
          "iopub.status.idle": "2021-11-20T19:43:03.357694Z",
          "shell.execute_reply.started": "2021-11-20T19:43:03.255723Z",
          "shell.execute_reply": "2021-11-20T19:43:03.356953Z"
        },
        "trusted": true,
        "id": "_65t8zL04o8F",
        "colab": {
          "base_uri": "https://localhost:8080/"
        },
        "outputId": "75cb1ab4-581d-4815-bd65-642dd179e652"
      },
      "source": [
        "# Decision Tree's\n",
        "from sklearn.tree import DecisionTreeClassifier\n",
        "\n",
        "Model = DecisionTreeClassifier()\n",
        "\n",
        "Model.fit(X_train, y_train)\n",
        "\n",
        "y_pred = Model.predict(X_test)\n",
        "\n",
        "# Summary of the predictions made by the classifier\n",
        "print(classification_report(y_test, y_pred))\n",
        "print(confusion_matrix(y_test, y_pred))\n",
        "# Accuracy score\n",
        "print('accuracy is',accuracy_score(y_pred,y_test))"
      ],
      "execution_count": 15,
      "outputs": [
        {
          "output_type": "stream",
          "name": "stdout",
          "text": [
            "              precision    recall  f1-score   support\n",
            "\n",
            "      adware       1.00      0.94      0.97        18\n",
            "      benign       1.00      1.00      1.00        16\n",
            "     rootkit       0.92      1.00      0.96        11\n",
            "\n",
            "    accuracy                           0.98        45\n",
            "   macro avg       0.97      0.98      0.98        45\n",
            "weighted avg       0.98      0.98      0.98        45\n",
            "\n",
            "[[17  0  1]\n",
            " [ 0 16  0]\n",
            " [ 0  0 11]]\n",
            "accuracy is 0.9777777777777777\n"
          ]
        }
      ]
    },
    {
      "cell_type": "markdown",
      "metadata": {
        "id": "amLebGMF4o8G"
      },
      "source": [
        "<a id=\"11\"></a> <br>\n",
        "## 8-3 RandomForest\n",
        "\n",
        "Random Forest is a trademark term for an ensemble of decision trees. In Random Forest, we’ve collection of decision trees (so known as “Forest”). To classify a new object based on attributes, each tree gives a classification and we say the tree “votes” for that class. The forest chooses the classification having the most votes (over all the trees in the forest)."
      ]
    },
    {
      "cell_type": "code",
      "metadata": {
        "execution": {
          "iopub.status.busy": "2021-11-20T19:43:03.359187Z",
          "iopub.execute_input": "2021-11-20T19:43:03.359765Z",
          "iopub.status.idle": "2021-11-20T19:43:03.424131Z",
          "shell.execute_reply.started": "2021-11-20T19:43:03.359697Z",
          "shell.execute_reply": "2021-11-20T19:43:03.423002Z"
        },
        "trusted": true,
        "id": "d6a1Ewd54o8G",
        "colab": {
          "base_uri": "https://localhost:8080/"
        },
        "outputId": "4df3c237-2927-4ed8-8e4d-7340a96fdcf6"
      },
      "source": [
        "from sklearn.ensemble import RandomForestClassifier\n",
        "Model=RandomForestClassifier(max_depth=2)\n",
        "Model.fit(X_train,y_train)\n",
        "y_pred=Model.predict(X_test)\n",
        "\n",
        "# Summary of the predictions made by the classifier\n",
        "print(classification_report(y_test,y_pred))\n",
        "print(confusion_matrix(y_pred,y_test))\n",
        "#Accuracy Score\n",
        "print('accuracy is ',accuracy_score(y_pred,y_test))"
      ],
      "execution_count": 16,
      "outputs": [
        {
          "output_type": "stream",
          "name": "stdout",
          "text": [
            "              precision    recall  f1-score   support\n",
            "\n",
            "      adware       1.00      0.94      0.97        18\n",
            "      benign       1.00      1.00      1.00        16\n",
            "     rootkit       0.92      1.00      0.96        11\n",
            "\n",
            "    accuracy                           0.98        45\n",
            "   macro avg       0.97      0.98      0.98        45\n",
            "weighted avg       0.98      0.98      0.98        45\n",
            "\n",
            "[[17  0  0]\n",
            " [ 0 16  0]\n",
            " [ 1  0 11]]\n",
            "accuracy is  0.9777777777777777\n"
          ]
        }
      ]
    },
    {
      "cell_type": "markdown",
      "metadata": {
        "id": "CiCoYeDk4o8G"
      },
      "source": [
        "<a id=\"12\"></a> <br>\n",
        "## 8-4 Logistic Regression\n",
        "\n",
        "Don’t get confused by its name! It is a classification not a regression algorithm. It is used to estimate discrete values ( Binary values like 0/1, yes/no, true/false ) based on given set of independent variable(s). In simple words, it predicts the probability of occurrence of an event by fitting data to a logit function. Hence, it is also known as logit regression. Since, it predicts the probability, its output values lies between 0 and 1 (as expected)."
      ]
    },
    {
      "cell_type": "code",
      "metadata": {
        "execution": {
          "iopub.status.busy": "2021-11-20T19:43:03.426247Z",
          "iopub.execute_input": "2021-11-20T19:43:03.426955Z",
          "iopub.status.idle": "2021-11-20T19:43:03.455681Z",
          "shell.execute_reply.started": "2021-11-20T19:43:03.426890Z",
          "shell.execute_reply": "2021-11-20T19:43:03.454956Z"
        },
        "trusted": true,
        "id": "aMTD_kFl4o8G",
        "colab": {
          "base_uri": "https://localhost:8080/"
        },
        "outputId": "1fc8f8a8-db24-4f6d-aaf2-1016c228cee9"
      },
      "source": [
        "# LogisticRegression\n",
        "from sklearn.linear_model import LogisticRegression\n",
        "Model = LogisticRegression()\n",
        "Model.fit(X_train, y_train)\n",
        "\n",
        "y_pred = Model.predict(X_test)\n",
        "\n",
        "# Summary of the predictions made by the classifier\n",
        "print(classification_report(y_test, y_pred))\n",
        "print(confusion_matrix(y_test, y_pred))\n",
        "# Accuracy score\n",
        "print('accuracy is',accuracy_score(y_pred,y_test))"
      ],
      "execution_count": 17,
      "outputs": [
        {
          "output_type": "stream",
          "name": "stdout",
          "text": [
            "              precision    recall  f1-score   support\n",
            "\n",
            "      adware       1.00      0.94      0.97        18\n",
            "      benign       1.00      1.00      1.00        16\n",
            "     rootkit       0.92      1.00      0.96        11\n",
            "\n",
            "    accuracy                           0.98        45\n",
            "   macro avg       0.97      0.98      0.98        45\n",
            "weighted avg       0.98      0.98      0.98        45\n",
            "\n",
            "[[17  0  1]\n",
            " [ 0 16  0]\n",
            " [ 0  0 11]]\n",
            "accuracy is 0.9777777777777777\n"
          ]
        }
      ]
    },
    {
      "cell_type": "markdown",
      "metadata": {
        "id": "Kxok2ZCT4o8G"
      },
      "source": [
        "<a id=\"13\"></a> <br>\n",
        "## 8-5 K-Nearest Neighbors\n",
        "\n",
        "It can be used for both classification and regression problems. However, it is more widely used in classification problems in the industry. K nearest neighbors is a simple algorithm that stores all available cases and classifies new cases by a majority vote of its k neighbors. The case being assigned to the class is most common amongst its K nearest neighbors measured by a distance function."
      ]
    },
    {
      "cell_type": "code",
      "metadata": {
        "execution": {
          "iopub.status.busy": "2021-11-20T19:43:03.457121Z",
          "iopub.execute_input": "2021-11-20T19:43:03.457671Z",
          "iopub.status.idle": "2021-11-20T19:43:03.499749Z",
          "shell.execute_reply.started": "2021-11-20T19:43:03.457610Z",
          "shell.execute_reply": "2021-11-20T19:43:03.498993Z"
        },
        "trusted": true,
        "id": "vdvqv2w54o8G",
        "colab": {
          "base_uri": "https://localhost:8080/"
        },
        "outputId": "28a48473-a69f-434b-a5e8-8e5146c7c306"
      },
      "source": [
        "# K-Nearest Neighbours\n",
        "from sklearn.neighbors import KNeighborsClassifier\n",
        "\n",
        "Model = KNeighborsClassifier(n_neighbors=8)\n",
        "Model.fit(X_train, y_train)\n",
        "\n",
        "y_pred = Model.predict(X_test)\n",
        "\n",
        "# Summary of the predictions made by the classifier\n",
        "print(classification_report(y_test, y_pred))\n",
        "print(confusion_matrix(y_test, y_pred))\n",
        "# Accuracy score\n",
        "\n",
        "print('accuracy is',accuracy_score(y_pred,y_test))"
      ],
      "execution_count": 18,
      "outputs": [
        {
          "output_type": "stream",
          "name": "stdout",
          "text": [
            "              precision    recall  f1-score   support\n",
            "\n",
            "      adware       1.00      0.94      0.97        18\n",
            "      benign       1.00      1.00      1.00        16\n",
            "     rootkit       0.92      1.00      0.96        11\n",
            "\n",
            "    accuracy                           0.98        45\n",
            "   macro avg       0.97      0.98      0.98        45\n",
            "weighted avg       0.98      0.98      0.98        45\n",
            "\n",
            "[[17  0  1]\n",
            " [ 0 16  0]\n",
            " [ 0  0 11]]\n",
            "accuracy is 0.9777777777777777\n"
          ]
        }
      ]
    },
    {
      "cell_type": "markdown",
      "metadata": {
        "id": "ipJLw_c34o8G"
      },
      "source": [
        "<a id=\"14\"></a> <br>\n",
        "## 8-6 Naive Bayes\n",
        "\n",
        "It is a classification technique based on Bayes’ theorem with an assumption of independence between predictors. In simple terms, a Naive Bayes classifier assumes that the presence of a particular feature in a class is unrelated to the presence of any other feature. For example, a fruit may be considered to be an apple if it is red, round, and about 3 inches in diameter. Even if these features depend on each other or upon the existence of the other features, a naive Bayes classifier would consider all of these properties to independently contribute to the probability that this fruit is an apple."
      ]
    },
    {
      "cell_type": "code",
      "metadata": {
        "execution": {
          "iopub.status.busy": "2021-11-20T19:43:03.501205Z",
          "iopub.execute_input": "2021-11-20T19:43:03.501757Z",
          "iopub.status.idle": "2021-11-20T19:43:03.523431Z",
          "shell.execute_reply.started": "2021-11-20T19:43:03.501695Z",
          "shell.execute_reply": "2021-11-20T19:43:03.522307Z"
        },
        "trusted": true,
        "id": "GKqhLF7H4o8H",
        "colab": {
          "base_uri": "https://localhost:8080/"
        },
        "outputId": "9305eb5e-d2b7-4423-eeaa-5475f9943004"
      },
      "source": [
        "# Naive Bayes\n",
        "from sklearn.naive_bayes import GaussianNB\n",
        "Model = GaussianNB()\n",
        "Model.fit(X_train, y_train)\n",
        "\n",
        "y_pred = Model.predict(X_test)\n",
        "\n",
        "# Summary of the predictions made by the classifier\n",
        "print(classification_report(y_test, y_pred))\n",
        "print(confusion_matrix(y_test, y_pred))\n",
        "# Accuracy score\n",
        "print('accuracy is',accuracy_score(y_pred,y_test))"
      ],
      "execution_count": 19,
      "outputs": [
        {
          "output_type": "stream",
          "name": "stdout",
          "text": [
            "              precision    recall  f1-score   support\n",
            "\n",
            "      adware       1.00      1.00      1.00        18\n",
            "      benign       1.00      1.00      1.00        16\n",
            "     rootkit       1.00      1.00      1.00        11\n",
            "\n",
            "    accuracy                           1.00        45\n",
            "   macro avg       1.00      1.00      1.00        45\n",
            "weighted avg       1.00      1.00      1.00        45\n",
            "\n",
            "[[18  0  0]\n",
            " [ 0 16  0]\n",
            " [ 0  0 11]]\n",
            "accuracy is 1.0\n"
          ]
        }
      ]
    },
    {
      "cell_type": "markdown",
      "metadata": {
        "id": "h96V5GsX4o8H"
      },
      "source": [
        "<a id=\"15\"></a> <br>\n",
        "## 8-7 SVM\n",
        "\n",
        "It is a classification method. In this algorithm, we plot each data item as a point in n-dimensional space (where n is number of features you have) with the value of each feature being the value of a particular coordinate.\n",
        "\n",
        "For example, if we only had two features like Height and Hair length of an individual, we’d first plot these two variables in two dimensional space where each point has two co-ordinates (these co-ordinates are known as Support Vectors)"
      ]
    },
    {
      "cell_type": "code",
      "metadata": {
        "execution": {
          "iopub.status.busy": "2021-11-20T19:43:03.525316Z",
          "iopub.execute_input": "2021-11-20T19:43:03.525850Z",
          "iopub.status.idle": "2021-11-20T19:43:03.548886Z",
          "shell.execute_reply.started": "2021-11-20T19:43:03.525637Z",
          "shell.execute_reply": "2021-11-20T19:43:03.547838Z"
        },
        "trusted": true,
        "id": "nufFduW24o8H",
        "colab": {
          "base_uri": "https://localhost:8080/"
        },
        "outputId": "0a548bbb-20b9-4895-8a37-7a21867a5512"
      },
      "source": [
        "# Support Vector Machine\n",
        "from sklearn.svm import SVC\n",
        "\n",
        "Model = SVC()\n",
        "Model.fit(X_train, y_train)\n",
        "\n",
        "y_pred = Model.predict(X_test)\n",
        "\n",
        "# Summary of the predictions made by the classifier\n",
        "print(classification_report(y_test, y_pred))\n",
        "print(confusion_matrix(y_test, y_pred))\n",
        "# Accuracy score\n",
        "\n",
        "print('accuracy is',accuracy_score(y_pred,y_test))"
      ],
      "execution_count": 20,
      "outputs": [
        {
          "output_type": "stream",
          "name": "stdout",
          "text": [
            "              precision    recall  f1-score   support\n",
            "\n",
            "      adware       1.00      0.94      0.97        18\n",
            "      benign       1.00      1.00      1.00        16\n",
            "     rootkit       0.92      1.00      0.96        11\n",
            "\n",
            "    accuracy                           0.98        45\n",
            "   macro avg       0.97      0.98      0.98        45\n",
            "weighted avg       0.98      0.98      0.98        45\n",
            "\n",
            "[[17  0  1]\n",
            " [ 0 16  0]\n",
            " [ 0  0 11]]\n",
            "accuracy is 0.9777777777777777\n"
          ]
        }
      ]
    },
    {
      "cell_type": "markdown",
      "metadata": {
        "id": "tCFrF4qb4o8H"
      },
      "source": [
        "<a id=\"16\"></a> <br>\n",
        "## 8-8 Nu-Support Vector Classification\n",
        "\n",
        "Similar to SVC but uses a parameter to control the number of support vectors.\n",
        "\n",
        "The implementation is based on libsvm."
      ]
    },
    {
      "cell_type": "code",
      "metadata": {
        "execution": {
          "iopub.status.busy": "2021-11-20T19:43:03.550587Z",
          "iopub.execute_input": "2021-11-20T19:43:03.551208Z",
          "iopub.status.idle": "2021-11-20T19:43:03.603982Z",
          "shell.execute_reply.started": "2021-11-20T19:43:03.551130Z",
          "shell.execute_reply": "2021-11-20T19:43:03.602816Z"
        },
        "trusted": true,
        "id": "H_iyEfUL4o8H",
        "colab": {
          "base_uri": "https://localhost:8080/"
        },
        "outputId": "7108a185-88ac-4723-cf2a-e7cd4d6610c1"
      },
      "source": [
        "# Support Vector Machine's \n",
        "from sklearn.svm import NuSVC\n",
        "\n",
        "Model = NuSVC()\n",
        "Model.fit(X_train, y_train)\n",
        "\n",
        "y_pred = Model.predict(X_test)\n",
        "\n",
        "# Summary of the predictions made by the classifier\n",
        "print(classification_report(y_test, y_pred))\n",
        "print(confusion_matrix(y_test, y_pred))\n",
        "# Accuracy score\n",
        "\n",
        "print('accuracy is',accuracy_score(y_pred,y_test))"
      ],
      "execution_count": 21,
      "outputs": [
        {
          "output_type": "stream",
          "name": "stdout",
          "text": [
            "              precision    recall  f1-score   support\n",
            "\n",
            "      adware       1.00      0.94      0.97        18\n",
            "      benign       1.00      1.00      1.00        16\n",
            "     rootkit       0.92      1.00      0.96        11\n",
            "\n",
            "    accuracy                           0.98        45\n",
            "   macro avg       0.97      0.98      0.98        45\n",
            "weighted avg       0.98      0.98      0.98        45\n",
            "\n",
            "[[17  0  1]\n",
            " [ 0 16  0]\n",
            " [ 0  0 11]]\n",
            "accuracy is 0.9777777777777777\n"
          ]
        }
      ]
    },
    {
      "cell_type": "markdown",
      "metadata": {
        "id": "TnTjJAye4o8H"
      },
      "source": [
        "<a id=\"17\"></a> <br>\n",
        "## 8-9 Linear Support Vector Classification\n",
        "\n",
        "Similar to SVC with parameter kernel=’linear’, but implemented in terms of liblinear rather than libsvm, so it has more flexibility in the choice of penalties and loss functions and should scale better to large numbers of samples.\n",
        "\n",
        "This class supports both dense and sparse input and the multiclass support is handled according to a one-vs-the-rest scheme."
      ]
    },
    {
      "cell_type": "code",
      "metadata": {
        "execution": {
          "iopub.status.busy": "2021-11-20T19:43:03.605898Z",
          "iopub.execute_input": "2021-11-20T19:43:03.606461Z",
          "iopub.status.idle": "2021-11-20T19:43:03.638207Z",
          "shell.execute_reply.started": "2021-11-20T19:43:03.606231Z",
          "shell.execute_reply": "2021-11-20T19:43:03.637126Z"
        },
        "trusted": true,
        "id": "J5kCf6Lv4o8H",
        "colab": {
          "base_uri": "https://localhost:8080/"
        },
        "outputId": "922ebc8d-2d2a-4d9d-bc7b-45469a3a0b6a"
      },
      "source": [
        "# Linear Support Vector Classification\n",
        "from sklearn.svm import LinearSVC\n",
        "\n",
        "Model = LinearSVC()\n",
        "Model.fit(X_train, y_train)\n",
        "\n",
        "y_pred = Model.predict(X_test)\n",
        "\n",
        "# Summary of the predictions made by the classifier\n",
        "print(classification_report(y_test, y_pred))\n",
        "print(confusion_matrix(y_test, y_pred))\n",
        "# Accuracy score\n",
        "\n",
        "print('accuracy is',accuracy_score(y_pred,y_test))"
      ],
      "execution_count": 22,
      "outputs": [
        {
          "output_type": "stream",
          "name": "stdout",
          "text": [
            "              precision    recall  f1-score   support\n",
            "\n",
            "      adware       1.00      0.83      0.91        18\n",
            "      benign       1.00      1.00      1.00        16\n",
            "     rootkit       0.79      1.00      0.88        11\n",
            "\n",
            "    accuracy                           0.93        45\n",
            "   macro avg       0.93      0.94      0.93        45\n",
            "weighted avg       0.95      0.93      0.93        45\n",
            "\n",
            "[[15  0  3]\n",
            " [ 0 16  0]\n",
            " [ 0  0 11]]\n",
            "accuracy is 0.9333333333333333\n"
          ]
        },
        {
          "output_type": "stream",
          "name": "stderr",
          "text": [
            "/usr/local/lib/python3.7/dist-packages/sklearn/svm/_base.py:1208: ConvergenceWarning: Liblinear failed to converge, increase the number of iterations.\n",
            "  ConvergenceWarning,\n"
          ]
        }
      ]
    },
    {
      "cell_type": "markdown",
      "metadata": {
        "id": "2RZ3FZBw4o8I"
      },
      "source": [
        "<a id=\"18\"></a> <br>\n",
        "##  8-10 Radius Neighbors Classifier\n",
        "\n",
        "In scikit-learn RadiusNeighborsClassifier is very similar to KNeighborsClassifier with the exception of two parameters. First, in RadiusNeighborsClassifier we need to specify the radius of the fixed area used to determine if an observation is a neighbor using radius. Unless there is some substantive reason for setting radius to some value, it is best to treat it like any other hyperparameter and tune it during model selection. The second useful parameter is outlier_label, which indicates what label to give an observation that has no observations within the radius - which itself can often be a useful tool for identifying outliers.\n"
      ]
    },
    {
      "cell_type": "code",
      "metadata": {
        "execution": {
          "iopub.status.busy": "2021-11-20T19:43:03.639760Z",
          "iopub.execute_input": "2021-11-20T19:43:03.640348Z",
          "iopub.status.idle": "2021-11-20T19:43:03.697055Z",
          "shell.execute_reply.started": "2021-11-20T19:43:03.640280Z",
          "shell.execute_reply": "2021-11-20T19:43:03.695986Z"
        },
        "trusted": true,
        "id": "Sn8phnsE4o8I",
        "colab": {
          "base_uri": "https://localhost:8080/"
        },
        "outputId": "f5cb6a9d-9bb8-49b3-8113-69b7f5eb279a"
      },
      "source": [
        "from sklearn.neighbors import  RadiusNeighborsClassifier\n",
        "Model=RadiusNeighborsClassifier(radius=8.0)\n",
        "Model.fit(X_train,y_train)\n",
        "y_pred=Model.predict(X_test)\n",
        "\n",
        "#summary of the predictions made by the classifier\n",
        "print(classification_report(y_test,y_pred))\n",
        "print(confusion_matrix(y_test,y_pred))\n",
        "\n",
        "#Accouracy score\n",
        "print('accuracy is ', accuracy_score(y_test,y_pred))"
      ],
      "execution_count": 23,
      "outputs": [
        {
          "output_type": "stream",
          "name": "stdout",
          "text": [
            "              precision    recall  f1-score   support\n",
            "\n",
            "      adware       0.00      0.00      0.00        18\n",
            "      benign       0.00      0.00      0.00        16\n",
            "     rootkit       0.24      1.00      0.39        11\n",
            "\n",
            "    accuracy                           0.24        45\n",
            "   macro avg       0.08      0.33      0.13        45\n",
            "weighted avg       0.06      0.24      0.10        45\n",
            "\n",
            "[[ 0  0 18]\n",
            " [ 0  0 16]\n",
            " [ 0  0 11]]\n",
            "accuracy is  0.24444444444444444\n"
          ]
        },
        {
          "output_type": "stream",
          "name": "stderr",
          "text": [
            "/usr/local/lib/python3.7/dist-packages/sklearn/metrics/_classification.py:1308: UndefinedMetricWarning: Precision and F-score are ill-defined and being set to 0.0 in labels with no predicted samples. Use `zero_division` parameter to control this behavior.\n",
            "  _warn_prf(average, modifier, msg_start, len(result))\n",
            "/usr/local/lib/python3.7/dist-packages/sklearn/metrics/_classification.py:1308: UndefinedMetricWarning: Precision and F-score are ill-defined and being set to 0.0 in labels with no predicted samples. Use `zero_division` parameter to control this behavior.\n",
            "  _warn_prf(average, modifier, msg_start, len(result))\n",
            "/usr/local/lib/python3.7/dist-packages/sklearn/metrics/_classification.py:1308: UndefinedMetricWarning: Precision and F-score are ill-defined and being set to 0.0 in labels with no predicted samples. Use `zero_division` parameter to control this behavior.\n",
            "  _warn_prf(average, modifier, msg_start, len(result))\n"
          ]
        }
      ]
    },
    {
      "cell_type": "markdown",
      "metadata": {
        "id": "h4MWM3kK4o8I"
      },
      "source": [
        "<a id=\"19\"></a> <br>\n",
        "##  8-11 Passive Aggressive Classifier\n",
        "\n",
        "PA algorithm is a margin based online learning algorithm for binary classification.\n",
        "Unlike PA algorithm, which is a hard-margin based method, PA-I algorithm is a soft margin based method and robuster to noise."
      ]
    },
    {
      "cell_type": "code",
      "metadata": {
        "execution": {
          "iopub.status.busy": "2021-11-20T19:43:03.698656Z",
          "iopub.execute_input": "2021-11-20T19:43:03.699221Z",
          "iopub.status.idle": "2021-11-20T19:43:03.719693Z",
          "shell.execute_reply.started": "2021-11-20T19:43:03.699144Z",
          "shell.execute_reply": "2021-11-20T19:43:03.718414Z"
        },
        "trusted": true,
        "id": "oUkGxJP84o8I",
        "colab": {
          "base_uri": "https://localhost:8080/"
        },
        "outputId": "e63fb91f-f470-47d0-9224-95f895cc3724"
      },
      "source": [
        "from sklearn.linear_model import PassiveAggressiveClassifier\n",
        "Model = PassiveAggressiveClassifier()\n",
        "Model.fit(X_train, y_train)\n",
        "\n",
        "y_pred = Model.predict(X_test)\n",
        "\n",
        "# Summary of the predictions made by the classifier\n",
        "print(classification_report(y_test, y_pred))\n",
        "print(confusion_matrix(y_test, y_pred))\n",
        "# Accuracy score\n",
        "print('accuracy is',accuracy_score(y_pred,y_test))"
      ],
      "execution_count": 24,
      "outputs": [
        {
          "output_type": "stream",
          "name": "stdout",
          "text": [
            "              precision    recall  f1-score   support\n",
            "\n",
            "      adware       0.72      1.00      0.84        18\n",
            "      benign       1.00      1.00      1.00        16\n",
            "     rootkit       1.00      0.36      0.53        11\n",
            "\n",
            "    accuracy                           0.84        45\n",
            "   macro avg       0.91      0.79      0.79        45\n",
            "weighted avg       0.89      0.84      0.82        45\n",
            "\n",
            "[[18  0  0]\n",
            " [ 0 16  0]\n",
            " [ 7  0  4]]\n",
            "accuracy is 0.8444444444444444\n"
          ]
        }
      ]
    },
    {
      "cell_type": "markdown",
      "metadata": {
        "id": "Y6UbsyEy4o8I"
      },
      "source": [
        "<a id=\"20\"></a> <br>\n",
        "##  8-12 BernoulliNB\n",
        "\n",
        "Like MultinomialNB, this classifier is suitable for discrete data. The difference is that while MultinomialNB works with occurrence counts, BernoulliNB is designed for binary/boolean features."
      ]
    },
    {
      "cell_type": "code",
      "metadata": {
        "execution": {
          "iopub.status.busy": "2021-11-20T19:43:03.721449Z",
          "iopub.execute_input": "2021-11-20T19:43:03.722049Z",
          "iopub.status.idle": "2021-11-20T19:43:03.748721Z",
          "shell.execute_reply.started": "2021-11-20T19:43:03.721984Z",
          "shell.execute_reply": "2021-11-20T19:43:03.747727Z"
        },
        "trusted": true,
        "id": "iCCDTmp54o8I",
        "colab": {
          "base_uri": "https://localhost:8080/"
        },
        "outputId": "2948fded-c6a6-47e2-d6c2-c7ac37b2e701"
      },
      "source": [
        "# BernoulliNB\n",
        "from sklearn.naive_bayes import BernoulliNB\n",
        "Model = BernoulliNB()\n",
        "Model.fit(X_train, y_train)\n",
        "\n",
        "y_pred = Model.predict(X_test)\n",
        "\n",
        "# Summary of the predictions made by the classifier\n",
        "print(classification_report(y_test, y_pred))\n",
        "print(confusion_matrix(y_test, y_pred))\n",
        "# Accuracy score\n",
        "print('accuracy is',accuracy_score(y_pred,y_test))"
      ],
      "execution_count": 25,
      "outputs": [
        {
          "output_type": "stream",
          "name": "stdout",
          "text": [
            "              precision    recall  f1-score   support\n",
            "\n",
            "      adware       0.00      0.00      0.00        18\n",
            "      benign       0.00      0.00      0.00        16\n",
            "     rootkit       0.24      1.00      0.39        11\n",
            "\n",
            "    accuracy                           0.24        45\n",
            "   macro avg       0.08      0.33      0.13        45\n",
            "weighted avg       0.06      0.24      0.10        45\n",
            "\n",
            "[[ 0  0 18]\n",
            " [ 0  0 16]\n",
            " [ 0  0 11]]\n",
            "accuracy is 0.24444444444444444\n"
          ]
        },
        {
          "output_type": "stream",
          "name": "stderr",
          "text": [
            "/usr/local/lib/python3.7/dist-packages/sklearn/metrics/_classification.py:1308: UndefinedMetricWarning: Precision and F-score are ill-defined and being set to 0.0 in labels with no predicted samples. Use `zero_division` parameter to control this behavior.\n",
            "  _warn_prf(average, modifier, msg_start, len(result))\n",
            "/usr/local/lib/python3.7/dist-packages/sklearn/metrics/_classification.py:1308: UndefinedMetricWarning: Precision and F-score are ill-defined and being set to 0.0 in labels with no predicted samples. Use `zero_division` parameter to control this behavior.\n",
            "  _warn_prf(average, modifier, msg_start, len(result))\n",
            "/usr/local/lib/python3.7/dist-packages/sklearn/metrics/_classification.py:1308: UndefinedMetricWarning: Precision and F-score are ill-defined and being set to 0.0 in labels with no predicted samples. Use `zero_division` parameter to control this behavior.\n",
            "  _warn_prf(average, modifier, msg_start, len(result))\n"
          ]
        }
      ]
    },
    {
      "cell_type": "markdown",
      "metadata": {
        "id": "0vKiL6mk4o8I"
      },
      "source": [
        "<a id=\"21\"></a> <br>\n",
        "## 8-13  ExtraTreeClassifier\n",
        "\n",
        "ExtraTreesClassifier is an ensemble learning method fundamentally based on decision trees. ExtraTreesClassifier, like RandomForest, randomizes certain decisions and subsets of data to minimize over-learning from the data and overfitting.\n",
        "Let’s look at some ensemble methods ordered from high to low variance, ending in ExtraTreesClassifier."
      ]
    },
    {
      "cell_type": "code",
      "metadata": {
        "execution": {
          "iopub.status.busy": "2021-11-20T19:43:03.750258Z",
          "iopub.execute_input": "2021-11-20T19:43:03.750811Z",
          "iopub.status.idle": "2021-11-20T19:43:03.806008Z",
          "shell.execute_reply.started": "2021-11-20T19:43:03.750749Z",
          "shell.execute_reply": "2021-11-20T19:43:03.804983Z"
        },
        "trusted": true,
        "id": "9SYZUJr64o8I",
        "colab": {
          "base_uri": "https://localhost:8080/"
        },
        "outputId": "7a8abd43-7999-4888-fec2-52ca53192816"
      },
      "source": [
        "# ExtraTreeClassifier\n",
        "from sklearn.tree import ExtraTreeClassifier\n",
        "\n",
        "Model = ExtraTreeClassifier()\n",
        "\n",
        "Model.fit(X_train, y_train)\n",
        "\n",
        "y_pred = Model.predict(X_test)\n",
        "\n",
        "# Summary of the predictions made by the classifier\n",
        "print(classification_report(y_test, y_pred))\n",
        "print(confusion_matrix(y_test, y_pred))\n",
        "# Accuracy score\n",
        "print('accuracy is',accuracy_score(y_pred,y_test))"
      ],
      "execution_count": 26,
      "outputs": [
        {
          "output_type": "stream",
          "name": "stdout",
          "text": [
            "              precision    recall  f1-score   support\n",
            "\n",
            "      adware       1.00      0.94      0.97        18\n",
            "      benign       1.00      1.00      1.00        16\n",
            "     rootkit       0.92      1.00      0.96        11\n",
            "\n",
            "    accuracy                           0.98        45\n",
            "   macro avg       0.97      0.98      0.98        45\n",
            "weighted avg       0.98      0.98      0.98        45\n",
            "\n",
            "[[17  0  1]\n",
            " [ 0 16  0]\n",
            " [ 0  0 11]]\n",
            "accuracy is 0.9777777777777777\n"
          ]
        }
      ]
    },
    {
      "cell_type": "markdown",
      "metadata": {
        "id": "f89jCJk44o8J"
      },
      "source": [
        "<a id=\"22\"></a> <br>\n",
        "## 8-14 Bagging classifier \n",
        "\n",
        " Bagging classifier is an ensemble meta-estimator that fits base classifiers each on random subsets of the original dataset and then aggregate their individual predictions (either by voting or by averaging) to form a final prediction. Such a meta-estimator can typically be used as a way to reduce the variance of a black-box estimator (e.g., a decision tree), by introducing randomization into its construction procedure and then making an ensemble out of it."
      ]
    },
    {
      "cell_type": "code",
      "metadata": {
        "execution": {
          "iopub.status.busy": "2021-11-20T19:43:03.807577Z",
          "iopub.execute_input": "2021-11-20T19:43:03.808134Z",
          "iopub.status.idle": "2021-11-20T19:43:03.850894Z",
          "shell.execute_reply.started": "2021-11-20T19:43:03.808069Z",
          "shell.execute_reply": "2021-11-20T19:43:03.849872Z"
        },
        "trusted": true,
        "id": "Eb4-HM6o4o8J",
        "colab": {
          "base_uri": "https://localhost:8080/"
        },
        "outputId": "f1d88e02-61bf-40e3-91fd-d984e0486561"
      },
      "source": [
        "from sklearn.ensemble import BaggingClassifier\n",
        "Model=BaggingClassifier()\n",
        "Model.fit(X_train,y_train)\n",
        "y_pred=Model.predict(X_test)\n",
        "\n",
        "# Summary of the predictions made by the classifier\n",
        "print(classification_report(y_test,y_pred))\n",
        "print(confusion_matrix(y_pred,y_test))\n",
        "\n",
        "#Accuracy Score\n",
        "print('accuracy is ',accuracy_score(y_pred,y_test))"
      ],
      "execution_count": 27,
      "outputs": [
        {
          "output_type": "stream",
          "name": "stdout",
          "text": [
            "              precision    recall  f1-score   support\n",
            "\n",
            "      adware       1.00      0.94      0.97        18\n",
            "      benign       1.00      1.00      1.00        16\n",
            "     rootkit       0.92      1.00      0.96        11\n",
            "\n",
            "    accuracy                           0.98        45\n",
            "   macro avg       0.97      0.98      0.98        45\n",
            "weighted avg       0.98      0.98      0.98        45\n",
            "\n",
            "[[17  0  0]\n",
            " [ 0 16  0]\n",
            " [ 1  0 11]]\n",
            "accuracy is  0.9777777777777777\n"
          ]
        }
      ]
    },
    {
      "cell_type": "markdown",
      "metadata": {
        "id": "75Ij6-PD4o8J"
      },
      "source": [
        "<a id=\"23\"></a> <br>\n",
        "##  8-15 AdaBoost classifier\n",
        "\n",
        "An AdaBoost classifier is a meta-estimator that begins by fitting a classifier on the original dataset and then fits additional copies of the classifier on the same dataset but where the weights of incorrectly classified instances are adjusted such that subsequent classifiers focus more on difficult cases."
      ]
    },
    {
      "cell_type": "code",
      "metadata": {
        "execution": {
          "iopub.status.busy": "2021-11-20T19:43:03.852572Z",
          "iopub.execute_input": "2021-11-20T19:43:03.853138Z",
          "iopub.status.idle": "2021-11-20T19:43:03.999394Z",
          "shell.execute_reply.started": "2021-11-20T19:43:03.853065Z",
          "shell.execute_reply": "2021-11-20T19:43:03.998318Z"
        },
        "trusted": true,
        "id": "ITIvzCLw4o8J",
        "colab": {
          "base_uri": "https://localhost:8080/"
        },
        "outputId": "a1074f78-d98b-4bae-b32d-256ed59b3ba6"
      },
      "source": [
        "from sklearn.ensemble import AdaBoostClassifier\n",
        "Model=AdaBoostClassifier()\n",
        "Model.fit(X_train,y_train)\n",
        "y_pred=Model.predict(X_test)\n",
        "\n",
        "# Summary of the predictions made by the classifier\n",
        "print(classification_report(y_test,y_pred))\n",
        "print(confusion_matrix(y_pred,y_test))\n",
        "#Accuracy Score\n",
        "print('accuracy is ',accuracy_score(y_pred,y_test))"
      ],
      "execution_count": 28,
      "outputs": [
        {
          "output_type": "stream",
          "name": "stdout",
          "text": [
            "              precision    recall  f1-score   support\n",
            "\n",
            "      adware       0.85      0.94      0.89        18\n",
            "      benign       1.00      1.00      1.00        16\n",
            "     rootkit       0.89      0.73      0.80        11\n",
            "\n",
            "    accuracy                           0.91        45\n",
            "   macro avg       0.91      0.89      0.90        45\n",
            "weighted avg       0.91      0.91      0.91        45\n",
            "\n",
            "[[17  0  3]\n",
            " [ 0 16  0]\n",
            " [ 1  0  8]]\n",
            "accuracy is  0.9111111111111111\n"
          ]
        }
      ]
    },
    {
      "cell_type": "markdown",
      "metadata": {
        "id": "q-QYStT34o8J"
      },
      "source": [
        "<a id=\"24\"></a> <br>\n",
        "## 8-16  Gradient Boosting Classifier\n",
        "\n",
        "GBM is a boosting algorithm used when we deal with plenty of data to make a prediction with high prediction power. Boosting is actually an ensemble of learning algorithms which combines the prediction of several base estimators in order to improve robustness over a single estimator. It combines multiple weak or average predictors to a build strong predictor."
      ]
    },
    {
      "cell_type": "code",
      "metadata": {
        "execution": {
          "iopub.status.busy": "2021-11-20T19:43:04.001188Z",
          "iopub.execute_input": "2021-11-20T19:43:04.001866Z",
          "iopub.status.idle": "2021-11-20T19:43:04.171590Z",
          "shell.execute_reply.started": "2021-11-20T19:43:04.001802Z",
          "shell.execute_reply": "2021-11-20T19:43:04.170637Z"
        },
        "trusted": true,
        "id": "hgjj1vwX4o8J",
        "colab": {
          "base_uri": "https://localhost:8080/"
        },
        "outputId": "a453a3ff-ca25-4424-b6ec-02c8a27eaa66"
      },
      "source": [
        "from sklearn.ensemble import GradientBoostingClassifier\n",
        "Model=GradientBoostingClassifier()\n",
        "Model.fit(X_train,y_train)\n",
        "y_pred=Model.predict(X_test)\n",
        "\n",
        "# Summary of the predictions made by the classifier\n",
        "print(classification_report(y_test,y_pred))\n",
        "print(confusion_matrix(y_pred,y_test))\n",
        "\n",
        "#Accuracy Score\n",
        "print('accuracy is ',accuracy_score(y_pred,y_test))"
      ],
      "execution_count": 29,
      "outputs": [
        {
          "output_type": "stream",
          "name": "stdout",
          "text": [
            "              precision    recall  f1-score   support\n",
            "\n",
            "      adware       1.00      0.94      0.97        18\n",
            "      benign       1.00      1.00      1.00        16\n",
            "     rootkit       0.92      1.00      0.96        11\n",
            "\n",
            "    accuracy                           0.98        45\n",
            "   macro avg       0.97      0.98      0.98        45\n",
            "weighted avg       0.98      0.98      0.98        45\n",
            "\n",
            "[[17  0  0]\n",
            " [ 0 16  0]\n",
            " [ 1  0 11]]\n",
            "accuracy is  0.9777777777777777\n"
          ]
        }
      ]
    },
    {
      "cell_type": "markdown",
      "metadata": {
        "id": "SfZ8Y8fx4o8J"
      },
      "source": [
        "<a id=\"25\"></a> <br>\n",
        "## 8-17 Linear Discriminant Analysis\n",
        "\n",
        "A classifier with a linear decision boundary, generated by fitting class conditional densities to the data and using Bayes’ rule.\n",
        "\n",
        "The model fits a Gaussian density to each class, assuming that all classes share the same covariance matrix.\n",
        "\n",
        "The fitted model can also be used to reduce the dimensionality of the input by projecting it to the most discriminative directions."
      ]
    },
    {
      "cell_type": "code",
      "metadata": {
        "execution": {
          "iopub.status.busy": "2021-11-20T19:43:04.173294Z",
          "iopub.execute_input": "2021-11-20T19:43:04.173931Z",
          "iopub.status.idle": "2021-11-20T19:43:04.243901Z",
          "shell.execute_reply.started": "2021-11-20T19:43:04.173869Z",
          "shell.execute_reply": "2021-11-20T19:43:04.242997Z"
        },
        "trusted": true,
        "id": "Q0uoxv5U4o8J",
        "colab": {
          "base_uri": "https://localhost:8080/"
        },
        "outputId": "f339b3f8-48c5-4447-cd90-96105e353937"
      },
      "source": [
        "from sklearn.discriminant_analysis import LinearDiscriminantAnalysis\n",
        "Model=LinearDiscriminantAnalysis()\n",
        "Model.fit(X_train,y_train)\n",
        "y_pred=Model.predict(X_test)\n",
        "\n",
        "# Summary of the predictions made by the classifier\n",
        "print(classification_report(y_test,y_pred))\n",
        "print(confusion_matrix(y_pred,y_test))\n",
        "\n",
        "#Accuracy Score\n",
        "print('accuracy is ',accuracy_score(y_pred,y_test))"
      ],
      "execution_count": 30,
      "outputs": [
        {
          "output_type": "stream",
          "name": "stdout",
          "text": [
            "              precision    recall  f1-score   support\n",
            "\n",
            "      adware       1.00      0.94      0.97        18\n",
            "      benign       1.00      1.00      1.00        16\n",
            "     rootkit       0.92      1.00      0.96        11\n",
            "\n",
            "    accuracy                           0.98        45\n",
            "   macro avg       0.97      0.98      0.98        45\n",
            "weighted avg       0.98      0.98      0.98        45\n",
            "\n",
            "[[17  0  0]\n",
            " [ 0 16  0]\n",
            " [ 1  0 11]]\n",
            "accuracy is  0.9777777777777777\n"
          ]
        }
      ]
    },
    {
      "cell_type": "markdown",
      "metadata": {
        "id": "i94Fw_0g4o8K"
      },
      "source": [
        "<a id=\"26\"></a> <br>\n",
        "## 8-18 Quadratic Discriminant Analysis\n",
        "\n",
        "A classifier with a quadratic decision boundary, generated by fitting class conditional densities to the data and using Bayes’ rule.\n",
        "\n",
        "The model fits a Gaussian density to each class."
      ]
    },
    {
      "cell_type": "code",
      "metadata": {
        "execution": {
          "iopub.status.busy": "2021-11-20T19:43:04.245377Z",
          "iopub.execute_input": "2021-11-20T19:43:04.245932Z",
          "iopub.status.idle": "2021-11-20T19:43:04.277836Z",
          "shell.execute_reply.started": "2021-11-20T19:43:04.245866Z",
          "shell.execute_reply": "2021-11-20T19:43:04.276910Z"
        },
        "trusted": true,
        "id": "ezeZ5_Rm4o8K",
        "colab": {
          "base_uri": "https://localhost:8080/"
        },
        "outputId": "5f909e1f-1dc4-487a-f742-51669ca2ac6e"
      },
      "source": [
        "from sklearn.discriminant_analysis import QuadraticDiscriminantAnalysis\n",
        "Model=QuadraticDiscriminantAnalysis()\n",
        "Model.fit(X_train,y_train)\n",
        "y_pred=Model.predict(X_test)\n",
        "\n",
        "# Summary of the predictions made by the classifier\n",
        "print(classification_report(y_test,y_pred))\n",
        "print(confusion_matrix(y_pred,y_test))\n",
        "\n",
        "#Accuracy Score\n",
        "print('accuracy is ',accuracy_score(y_pred,y_test))"
      ],
      "execution_count": 31,
      "outputs": [
        {
          "output_type": "stream",
          "name": "stdout",
          "text": [
            "              precision    recall  f1-score   support\n",
            "\n",
            "      adware       1.00      0.94      0.97        18\n",
            "      benign       1.00      1.00      1.00        16\n",
            "     rootkit       0.92      1.00      0.96        11\n",
            "\n",
            "    accuracy                           0.98        45\n",
            "   macro avg       0.97      0.98      0.98        45\n",
            "weighted avg       0.98      0.98      0.98        45\n",
            "\n",
            "[[17  0  0]\n",
            " [ 0 16  0]\n",
            " [ 1  0 11]]\n",
            "accuracy is  0.9777777777777777\n"
          ]
        }
      ]
    },
    {
      "cell_type": "markdown",
      "metadata": {
        "id": "mEzx5RJw4o8K"
      },
      "source": [
        "<a id=\"27\"></a> <br>\n",
        "## 8-19  K- means \n",
        "\n",
        "It is a type of unsupervised algorithm which solves the clustering problem. Its procedure follows a simple and easy way to classify a given data set through a certain number of clusters (assume k clusters). Data points inside a cluster are homogeneous and heterogeneous to peer groups.\n",
        "\n",
        "Remember figuring out shapes from ink blots? k means is somewhat similar this activity. You look at the shape and spread to decipher how many different clusters / population are present!"
      ]
    },
    {
      "cell_type": "code",
      "metadata": {
        "execution": {
          "iopub.status.busy": "2021-11-20T19:43:04.284430Z",
          "iopub.execute_input": "2021-11-20T19:43:04.285029Z",
          "iopub.status.idle": "2021-11-20T19:43:05.038859Z",
          "shell.execute_reply.started": "2021-11-20T19:43:04.284941Z",
          "shell.execute_reply": "2021-11-20T19:43:05.037610Z"
        },
        "trusted": true,
        "id": "H745ZbnP4o8K",
        "colab": {
          "base_uri": "https://localhost:8080/",
          "height": 295
        },
        "outputId": "21df2742-61f4-4082-b184-32b0b2ee7216"
      },
      "source": [
        "x = data.iloc[:, [0, 1, 2, 3]].values\n",
        "\n",
        "#Finding the optimum number of clusters for k-means classification\n",
        "from sklearn.cluster import KMeans\n",
        "wcss = []\n",
        "\n",
        "for i in range(1, 11):\n",
        "    kmeans = KMeans(n_clusters = i, init = 'k-means++', max_iter = 300, n_init = 10, random_state = 0)\n",
        "    kmeans.fit(x)\n",
        "    wcss.append(kmeans.inertia_)\n",
        "    \n",
        "#Plotting the results onto a line graph, allowing us to observe 'The elbow'\n",
        "plt.plot(range(1, 11), wcss)\n",
        "plt.title('The elbow method')\n",
        "plt.xlabel('Number of clusters')\n",
        "plt.ylabel('WCSS') # within cluster sum of squares\n",
        "plt.show()"
      ],
      "execution_count": 32,
      "outputs": [
        {
          "output_type": "display_data",
          "data": {
            "image/png": "[encoded data removed]",
            "text/plain": [
              "<Figure size 432x288 with 1 Axes>"
            ]
          },
          "metadata": {
            "needs_background": "light"
          }
        }
      ]
    },
    {
      "cell_type": "code",
      "metadata": {
        "execution": {
          "iopub.status.busy": "2021-11-20T19:43:05.040975Z",
          "iopub.execute_input": "2021-11-20T19:43:05.041735Z",
          "iopub.status.idle": "2021-11-20T19:43:05.132277Z",
          "shell.execute_reply.started": "2021-11-20T19:43:05.041340Z",
          "shell.execute_reply": "2021-11-20T19:43:05.131332Z"
        },
        "trusted": true,
        "id": "KsmFq5mM4o8K"
      },
      "source": [
        "#Applying kmeans to the dataset / Creating the kmeans classifier\n",
        "kmeans = KMeans(n_clusters = 3, init = 'k-means++', max_iter = 300, n_init = 10, random_state = 0)\n",
        "y_kmeans = kmeans.fit_predict(x)"
      ],
      "execution_count": 33,
      "outputs": []
    },
    {
      "cell_type": "code",
      "metadata": {
        "execution": {
          "iopub.status.busy": "2021-11-20T19:43:05.134438Z",
          "iopub.execute_input": "2021-11-20T19:43:05.135008Z",
          "iopub.status.idle": "2021-11-20T19:43:05.799545Z",
          "shell.execute_reply.started": "2021-11-20T19:43:05.134774Z",
          "shell.execute_reply": "2021-11-20T19:43:05.798514Z"
        },
        "trusted": true,
        "id": "TvANuDg44o8K",
        "colab": {
          "base_uri": "https://localhost:8080/",
          "height": 285
        },
        "outputId": "5a4ea544-d1b9-4aeb-de92-095defb3ebd8"
      },
      "source": [
        "#Visualising the clusters\n",
        "\n",
        "plt.scatter(x[y_kmeans == 0, 0], x[y_kmeans == 0, 1], s = 100, c = 'red', label = 'benign')\n",
        "plt.scatter(x[y_kmeans == 1, 0], x[y_kmeans == 1, 1], s = 100, c = 'blue', label = 'adware')\n",
        "plt.scatter(x[y_kmeans == 2, 0], x[y_kmeans == 2, 1], s = 100, c = 'yellow', label = 'rootkit')\n",
        "\n",
        "#Plotting the centroids of the clusters\n",
        "plt.scatter(kmeans.cluster_centers_[:, 0], kmeans.cluster_centers_[:,1], s = 100, c = 'green', label = 'Centroids',marker='*')\n",
        "\n",
        "plt.legend()"
      ],
      "execution_count": 34,
      "outputs": [
        {
          "output_type": "execute_result",
          "data": {
            "text/plain": [
              "<matplotlib.legend.Legend at 0x7fdcda623c50>"
            ]
          },
          "metadata": {},
          "execution_count": 34
        },
        {
          "output_type": "display_data",
          "data": {
            "image/png": "[encoded data removed]",
            "text/plain": [
              "<Figure size 432x288 with 1 Axes>"
            ]
          },
          "metadata": {
            "needs_background": "light"
          }
        }
      ]
    }
  ]
}