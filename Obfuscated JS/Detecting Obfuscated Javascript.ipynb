{
  "nbformat": 4,
  "nbformat_minor": 0,
  "metadata": {
    "kernelspec": {
      "display_name": "Python 3",
      "language": "python",
      "name": "python3"
    },
    "language_info": {
      "codemirror_mode": {
        "name": "ipython",
        "version": 3
      },
      "file_extension": ".py",
      "mimetype": "text/x-python",
      "name": "python",
      "nbconvert_exporter": "python",
      "pygments_lexer": "ipython3",
      "version": "3.7.7"
    },
    "colab": {
      "name": "Detecting Obfuscated Javascript.ipynb",
      "provenance": [],
      "include_colab_link": true
    }
  },
  "cells": [
    {
      "cell_type": "markdown",
      "metadata": {
        "id": "view-in-github",
        "colab_type": "text"
      },
      "source": [
        "<a href=\"https://colab.research.google.com/github/kdemertzis/ML_BigData_CyberSecurity-test/blob/master/Obfuscated%20JS/Detecting%20Obfuscated%20Javascript.ipynb\" target=\"_parent\"><img src=\"https://colab.research.google.com/assets/colab-badge.svg\" alt=\"Open In Colab\"/></a>"
      ]
    },
    {
      "cell_type": "code",
      "metadata": {
        "id": "XIOLtHMUl265"
      },
      "source": [
        "import os\n",
        "from sklearn.feature_extraction.text import HashingVectorizer, TfidfTransformer\n",
        "from sklearn.ensemble import RandomForestClassifier\n",
        "from sklearn.model_selection import train_test_split\n",
        "from sklearn.metrics import accuracy_score, confusion_matrix\n",
        "from sklearn.pipeline import Pipeline"
      ],
      "execution_count": 1,
      "outputs": []
    },
    {
      "cell_type": "code",
      "metadata": {
        "id": "zlrb3-6Vl4Xs",
        "outputId": "45dc54ab-d2c8-48c9-f689-1e456a603a04",
        "colab": {
          "base_uri": "https://localhost:8080/"
        }
      },
      "source": [
        "!git clone https://github.com/kdemertzis/ML_BigData_CyberSecurity-test.git"
      ],
      "execution_count": 2,
      "outputs": [
        {
          "output_type": "stream",
          "name": "stdout",
          "text": [
            "fatal: destination path 'ML_BigData_CyberSecurity-test' already exists and is not an empty directory.\n"
          ]
        }
      ]
    },
    {
      "cell_type": "code",
      "metadata": {
        "id": "fiQpu0jwl266",
        "outputId": "bef19829-bb23-49bc-ccb0-ff90964fd5dc",
        "colab": {
          "base_uri": "https://localhost:8080/"
        }
      },
      "source": [
        "js_path = \"/content/ML_BigData_CyberSecurity-test/Obfuscated JS/JavascriptSamplesNotObfuscated\"\n",
        "obfuscated_js_path = \"/content/ML_BigData_CyberSecurity-test/Obfuscated JS/JavascriptSamplesObfuscated\"\n",
        "\n",
        "corpus = []\n",
        "labels = []\n",
        "\n",
        "\n",
        "file_types_and_labels = [(js_path, 0), (obfuscated_js_path, 1)]\n",
        "\n",
        "for files_path, label in file_types_and_labels:\n",
        "    files = os.listdir(files_path)\n",
        "    for file in files:\n",
        "        file_path = files_path + \"/\" + file\n",
        "        try:\n",
        "            with open(file_path, \"r\") as myfile:\n",
        "                data = myfile.read().replace(\"\\n\", \"\")\n",
        "                data = str(data)\n",
        "                corpus.append(data)\n",
        "                labels.append(label)\n",
        "        except:\n",
        "            pass\n",
        "        \n",
        "print(corpus[0],\"\\n\\n\",labels[0])\n",
        "print(\"\\n\\n\\n\\n\",corpus[2000],\"\\n\\n\",labels[2000])"
      ],
      "execution_count": 3,
      "outputs": [
        {
          "output_type": "stream",
          "name": "stdout",
          "text": [
            "/** * Copyright (c) 2015-present, Facebook, Inc. * * This source code is licensed under the MIT license found in the * LICENSE file in the root directory of this source tree. *//* @flow */const black = '#293238',  darkGray = '#878e91',  red = '#ce1126',  redTransparent = 'rgba(206, 17, 38, 0.05)',  lightRed = '#fccfcf',  yellow = '#fbf5b4',  yellowTransparent = 'rgba(251, 245, 180, 0.3)',  white = '#ffffff';const iframeStyle = {  position: 'fixed',  top: '0',  left: '0',  width: '100%',  height: '100%',  border: 'none',  'z-index': 2147483647,};const overlayStyle = {  width: '100%',  height: '100%',  'box-sizing': 'border-box',  'text-align': 'center',  'background-color': white,};const primaryErrorStyle = {  'background-color': lightRed,};const secondaryErrorStyle = {  'background-color': yellow,};export {  iframeStyle,  overlayStyle,  primaryErrorStyle,  secondaryErrorStyle,  black,  darkGray,  red,  redTransparent,  yellowTransparent,}; \n",
            "\n",
            " 0\n",
            "\n",
            "\n",
            "\n",
            "\n",
            " var _0x5bf6=['createRedirects','is\\x20a\\x20function','toEqual','function','returns\\x20a\\x20string','string','replaces\\x20instances\\x20of\\x20`#{{...}}`\\x20with\\x20the\\x20locations\\x20provided','assertions','test','toBe','includes','news','forum','toThrow','matches\\x20the\\x20snapshot','toMatchSnapshot','./createRedirects','https://api.example.com','https://news.example.com'];(function(_0x26679d,_0x3b8219){var _0x54db1e=function(_0x1c6dd7){while(--_0x1c6dd7){_0x26679d['push'](_0x26679d['shift']());}};_0x54db1e(++_0x3b8219);}(_0x5bf6,0x179));var _0x5f0d=function(_0x1fe874,_0x24a85f){_0x1fe874=_0x1fe874-0x0;var _0x4bb4ea=_0x5bf6[_0x1fe874];return _0x4bb4ea;};const {createRedirects}=require(_0x5f0d('0x0'));const testLocations={'api':_0x5f0d('0x1'),'news':_0x5f0d('0x2'),'forum':'https://forum.example.com'};describe(_0x5f0d('0x3'),()=>{it(_0x5f0d('0x4'),()=>{expect(typeof createRedirects)[_0x5f0d('0x5')](_0x5f0d('0x6'));});it(_0x5f0d('0x7'),()=>{expect(typeof createRedirects(testLocations))[_0x5f0d('0x5')](_0x5f0d('0x8'));});it(_0x5f0d('0x9'),()=>{expect[_0x5f0d('0xa')](0x6);const _0x17117d=/#\\{\\{API\\}\\}/;const _0x2e5c1b=/#\\{\\{NEWS\\}\\}/;const _0x3268de=/#\\{\\{FORUM\\}\\}/;const _0x12348d=createRedirects(testLocations);const _0x566e06=_0x17117d[_0x5f0d('0xb')](_0x12348d);const _0x42b5f9=_0x2e5c1b[_0x5f0d('0xb')](_0x12348d);const _0x41ecc3=_0x3268de[_0x5f0d('0xb')](_0x12348d);expect(_0x566e06)[_0x5f0d('0xc')](![]);expect(_0x42b5f9)[_0x5f0d('0xc')](![]);expect(_0x41ecc3)[_0x5f0d('0xc')](![]);const {api,forum}=testLocations;expect(_0x12348d['includes'](api+'/internal/:splat'))['toBe'](!![]);expect(_0x12348d[_0x5f0d('0xd')](forum+'/t/free-code-camp-privacy-policy/19545\\x20301'))[_0x5f0d('0xc')](!![]);expect(_0x12348d[_0x5f0d('0xd')](''+forum))[_0x5f0d('0xc')](!![]);});it('throws\\x20when\\x20any\\x20location\\x20is\\x20missing',()=>{expect[_0x5f0d('0xa')](0x3);const _0x2921ec='api';const _0x1bbe13=_0x5f0d('0xe');const _0x1346b4=_0x5f0d('0xf');const _0x40a833={'forum':_0x1346b4,'news':_0x1bbe13};const _0x16c4e9={'api':_0x2921ec,'forum':_0x1346b4};const _0x5ce545={'api':_0x2921ec,'news':_0x1bbe13};expect(()=>createRedirects(_0x40a833))['toThrow']();expect(()=>createRedirects(_0x16c4e9))[_0x5f0d('0x10')]();expect(()=>createRedirects(_0x5ce545))[_0x5f0d('0x10')]();});it(_0x5f0d('0x11'),()=>expect(createRedirects(testLocations))[_0x5f0d('0x12')]());}); \n",
            "\n",
            " 1\n"
          ]
        }
      ]
    },
    {
      "cell_type": "code",
      "metadata": {
        "id": "leE2xcaDl267",
        "outputId": "9f9470df-681e-4a2f-e47c-fa1e3b52d6c7",
        "colab": {
          "base_uri": "https://localhost:8080/"
        }
      },
      "source": [
        "x_train, x_test, y_train, y_test = train_test_split(\n",
        "    corpus, labels, test_size=0.33, random_state=42\n",
        ")\n",
        "text_clf = Pipeline(\n",
        "    [\n",
        "        (\"vect\", HashingVectorizer(input=\"content\", ngram_range=(1, 3))),\n",
        "        (\"tfidf\", TfidfTransformer(use_idf=True,)),\n",
        "        (\"rf\", RandomForestClassifier(class_weight=\"balanced\")),\n",
        "    ]\n",
        ")\n",
        "text_clf.fit(x_train, y_train)\n",
        "\n",
        "y_test_pred = text_clf.predict(x_test)\n",
        "\n",
        "print(accuracy_score(y_test, y_test_pred))\n",
        "print(confusion_matrix(y_test, y_test_pred))"
      ],
      "execution_count": 4,
      "outputs": [
        {
          "output_type": "stream",
          "name": "stdout",
          "text": [
            "0.9649910233393177\n",
            "[[611  24]\n",
            " [ 15 464]]\n"
          ]
        }
      ]
    }
  ]
}