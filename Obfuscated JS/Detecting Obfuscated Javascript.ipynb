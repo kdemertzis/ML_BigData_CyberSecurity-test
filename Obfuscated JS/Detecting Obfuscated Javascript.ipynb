{
 "cells": [
  {
   "cell_type": "code",
   "execution_count": 2,
   "metadata": {},
   "outputs": [],
   "source": [
    "import os\n",
    "from sklearn.feature_extraction.text import HashingVectorizer, TfidfTransformer\n",
    "from sklearn.ensemble import RandomForestClassifier\n",
    "from sklearn.model_selection import train_test_split\n",
    "from sklearn.metrics import accuracy_score, confusion_matrix\n",
    "from sklearn.pipeline import Pipeline"
   ]
  },
  {
   "cell_type": "code",
   "execution_count": 6,
   "metadata": {},
   "outputs": [
    {
     "name": "stdout",
     "output_type": "stream",
     "text": [
      "// Copyright Joyent, Inc. and other Node contributors.//// Permission is hereby granted, free of charge, to any person obtaining a// copy of this software and associated documentation files (the// \"Software\"), to deal in the Software without restriction, including// without limitation the rights to use, copy, modify, merge, publish,// distribute, sublicense, and/or sell copies of the Software, and to permit// persons to whom the Software is furnished to do so, subject to the// following conditions://// The above copyright notice and this permission notice shall be included// in all copies or substantial portions of the Software.//// THE SOFTWARE IS PROVIDED \"AS IS\", WITHOUT WARRANTY OF ANY KIND, EXPRESS// OR IMPLIED, INCLUDING BUT NOT LIMITED TO THE WARRANTIES OF// MERCHANTABILITY, FITNESS FOR A PARTICULAR PURPOSE AND NONINFRINGEMENT. IN// NO EVENT SHALL THE AUTHORS OR COPYRIGHT HOLDERS BE LIABLE FOR ANY CLAIM,// DAMAGES OR OTHER LIABILITY, WHETHER IN AN ACTION OF CONTRACT, TORT OR// OTHERWISE, ARISING FROM, OUT OF OR IN CONNECTION WITH THE SOFTWARE OR THE// USE OR OTHER DEALINGS IN THE SOFTWARE.'use strict';const { Buffer } = require('buffer');const {  kIncompleteCharactersStart,  kIncompleteCharactersEnd,  kMissingBytes,  kBufferedBytes,  kEncodingField,  kSize,  decode,  flush,  encodings} = internalBinding('string_decoder');const internalUtil = require('internal/util');const {  ERR_INVALID_ARG_TYPE,  ERR_UNKNOWN_ENCODING} = require('internal/errors').codes;const isEncoding = Buffer[internalUtil.kIsEncodingSymbol];const kNativeDecoder = Symbol('kNativeDecoder');// Do not cache `Buffer.isEncoding` when checking encoding names as some// modules monkey-patch it to support additional encodingsfunction normalizeEncoding(enc) {  const nenc = internalUtil.normalizeEncoding(enc);  if (nenc === undefined) {    if (Buffer.isEncoding === isEncoding || !Buffer.isEncoding(enc))      throw new ERR_UNKNOWN_ENCODING(enc);    return enc;  }  return nenc;}const encodingsMap = {};for (var i = 0; i < encodings.length; ++i)  encodingsMap[encodings[i]] = i;// StringDecoder provides an interface for efficiently splitting a series of// buffers into a series of JS strings without breaking apart multi-byte// characters.function StringDecoder(encoding) {  this.encoding = normalizeEncoding(encoding);  this[kNativeDecoder] = Buffer.alloc(kSize);  this[kNativeDecoder][kEncodingField] = encodingsMap[this.encoding];}StringDecoder.prototype.write = function write(buf) {  if (typeof buf === 'string')    return buf;  if (!ArrayBuffer.isView(buf))    throw new ERR_INVALID_ARG_TYPE('buf',                                   ['Buffer', 'TypedArray', 'DataView'],                                   buf);  return decode(this[kNativeDecoder], buf);};StringDecoder.prototype.end = function end(buf) {  let ret = '';  if (buf !== undefined)    ret = this.write(buf);  if (this[kNativeDecoder][kBufferedBytes] > 0)    ret += flush(this[kNativeDecoder]);  return ret;};/* Everything below this line is undocumented legacy stuff. */StringDecoder.prototype.text = function text(buf, offset) {  this[kNativeDecoder][kMissingBytes] = 0;  this[kNativeDecoder][kBufferedBytes] = 0;  return this.write(buf.slice(offset));};Object.defineProperties(StringDecoder.prototype, {  lastChar: {    configurable: true,    enumerable: true,    get() {      return this[kNativeDecoder].subarray(kIncompleteCharactersStart,                                           kIncompleteCharactersEnd);    }  },  lastNeed: {    configurable: true,    enumerable: true,    get() {      return this[kNativeDecoder][kMissingBytes];    }  },  lastTotal: {    configurable: true,    enumerable: true,    get() {      return this[kNativeDecoder][kBufferedBytes] +             this[kNativeDecoder][kMissingBytes];    }  }});exports.StringDecoder = StringDecoder; \n",
      "\n",
      " 0\n",
      "\n",
      "\n",
      "\n",
      "\n",
      " var _0x4387=['incomingEdges','outgoingEdges','edge_count','length','push','strictEqual','\\x20!==\\x20','isArray','type','hidden','string','number','node','inspect','name','value','constructor','validateSnapshot','filter','Expect\\x20to\\x20find\\x20at\\x20least\\x20','\\x27,\\x20','found\\x20','Expect\\x20to\\x20find\\x20','children','some','expected\\x20to\\x20find\\x20child\\x20','\\x20in\\x20','validateGraph','embedderGraph','function','validateSnapshotNodes','exports','assert','util','internal/test/binding','internalBinding','log','using\\x20`test/common/heap.js`\\x20requires\\x20`--expose-internals`','heap_utils','pause','snapshot','nodes','node_fields','node_types','strings','edges','edge_fields','edge_types'];(function(_0x16988e,_0x370cea){var _0x4e491a=function(_0x3f637d){while(--_0x3f637d){_0x16988e['push'](_0x16988e['shift']());}};_0x4e491a(++_0x370cea);}(_0x4387,0xb0));var _0x54fe=function(_0xf27649,_0x7063f9){_0xf27649=_0xf27649-0x0;var _0x5720f2=_0x4387[_0xf27649];return _0x5720f2;};/* eslint-disable node-core/required-modules */'use strict';const assert=require(_0x54fe('0x0'));const util=require(_0x54fe('0x1'));let internalBinding;try{internalBinding=require(_0x54fe('0x2'))[_0x54fe('0x3')];}catch(_0x47581b){console[_0x54fe('0x4')](_0x54fe('0x5'));throw _0x47581b;}const {buildEmbedderGraph}=internalBinding(_0x54fe('0x6'));const {getHeapSnapshot}=require('v8');function createJSHeapSnapshot(){const _0x1b8680=getHeapSnapshot();_0x1b8680[_0x54fe('0x7')]();const _0x31adfe=JSON['parse'](_0x1b8680['read']());const _0x2876ac=_0x31adfe[_0x54fe('0x8')]['meta'];const _0x302a50=readHeapInfo(_0x31adfe[_0x54fe('0x9')],_0x2876ac[_0x54fe('0xa')],_0x2876ac[_0x54fe('0xb')],_0x31adfe[_0x54fe('0xc')]);const _0x17d8e6=readHeapInfo(_0x31adfe[_0x54fe('0xd')],_0x2876ac[_0x54fe('0xe')],_0x2876ac[_0x54fe('0xf')],_0x31adfe[_0x54fe('0xc')]);for(const _0xce9810 of _0x302a50){_0xce9810[_0x54fe('0x10')]=[];_0xce9810[_0x54fe('0x11')]=[];}let _0x2f1117=0x0;let _0x148ee2=0x0;for(const {type,name_or_index,to_node}of _0x17d8e6){while(_0x148ee2===_0x302a50[_0x2f1117][_0x54fe('0x12')]){_0x148ee2=0x0;_0x2f1117++;}const _0x18bc28=_0x302a50[to_node/_0x2876ac[_0x54fe('0xa')][_0x54fe('0x13')]];const _0x2cd248=_0x302a50[_0x2f1117];const _0x25599d={'type':type,'to':_0x18bc28,'from':_0x2cd248,'name':typeof name_or_index==='string'?name_or_index:null};_0x18bc28[_0x54fe('0x10')][_0x54fe('0x14')](_0x25599d);_0x2cd248[_0x54fe('0x11')]['push'](_0x25599d);_0x148ee2++;}for(const _0x3736b2 of _0x302a50){assert[_0x54fe('0x15')](_0x3736b2[_0x54fe('0x12')],_0x3736b2['outgoingEdges'][_0x54fe('0x13')],_0x3736b2[_0x54fe('0x12')]+_0x54fe('0x16')+_0x3736b2[_0x54fe('0x11')][_0x54fe('0x13')]);}return _0x302a50;}function readHeapInfo(_0x1d0891,_0x5b48c4,_0x10c06b,_0x4b26ed){const _0x12963e=[];for(let _0x36134d=0x0;_0x36134d<_0x1d0891[_0x54fe('0x13')];_0x36134d+=_0x5b48c4[_0x54fe('0x13')]){const _0x10dd48={};for(let _0x5bcc6e=0x0;_0x5bcc6e<_0x5b48c4[_0x54fe('0x13')];_0x5bcc6e++){const _0x4c9f55=_0x5b48c4[_0x5bcc6e];let _0x38e127=_0x10c06b[_0x5bcc6e];if(Array[_0x54fe('0x17')](_0x38e127)){_0x10dd48[_0x4c9f55]=_0x38e127[_0x1d0891[_0x36134d+_0x5bcc6e]];}else if(_0x4c9f55==='name_or_index'){if(_0x10dd48[_0x54fe('0x18')]==='element'||_0x10dd48[_0x54fe('0x18')]===_0x54fe('0x19'))_0x38e127='number';else _0x38e127='string';}if(_0x38e127===_0x54fe('0x1a')){_0x10dd48[_0x4c9f55]=_0x4b26ed[_0x1d0891[_0x36134d+_0x5bcc6e]];}else if(_0x38e127===_0x54fe('0x1b')||_0x38e127===_0x54fe('0x1c')){_0x10dd48[_0x4c9f55]=_0x1d0891[_0x36134d+_0x5bcc6e];}}_0x12963e[_0x54fe('0x14')](_0x10dd48);}return _0x12963e;}function inspectNode(_0x50bfa3){return util[_0x54fe('0x1d')](_0x50bfa3,{'depth':0x4});}function isEdge(_0x71f41d,{node_name,edge_name}){if(_0x71f41d[_0x54fe('0x1e')]!==edge_name){return![];}if(_0x71f41d['to']['value']){if(_0x71f41d['to'][_0x54fe('0x1f')][_0x54fe('0x20')][_0x54fe('0x1e')]!==node_name){return![];}}else if(_0x71f41d['to'][_0x54fe('0x1e')]!==node_name){return![];}return!![];}class State{constructor(){this[_0x54fe('0x8')]=createJSHeapSnapshot();this['embedderGraph']=buildEmbedderGraph();}[_0x54fe('0x21')](_0x703bd2,_0x2b3971,{loose=![]}={}){const _0x2c712a=this[_0x54fe('0x8')][_0x54fe('0x22')](_0x3c798=>_0x3c798['name']===_0x703bd2&&_0x3c798['type']!==_0x54fe('0x1a'));if(loose){assert(_0x2c712a['length']>=_0x2b3971[_0x54fe('0x13')],_0x54fe('0x23')+_0x2b3971[_0x54fe('0x13')]+'\\x20\\x27'+_0x703bd2+_0x54fe('0x24')+(_0x54fe('0x25')+_0x2c712a['length']));}else{assert[_0x54fe('0x15')](_0x2c712a[_0x54fe('0x13')],_0x2b3971[_0x54fe('0x13')],_0x54fe('0x26')+_0x2b3971[_0x54fe('0x13')]+'\\x20\\x27'+_0x703bd2+_0x54fe('0x24')+(_0x54fe('0x25')+_0x2c712a['length']));}for(const _0x483fb3 of _0x2b3971){if(_0x483fb3['children']){for(const _0x19661b of _0x483fb3[_0x54fe('0x27')]){const _0xfccf98=typeof _0x19661b==='function'?_0x19661b:_0x16cc3f=>isEdge(_0x16cc3f,_0x19661b);const _0x20f629=_0x2c712a[_0x54fe('0x28')](_0x2c0e0e=>_0x2c0e0e[_0x54fe('0x11')][_0x54fe('0x28')](_0xfccf98));if(!_0x20f629){throw new Error(_0x54fe('0x29')+(util[_0x54fe('0x1d')](_0x19661b)+_0x54fe('0x2a')+inspectNode(_0x2c712a)));}}}}}[_0x54fe('0x2b')](_0x4406ab,_0x475f7c,{loose=![]}={}){const _0x45e563=this[_0x54fe('0x2c')][_0x54fe('0x22')](_0x2c249b=>_0x2c249b[_0x54fe('0x1e')]===_0x4406ab);if(loose){assert(_0x45e563[_0x54fe('0x13')]>=_0x475f7c[_0x54fe('0x13')],_0x54fe('0x23')+_0x475f7c[_0x54fe('0x13')]+'\\x20\\x27'+_0x4406ab+'\\x27,\\x20'+(_0x54fe('0x25')+_0x45e563[_0x54fe('0x13')]));}else{assert['strictEqual'](_0x45e563[_0x54fe('0x13')],_0x475f7c[_0x54fe('0x13')],_0x54fe('0x26')+_0x475f7c[_0x54fe('0x13')]+'\\x20\\x27'+_0x4406ab+_0x54fe('0x24')+(_0x54fe('0x25')+_0x45e563['length']));}for(const _0x539256 of _0x475f7c){if(_0x539256[_0x54fe('0x27')]){for(const _0x1630d4 of _0x539256[_0x54fe('0x27')]){const _0xc86c9=typeof _0x1630d4===_0x54fe('0x2d')?_0x1630d4:_0x4808b2=>isEdge(_0x4808b2,_0x1630d4);const _0xd43830=_0x45e563['some'](_0x50b853=>_0x50b853['edges'][_0x54fe('0x28')](_0xc86c9));if(!_0xd43830){throw new Error(_0x54fe('0x29')+(util[_0x54fe('0x1d')](_0x1630d4)+_0x54fe('0x2a')+inspectNode(_0x45e563)));}}}}}['validateSnapshotNodes'](_0x21f0fb,_0x3ae6dd,{loose=![]}={}){this['validateSnapshot'](_0x21f0fb,_0x3ae6dd,{'loose':loose});this['validateGraph'](_0x21f0fb,_0x3ae6dd,{'loose':loose});}}function recordState(){return new State();}function validateSnapshotNodes(..._0x3ac0a4){return recordState()[_0x54fe('0x2e')](..._0x3ac0a4);}module[_0x54fe('0x2f')]={'recordState':recordState,'validateSnapshotNodes':validateSnapshotNodes}; \n",
      "\n",
      " 1\n"
     ]
    }
   ],
   "source": [
    "js_path = \"./JavascriptSamplesNotObfuscated\"\n",
    "obfuscated_js_path = \"./JavascriptSamplesObfuscated\"\n",
    "\n",
    "corpus = []\n",
    "labels = []\n",
    "\n",
    "\n",
    "file_types_and_labels = [(js_path, 0), (obfuscated_js_path, 1)]\n",
    "\n",
    "for files_path, label in file_types_and_labels:\n",
    "    files = os.listdir(files_path)\n",
    "    for file in files:\n",
    "        file_path = files_path + \"/\" + file\n",
    "        try:\n",
    "            with open(file_path, \"r\") as myfile:\n",
    "                data = myfile.read().replace(\"\\n\", \"\")\n",
    "                data = str(data)\n",
    "                corpus.append(data)\n",
    "                labels.append(label)\n",
    "        except:\n",
    "            pass\n",
    "        \n",
    "print(corpus[0],\"\\n\\n\",labels[0])\n",
    "print(\"\\n\\n\\n\\n\",corpus[2000],\"\\n\\n\",labels[2000])"
   ]
  },
  {
   "cell_type": "code",
   "execution_count": 7,
   "metadata": {},
   "outputs": [
    {
     "name": "stdout",
     "output_type": "stream",
     "text": [
      "0.9712746858168761\n",
      "[[611  24]\n",
      " [  8 471]]\n"
     ]
    }
   ],
   "source": [
    "X_train, X_test, y_train, y_test = train_test_split(\n",
    "    corpus, labels, test_size=0.33, random_state=42\n",
    ")\n",
    "text_clf = Pipeline(\n",
    "    [\n",
    "        (\"vect\", HashingVectorizer(input=\"content\", ngram_range=(1, 3))),\n",
    "        (\"tfidf\", TfidfTransformer(use_idf=True,)),\n",
    "        (\"rf\", RandomForestClassifier(class_weight=\"balanced\")),\n",
    "    ]\n",
    ")\n",
    "text_clf.fit(X_train, y_train)\n",
    "\n",
    "y_test_pred = text_clf.predict(X_test)\n",
    "\n",
    "print(accuracy_score(y_test, y_test_pred))\n",
    "print(confusion_matrix(y_test, y_test_pred))"
   ]
  },
  {
   "cell_type": "code",
   "execution_count": null,
   "metadata": {},
   "outputs": [],
   "source": []
  }
 ],
 "metadata": {
  "kernelspec": {
   "display_name": "Python 3",
   "language": "python",
   "name": "python3"
  },
  "language_info": {
   "codemirror_mode": {
    "name": "ipython",
    "version": 3
   },
   "file_extension": ".py",
   "mimetype": "text/x-python",
   "name": "python",
   "nbconvert_exporter": "python",
   "pygments_lexer": "ipython3",
   "version": "3.7.7"
  }
 },
 "nbformat": 4,
 "nbformat_minor": 4
}
